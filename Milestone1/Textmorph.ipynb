{
  "cells": [
    {
      "cell_type": "markdown",
      "metadata": {
        "id": "otGaT0FPiBgk"
      },
      "source": [
        "### Section 0.1: Install Libraries\n",
        "Install required dependencies (no NLTK, spaCy, langdetect, textstat, or wordcloud).\n",
        "### Import Libraries\n",
        "Import necessary libraries."
      ]
    },
    {
      "cell_type": "code",
      "source": [
        "import warnings\n",
        "warnings.filterwarnings('ignore')"
      ],
      "metadata": {
        "id": "cT7I_aX-YjTq"
      },
      "execution_count": 1,
      "outputs": []
    },
    {
      "cell_type": "code",
      "execution_count": 2,
      "metadata": {
        "colab": {
          "base_uri": "https://localhost:8080/"
        },
        "id": "K7r_cf92iGjQ",
        "outputId": "a02501eb-8a42-4151-841e-99d3e731bc1b"
      },
      "outputs": [
        {
          "output_type": "stream",
          "name": "stdout",
          "text": [
            "Libraries installed.\n",
            "Libraries imported.\n"
          ]
        }
      ],
      "source": [
        "!pip install transformers sentencepiece sentence-transformers scikit-learn matplotlib pandas --quiet\n",
        "print(\"Libraries installed.\")\n",
        "import matplotlib.pyplot as plt\n",
        "from collections import Counter\n",
        "import textwrap\n",
        "import re\n",
        "import requests\n",
        "import ssl\n",
        "from transformers import T5ForConditionalGeneration, T5Tokenizer\n",
        "from transformers import BartForConditionalGeneration, BartTokenizer\n",
        "from transformers import PegasusForConditionalGeneration, PegasusTokenizer\n",
        "from sentence_transformers import SentenceTransformer\n",
        "from sklearn.metrics.pairwise import cosine_similarity\n",
        "\n",
        "# Handle SSL for file downloads\n",
        "try:\n",
        "    _create_unverified_https_context = ssl._create_unverified_context\n",
        "except AttributeError:\n",
        "    pass\n",
        "else:\n",
        "    ssl._create_default_https_context = _create_unverified_https_context\n",
        "\n",
        "print(\"Libraries imported.\")"
      ]
    },
    {
      "cell_type": "markdown",
      "metadata": {
        "id": "h75sUp1kiuX9"
      },
      "source": [
        "### Section 0.2: Load Summarization Models\n",
        "Load T5, BART, and PEGASUS for summarization."
      ]
    },
    {
      "cell_type": "code",
      "execution_count": 3,
      "metadata": {
        "colab": {
          "base_uri": "https://localhost:8080/",
          "height": 682,
          "referenced_widgets": [
            "7cdb8229ecc5455f945db24df93d4422",
            "4e2b25d783fd472e83f29592810209f2",
            "1fd221c5d23646fd90140fa0a19439c6",
            "2dc165e5563b4028a0fd9607ba7f2f4e",
            "2a07ef0a7f0f49feace35a418f363695",
            "3ff3342014154d739bd38013c09b239d",
            "15d2ab48a0004cb0ba911656c688b12d",
            "88c0342eda544e4cb1c3d3ff2d24c288",
            "1d943d5a45b744d59567bd169eccd105",
            "638b7b34024e459792a7ce072466e636",
            "e779747854df4612a53ebb2a113a75f0",
            "e628ff6134c5484a9dad5d9821eed298",
            "0974779f848440e7b751bfbb74b800a6",
            "806ba44778d74ea38d4ea38b6a01090c",
            "4111240adc1541709bd7ee1f82612f88",
            "25edb29d408b483099f35749de4df9e6",
            "c077626f6dec49de8ef24157359344d2",
            "b3b53f0b2dfc47b687593dda5df9c50e",
            "7ff1ea7b756045e487f45524ed1205d3",
            "7e0eaf65eeec45a8bd63e880acc82718",
            "9405906dc7434ad6addb61e21084c44e",
            "2d2396d131c7491a9f2c27620d0e31c3",
            "b48b689c08004543abe50c8be743c69f",
            "f6d9f8dd236a475a905e93dd56223f9d",
            "a601e63c20e44d5d9617db48b77e2dc2",
            "a67b076c5354470288ecbe013dd96189",
            "22a03d83a0294f72aa7306b6cf1e3fae",
            "dd476c24f0294a13bdf7277bd1da3dca",
            "e805ef8fd8584ea78d7162b9effc91f7",
            "0b3fd7b0f192409f86d564245ad54789",
            "940438637cf44d2e87e963390e67ad55",
            "c62dc137278542e4b9607b0c4374ca58",
            "3e1cebe6cbb84386911b1a2dd72f4a98",
            "4ef149172e064f41b84828403fcaf8f1",
            "d485bd6e57c6443e9dc63c082829bbc0",
            "95fdd67454ee467bb4f3ac4a66d7b7e6",
            "ffc0f2698aae43f2acaf06fb6677997a",
            "2d90b8b6cd074c82936ba02e5f49dc95",
            "3fd060b6364d40878195d0bb826fe396",
            "7f5471f091c5439a808177db3c71f192",
            "2a26defc39a2414cb3a6de4e895e8709",
            "005ae141f3dd4cbd929e338bfb5d4e91",
            "92b64f544b964b35b66dd57bb6d165ca",
            "92462e732ee3433aa97be87b4ccbf43a",
            "cf8f5d1f5186477e893e9417d6d448ee",
            "86745a57ac094cb9ba20e4a00802ee11",
            "977c269fce1d4dcd97c3c56f8326e900",
            "890cb55e94f049d582b72364646b78b5",
            "b766e712b5734e2cbbc2bb64b8e1f58c",
            "5cb2a367365241b19f17928ca3c94ca9",
            "f485971bd3d74383916dfe9a69e0e85c",
            "3de7b65ddccd4fc4affaf0082d4bb024",
            "7deeded96be840c895a11067760a3a6b",
            "06c3895bf2a74e6f8a5e2ca9fa4cccf6",
            "69e5329bf9af4d38b9f30cead9093295",
            "c0a4715a58ea4c338cb3af0704f1c85e",
            "9a4af5330a9443d59b9642e6eff4ea83",
            "7fa6aa52798e4853900b3a30ef6b79ca",
            "5c8680d4623d44a29099f2dfc7b4d4f1",
            "53c319838953406ba78425ee180722fa",
            "01de7123e98d44f6a889de8dc3423fad",
            "b8125f94c425442ea060571d7332a1fc",
            "1fd01d0b0b8f4c6c8ba5fc0e27913e41",
            "857a5a03c45a474fa03c64e147c387fd",
            "ae079cf8091d4734ba71e7a7978385a6",
            "6dc751bbcb084309be28f660bef1468a",
            "706c9e235a1a4a0cb400bc0b99e1878e",
            "ff729d9cf2674ef1aaf8e1181545f604",
            "9edc8fbc78db40f596133098c1e3d45f",
            "c730c72a09e441b1b833e9a8ad6e9b49",
            "19d2b081ac3a404b99e7ea4b1ee36392",
            "f2f304a2835d4b3fbd9f685732f58d7a",
            "9a424165b48b4c89b62c2e9072ac01c1",
            "698a476e29454746bf5defe338f61017",
            "18f5a72516914a7183d2ddd7bb121a4a",
            "6f9c973e1b50440bb24f3fbfff1b78f9",
            "471f54d59dbf4fad97782b4dfce33fbf",
            "5e382b1cc30f4be883bef98c9b467aba",
            "f274040661164dfeae9067ceb938fb2f",
            "0c0adf7461c046b59924c1b00dfd19a6",
            "2e15979a21ed4e73b41d5ab10e1b8781",
            "e7b84e93d02d48a8ae8df1a25f706497",
            "e2495b2c8375448998f6c506ff6783d1",
            "4e16a6a5c0d448ac8083011c505ff19a",
            "62c52c6fde084e66bb1857af7756abb5",
            "6c582cec8b5740faa14fbef377c5a357",
            "2797581e00d04dbe974ded5ec2775c6e",
            "9a2ba1c294864114ad04800988849d22",
            "812c570ea6c843358d38e31dfc1a8e0a",
            "68bed712854840da9b356e384e3f8dd2",
            "402727a6c36849a799f2e881f1f7c7c6",
            "571ddb80eccd4c01abf452c182d77221",
            "d0b3aafe7e8b4a3c93abc852715285d3",
            "07c0fe27209044f2bc2d9233ac0e579f",
            "0008a11549c84b589738c6149dbf0d51",
            "61ecc2cea56044fcacf3d0837cc7d19c",
            "f39a449b2c3e46428b0ac08f376905e2",
            "f7d4767d4fc64bb7abb78b90cca59056",
            "2e44ca30c1274caa9fea2ca63a1a0397",
            "e9ee9792df4246a7ac86a8dbcb90a50d",
            "1392f3ff4db6415580f3cf03f7d58bbf",
            "5029d537e0754838a47fda381e53789a",
            "83f904cdd5044f018ddccc81f7dac420",
            "20f17ea6f54147a291a47cfa8f8f350d",
            "5c49e008ec5747f28980a7f63ca7959f",
            "51304f72437e4aafa875a6f8b73649d6",
            "2a0d0dcfaf7e46e5ab3e81f78044751d",
            "e1e163dea6de45fc89517db325024d72",
            "014cbb6229ba43e3bdf941ea5a24d11e",
            "05135532879c402a887bac55ed7eafd0",
            "03bb84c31e1c454891101863a8f719be",
            "6162272de4ba4ffca1caedfdf846be1b",
            "a119f672ce7e4e35912e7725b550bf49",
            "f6cbfdaf7b5042329a20b30432ef138b",
            "929482a88fed4c3e819a60b5200435e3",
            "1b104b87532c4efab6f3365a96e79a56",
            "69d7ff41b17c4bdd8eeb86c28141829a",
            "da2fc10963cf45a0b4549c81572f5ac5",
            "b7b24d7b0a5946a5b6706abb671b948f",
            "0e2d17e5e89f449e899656840eb411ef",
            "666d3225afed455d9c9094fa44690639",
            "983939230a124114a7cf6404ca6ae35d",
            "ec3aea827b5644a08ee6a43a81513f30",
            "8913252bfec742ceb82a33053af9cfad",
            "8302803169de4d53abf829b111b89e84",
            "b23e3cae25bf4ae4b7c258dd810b2e6f",
            "7a467342f77e4c91ab5c5ac41b90c1af",
            "f390482cbd0f43ecb8c84aa3f355ae1b",
            "2c05a5387842485090eda35265a1c1c3",
            "94e41e92eede460b872400f2a04d303b",
            "a666b13400dc4c328ea72fd14496c6e5",
            "d622df90ce4d49868e8d0094e8207097",
            "670f70b8e4bf460c8b94b6275e54a459",
            "223bd41d2bb64f21bbf0978976ea8a07",
            "c58b8dfd992544afa949ea8c94f34242",
            "87981a3a23ec4e2099964e06bec7cd1d",
            "9fd4261de284479ba52e0197df45e492",
            "9557138667ab48ab983dce4e61b78a06",
            "1e777eff52134cb6befeb7dd46ee1de9",
            "8e0f242bb3ad45578e887b142d1f8646",
            "2dae7561b2e84511a24755295bee36d8",
            "de1b0c2e53304d21991a2cba5e15b882",
            "15b817584eff4b3e9e47d43f8d62ccad",
            "c7c3a1d604a2497b8b98f3f3d1274cf0",
            "2fb2ddb3b00641b799c18e9a4841bb12",
            "a14da19eba1340f781d3e92d16f63351",
            "f01cd9837d0a40b6b1231f1ab2c54417",
            "adee5e8c63c3487baebbc53894edf817",
            "0f6a70f4fbd64ce690a861d3d90d7c02",
            "3d8d1fa7a0c04f44af257c20a905d004",
            "add32d905aa64ac1a9c48bf0be33d95a",
            "fb31862a56f648a98370611be4743af8",
            "465e8ad159d44181b3ac70cf11996641",
            "3df8f6da59fd4d669530eb463a4e56e7",
            "f2919b0c37e4417f842c780fec80cdff",
            "0e7ea033332645e3811807d40556423b",
            "fc81946d44254a0ba7633593d3208663",
            "996d830f276f4dd7991e383d3e10108a",
            "c8b96112dd684d6ba15110c010e02b63",
            "128f0980e4be48da8c19a8f07a276def",
            "6052b2700d2a4e0280de4a183b3e66c9",
            "1a9a70fc46404f60ad438360e0371fee",
            "914c557a25bc4b1cbc8ed04fe86dbfef",
            "7c11d8ca4cf946c18d1e1c0dd97658a5",
            "5fc7c436c25b47e6abebb55e5b4ad8c4",
            "313e4612b04f41f4b1a6346d52de2e90",
            "cbd105e00f5f4cc29cfb34e1badd38a6",
            "b78525ca381f4723ac1776eed29c2da1",
            "36aee8cea0b9405fbf1f3f819f14ffd7",
            "5162cb52b7b042afb4fc260ec54a7126",
            "e43a4503acdf4d1b89167464b729447f",
            "f802fd38dc6140bf9cf0c59e49ff56d7",
            "8ec180c034604674b9385d38487ea9ff",
            "f9242d34efda4b39a79ba3d138340e80",
            "d652d5ad01cb412b9b566dd075c9eae7",
            "031471e16e3c4b85a80ed3a2cd1d55be",
            "9ad0290818e14a218b96ef796d493c55",
            "a80900fab353477ba1a2c180dacdec19",
            "11270b42d6594fedb278e6a1c52d0b20",
            "8ae396868d064c1ca80d1b52f989f03e",
            "36b343667f774adb93a36a43966bebc8",
            "fdcd2eb9151f454ea93ca6f1c2e995b9",
            "9bd9dc42229345f598789ac08ded6231",
            "2d4eb15ae2ed48e78cca0ac96891388f",
            "7461e6bcf8e9402cb0843a57ead474f8",
            "59a1a96d69bf450caee87902a4b8208c",
            "c889fc6d4e104e16beb186e014ff7291",
            "8cb176b09e2b472296b9edfa89ab432f",
            "d8ee2507681440149886e33ec21fbd1a",
            "949778d4a62341d0b2e0900eb994e918",
            "1f125e4e2af940499be5304ed0212eab",
            "d51a192874364894bfaa3e924d262a15",
            "8f937dfa03564c109f181054185aa09c",
            "3fa844d3ddde41a9a43c2619bf899821",
            "594a6cd0763445549bb0faa6abbcf976",
            "d64582d8d52b40ab9e6178faa6b54d55",
            "5cf51ace7c4346449f4ddc89b30ba678",
            "fa57ada985b742279c68eac5bb6db2e6"
          ]
        },
        "id": "buI7EoqrivUG",
        "outputId": "7289efd4-b6ea-4d93-d28a-7eb8e0a733bd"
      },
      "outputs": [
        {
          "output_type": "display_data",
          "data": {
            "text/plain": [
              "spiece.model:   0%|          | 0.00/792k [00:00<?, ?B/s]"
            ],
            "application/vnd.jupyter.widget-view+json": {
              "version_major": 2,
              "version_minor": 0,
              "model_id": "7cdb8229ecc5455f945db24df93d4422"
            }
          },
          "metadata": {}
        },
        {
          "output_type": "display_data",
          "data": {
            "text/plain": [
              "tokenizer.json:   0%|          | 0.00/1.39M [00:00<?, ?B/s]"
            ],
            "application/vnd.jupyter.widget-view+json": {
              "version_major": 2,
              "version_minor": 0,
              "model_id": "e628ff6134c5484a9dad5d9821eed298"
            }
          },
          "metadata": {}
        },
        {
          "output_type": "display_data",
          "data": {
            "text/plain": [
              "config.json:   0%|          | 0.00/1.21k [00:00<?, ?B/s]"
            ],
            "application/vnd.jupyter.widget-view+json": {
              "version_major": 2,
              "version_minor": 0,
              "model_id": "b48b689c08004543abe50c8be743c69f"
            }
          },
          "metadata": {}
        },
        {
          "output_type": "stream",
          "name": "stderr",
          "text": [
            "You are using the default legacy behaviour of the <class 'transformers.models.t5.tokenization_t5.T5Tokenizer'>. This is expected, and simply means that the `legacy` (previous) behavior will be used so nothing changes for you. If you want to use the new behaviour, set `legacy=False`. This should only be set if you understand what it means, and thoroughly read the reason why this was added as explained in https://github.com/huggingface/transformers/pull/24565\n"
          ]
        },
        {
          "output_type": "display_data",
          "data": {
            "text/plain": [
              "model.safetensors:   0%|          | 0.00/892M [00:00<?, ?B/s]"
            ],
            "application/vnd.jupyter.widget-view+json": {
              "version_major": 2,
              "version_minor": 0,
              "model_id": "4ef149172e064f41b84828403fcaf8f1"
            }
          },
          "metadata": {}
        },
        {
          "output_type": "display_data",
          "data": {
            "text/plain": [
              "generation_config.json:   0%|          | 0.00/147 [00:00<?, ?B/s]"
            ],
            "application/vnd.jupyter.widget-view+json": {
              "version_major": 2,
              "version_minor": 0,
              "model_id": "cf8f5d1f5186477e893e9417d6d448ee"
            }
          },
          "metadata": {}
        },
        {
          "output_type": "display_data",
          "data": {
            "text/plain": [
              "vocab.json: 0.00B [00:00, ?B/s]"
            ],
            "application/vnd.jupyter.widget-view+json": {
              "version_major": 2,
              "version_minor": 0,
              "model_id": "c0a4715a58ea4c338cb3af0704f1c85e"
            }
          },
          "metadata": {}
        },
        {
          "output_type": "display_data",
          "data": {
            "text/plain": [
              "merges.txt: 0.00B [00:00, ?B/s]"
            ],
            "application/vnd.jupyter.widget-view+json": {
              "version_major": 2,
              "version_minor": 0,
              "model_id": "706c9e235a1a4a0cb400bc0b99e1878e"
            }
          },
          "metadata": {}
        },
        {
          "output_type": "display_data",
          "data": {
            "text/plain": [
              "tokenizer.json: 0.00B [00:00, ?B/s]"
            ],
            "application/vnd.jupyter.widget-view+json": {
              "version_major": 2,
              "version_minor": 0,
              "model_id": "5e382b1cc30f4be883bef98c9b467aba"
            }
          },
          "metadata": {}
        },
        {
          "output_type": "display_data",
          "data": {
            "text/plain": [
              "config.json: 0.00B [00:00, ?B/s]"
            ],
            "application/vnd.jupyter.widget-view+json": {
              "version_major": 2,
              "version_minor": 0,
              "model_id": "812c570ea6c843358d38e31dfc1a8e0a"
            }
          },
          "metadata": {}
        },
        {
          "output_type": "display_data",
          "data": {
            "text/plain": [
              "model.safetensors:   0%|          | 0.00/558M [00:00<?, ?B/s]"
            ],
            "application/vnd.jupyter.widget-view+json": {
              "version_major": 2,
              "version_minor": 0,
              "model_id": "e9ee9792df4246a7ac86a8dbcb90a50d"
            }
          },
          "metadata": {}
        },
        {
          "output_type": "display_data",
          "data": {
            "text/plain": [
              "tokenizer_config.json:   0%|          | 0.00/87.0 [00:00<?, ?B/s]"
            ],
            "application/vnd.jupyter.widget-view+json": {
              "version_major": 2,
              "version_minor": 0,
              "model_id": "03bb84c31e1c454891101863a8f719be"
            }
          },
          "metadata": {}
        },
        {
          "output_type": "display_data",
          "data": {
            "text/plain": [
              "spiece.model:   0%|          | 0.00/1.91M [00:00<?, ?B/s]"
            ],
            "application/vnd.jupyter.widget-view+json": {
              "version_major": 2,
              "version_minor": 0,
              "model_id": "983939230a124114a7cf6404ca6ae35d"
            }
          },
          "metadata": {}
        },
        {
          "output_type": "display_data",
          "data": {
            "text/plain": [
              "special_tokens_map.json:   0%|          | 0.00/65.0 [00:00<?, ?B/s]"
            ],
            "application/vnd.jupyter.widget-view+json": {
              "version_major": 2,
              "version_minor": 0,
              "model_id": "670f70b8e4bf460c8b94b6275e54a459"
            }
          },
          "metadata": {}
        },
        {
          "output_type": "display_data",
          "data": {
            "text/plain": [
              "tokenizer.json: 0.00B [00:00, ?B/s]"
            ],
            "application/vnd.jupyter.widget-view+json": {
              "version_major": 2,
              "version_minor": 0,
              "model_id": "c7c3a1d604a2497b8b98f3f3d1274cf0"
            }
          },
          "metadata": {}
        },
        {
          "output_type": "display_data",
          "data": {
            "text/plain": [
              "config.json: 0.00B [00:00, ?B/s]"
            ],
            "application/vnd.jupyter.widget-view+json": {
              "version_major": 2,
              "version_minor": 0,
              "model_id": "f2919b0c37e4417f842c780fec80cdff"
            }
          },
          "metadata": {}
        },
        {
          "output_type": "display_data",
          "data": {
            "text/plain": [
              "pytorch_model.bin:   0%|          | 0.00/2.28G [00:00<?, ?B/s]"
            ],
            "application/vnd.jupyter.widget-view+json": {
              "version_major": 2,
              "version_minor": 0,
              "model_id": "313e4612b04f41f4b1a6346d52de2e90"
            }
          },
          "metadata": {}
        },
        {
          "output_type": "display_data",
          "data": {
            "text/plain": [
              "model.safetensors:   0%|          | 0.00/2.28G [00:00<?, ?B/s]"
            ],
            "application/vnd.jupyter.widget-view+json": {
              "version_major": 2,
              "version_minor": 0,
              "model_id": "9ad0290818e14a218b96ef796d493c55"
            }
          },
          "metadata": {}
        },
        {
          "output_type": "stream",
          "name": "stderr",
          "text": [
            "Some weights of PegasusForConditionalGeneration were not initialized from the model checkpoint at google/pegasus-xsum and are newly initialized: ['model.decoder.embed_positions.weight', 'model.encoder.embed_positions.weight']\n",
            "You should probably TRAIN this model on a down-stream task to be able to use it for predictions and inference.\n"
          ]
        },
        {
          "output_type": "display_data",
          "data": {
            "text/plain": [
              "generation_config.json:   0%|          | 0.00/259 [00:00<?, ?B/s]"
            ],
            "application/vnd.jupyter.widget-view+json": {
              "version_major": 2,
              "version_minor": 0,
              "model_id": "8cb176b09e2b472296b9edfa89ab432f"
            }
          },
          "metadata": {}
        },
        {
          "output_type": "stream",
          "name": "stdout",
          "text": [
            "Summarization models loaded: T5, BART, PEGASUS.\n"
          ]
        }
      ],
      "source": [
        "t5_tokenizer = T5Tokenizer.from_pretrained('t5-base')\n",
        "t5_model = T5ForConditionalGeneration.from_pretrained('t5-base')\n",
        "bart_tokenizer = BartTokenizer.from_pretrained('facebook/bart-base')\n",
        "bart_model = BartForConditionalGeneration.from_pretrained('facebook/bart-base')\n",
        "pegasus_sum_tokenizer = PegasusTokenizer.from_pretrained('google/pegasus-xsum')\n",
        "pegasus_sum_model = PegasusForConditionalGeneration.from_pretrained('google/pegasus-xsum')\n",
        "print(\"Summarization models loaded: T5, BART, PEGASUS.\")"
      ]
    },
    {
      "cell_type": "markdown",
      "metadata": {
        "id": "Q3eO-zfdi25k"
      },
      "source": [
        "### Section 0.3: Load Paraphrasing Models\n",
        "Load PEGASUS, T5-Paraphrase, and BART-Paraphrase."
      ]
    },
    {
      "cell_type": "code",
      "execution_count": 4,
      "metadata": {
        "colab": {
          "base_uri": "https://localhost:8080/",
          "height": 645,
          "referenced_widgets": [
            "43cacad09c5f40ae9da6dfb0fd6ef68b",
            "4f6913af4ae84839bd3344c5f7187e6c",
            "0012f6af4dea4561bdd133d04ec34fdb",
            "d3a73fd02758411fbaec3c3ae2149600",
            "0d45f6c658d7408f94953fac486ee4a5",
            "0e94a92a61574cca9ed632a58e24a006",
            "f900c23ad15b48fd8db03617223c23de",
            "c0dcb3fcf91747ec928780c163090a10",
            "3f783074c4c84e08ba22c45b223d18d8",
            "25a4defe598f4117861feec4ccca3b90",
            "fe8c61551d134ab7b956e5eeb5c902ea",
            "e7c356c653774f2291a1e1380410a615",
            "61d9dcd5a5f84e418634a18650f44cfd",
            "17d73c6c4af444bfad3d361c196a271f",
            "4357d485fab742daa9c3b411d1ecdd41",
            "555a8747141f47d38844a88809e046d8",
            "2a3e7c3728a74da99ee5b955c7bdd588",
            "ae502b2f6cc0407fb2c502600c38221e",
            "284951883f82420887fb998a3df62f6c",
            "77335cfe25984e80abdb7141228dae78",
            "499ca99bae53446b8f7cbfc000a39b0b",
            "8a9059021301400da579911ac8d31145",
            "13ed046677ee4954be227a76e16e8583",
            "b0f276622acc4dee806679893d194620",
            "b2d249e444c8472480c01e4c43b12245",
            "97cd6c13a8de4decb4e6cc009ea2617f",
            "72bc3ed6c05b47ddb352520118261e7f",
            "519e23666db7412e913254af8b5638ad",
            "29946ccc5136422cb327a1bcec062c25",
            "13a5460b721f4c81b514ea3b22d6a4a0",
            "87cbdefcb1e34b618bcb7113aaf6f9cf",
            "b333d250f9ab4b5086e628904fde4fe3",
            "f4fa33ff4cc94a4da1d23a6e32c56e6f",
            "80834a902f0f4c5ca403030892847a32",
            "f5001225525749b890cb07a6a7b96674",
            "b87ac4e9f2a54166b7663e7c7eeb8b32",
            "e6e976edc9c24bff96cbb1f26dfa94a0",
            "5f61eba4b1cd4030ae614622a008b575",
            "beb085adaef749d2a12d4f322814db04",
            "a66cea9d1836457aba9e12d9e5263ac4",
            "7dbddba6edb142d3a00753d644311dd2",
            "9bc211a291794196beb8bc4f8cfe4e9f",
            "346889f88aa8481bab8752b7fdd8b917",
            "1d96487b68ed42b6826434c31f644851",
            "42bd197f9c874a22bf97a4734082d4df",
            "386bde4b7ea4409b9fb6b3de999f91b9",
            "c5d1c4b6792141f6a99c43dba412c29f",
            "5108780d35514004bd0ec3c048bdad5e",
            "7370e40b18d447aea892ba33106c5e08",
            "fddd8958200543d79f406d60d345f255",
            "c2dd2e6a60884b08b63a4e757210294d",
            "1d109a449ffd4da09583e103a4e12114",
            "3dde88a21c6e40e680469237e2b74866",
            "bde7320c692843e58d686379fd15f292",
            "d2e8d5ab42154a5c9a9cbdbcf9a6f01f",
            "ced78bfc210b427dafbac79aa02400d3",
            "d8fbb62e659e4b068963115a9fd96d94",
            "7384a6394d2247bc90cf1d98474757d9",
            "1277ae9aeb90461ba4966c14e51b3bc6",
            "1f3a900a6f4546f8b8910f7efb85d8c4",
            "805d4bfa66db4aed90a23152bf84123f",
            "f4ef7a6eeb9d47a8bb6ac7b165dfcc69",
            "745e0150b46949cf955db825bcf6434b",
            "52bbcbff7ad34abda072c15306563120",
            "6b311048848d4dd0be74e0386911323f",
            "2a3cab51bdfe40e18b8c2119fea02ba1",
            "04124037b8fa4cd9a4824cc12cdb8dd9",
            "fed56f9abfd34f73a5789ca57e3b3d35",
            "bdb935f9a8f64431ba2bcca00c0a6d32",
            "d0262d5c543343f6a3a86ffb1b4df264",
            "ffb2ca8ceb1a42f583681dcaad475746",
            "ccace7a24d1945588080cdcf286fc248",
            "165c7d52bd5b4a8e970d35ccabba8135",
            "ed9aa9ed723c4f068ce31ffaf2648ba1",
            "55e425bf632c4e17a365e8e6945ffd91",
            "bd44b2a69a89429e98d1cd8269ec7ca9",
            "23c356802e53404cb7c545e139e5e339",
            "0d8ee5be9dc041938949c4cf9f9c42d7",
            "e88ab4f7e01e4a1db68ca9645f9df787",
            "111a32a1ff3148829566aa34c9ec229f",
            "d84589965132425da789b270a33dfb2a",
            "f7ff3b344b6e450a922a1906bf54be74",
            "6e605ece9d6b4099804a5df36d355d5c",
            "fbe4481e47af430d8de4c679af5ac667",
            "7cdb6f2510704e75821560551a05dc2d",
            "316dbd4ab3304f66858cb79323cb8179",
            "b5eefe44f36a4823bb593d2f95f918b3",
            "c0b4bf60c7764c7aac401d2dfdad6624",
            "fcbd5fbc5f2d4b8aab2d4018edebbe05",
            "ba500aa7090c42638770e4bd23ac6fba",
            "4286d62da7b0410ba947bf4b56ffd80d",
            "bf9edc44ed9944ffa1d092b19d4af395",
            "9249a685e4db4de4a8fce21bf3cc4153",
            "6be5eba58cba4d7fa2636db926424161",
            "11923072a8e749c3be82b0c17eac9b15",
            "c9693d2e3c9e474b9eeecab7da2b0fe0",
            "308108bbfd4544eda341461f737296c5",
            "506337f8c0404a8c969f08a0b3ea651a",
            "858461c4257849eaaf8a2c694de7abef",
            "07b5545f2a6e48d49ca31e30668b273b",
            "58f0910c20f54563a25f0f848bf7d5b4",
            "c34fb3e24c034335a9dac1c6eef20455",
            "6ebc2202aa7545beb8689be7249b7bfe",
            "63f4e3dac110447bbf457dd0e7292c71",
            "e1d90cee3420431b8e56e5f64c853dae",
            "8c3ff58084c94df2b2f96d0fb1b52dbc",
            "91b02e8258c94cc69efe2f97cfdf46a2",
            "d51fda0326f84d02a99ac9b1069c1ca3",
            "6191b3128fbc41b088f504daf5d87af2",
            "2970aeaffe3244b6b0eef6fb7e6294d5",
            "6644bd20ce034353a8f58ec933b324a1",
            "7f98b26cb104411ea34f4a65fcd98db5",
            "49beb19998f64a9681673f5d67be8f6c",
            "d7fb6463c0834c7d9728fcfa6c6fcf80",
            "165fbf76e1e04ee4a0a73a158dc57422",
            "08beaf2a9dd64b9596dd10bc0f62d064",
            "2c144c260afa4008a4aaf38cbc5d397a",
            "3d3a94fed91d40ae82292f23e6a5aaab",
            "3a91538ce0184290a72eee7301734612",
            "10e4c3c84b5f404e859df0d84d1b42d6",
            "db536dc1cbb74804ac5e7763fc6daa33",
            "4408e17ac11247dca84e28a4aeb49c6d",
            "86c6311189fb466d82eedb7683e19c4a",
            "c12d4b0de8774979bdecd53a60507f4c",
            "fb1c3ca9296b4eec8b2c2765da244d24",
            "b20b01119d4a41b2b786644397def62a",
            "d8902166ad4f48ed8f8fdd744c04a047",
            "ac25101ebbb0443c9ecf066bbcad2d8b",
            "5400523b87fa44249137f1b23cc0253b",
            "1990c214b12741d4b1cc9d44b2058e29",
            "624712836d2642aeba10355d5eeb5621",
            "06882299a2b14396a409def7c5fb0621",
            "3e3baaea4d8c46dfb11b42aa29c8ba92",
            "de2692967aac44adb11c9c84798eda10",
            "19aeafba1d6549af87a6a6be9852e680",
            "9f3d824ffa03483798e6df8ca2bd8102",
            "9ab83b42128a4c0fab51dbc4580a5e0f",
            "ee71578ec7c04b4393c94b9087eda667",
            "5b714ea575ba4080973f907f58d08502",
            "acf39839c29c4e0eadb36a29102ba555",
            "e19596aed9a14007b92da80e41a83942",
            "eec29d2a19fb4753b83611b1d35302cd",
            "c4629a606f744745a6d2f717889eab22",
            "ffe10e37ac854b168d384e02476cfa41",
            "76414c4f6b6a4237a0e717efb79d6a46",
            "170d4a2a02aa45d18bed3e41e19c8d09",
            "ead841eb4d494e7094f13b2e0ccce3c5",
            "7d04a33c4c5a48daa9f07515d918747d",
            "e01671970bf74cd1adaaaf840db5506b",
            "db2a9de18b1f49efb4b52bf08f5a69bf",
            "b6c9431f1aa743ba9a4a80dfb5ed3c5d",
            "5eaa8d9f4d53436cae0db4dda70ba3ad",
            "82f0be5ac5b044e1af3827290459ca0e",
            "c2332b322ee4496db9877a40f370bd3f",
            "33cf68e9e92f4233ba284d54256edb8a",
            "3044e242de134f31bc17bf41f099c020",
            "b434dc84a2f344898237eb58f3c77a81",
            "7c989118c6db4b87a8de15e9190955f6",
            "b5e396a4f860473b8672d6ba93d70a8b",
            "efad00f07e9e4c6a813d4d60e50b3502",
            "5f9f50939a1349b299ca9527bf1ba677",
            "74a4b7af9d8f466baef4a025b5eec0de",
            "9958ce81c6ba4c40b9ed5ef22e0b7307",
            "c9a57edcebb344d6aff528d7854df9b1",
            "5bfb9b392ef040ee9e2c73b3c115efa2",
            "fc22ec9d7099478d93e3454918aa1458",
            "15a70dd95a7c46e09043bbb728592fa5",
            "a9469eefe94a48c9987c8dcbc3b9accc",
            "26cea07ff00f4898b473740f7f600ad6",
            "1cc3a57f24c24369a5d6dc016cf31705",
            "47ac9e80a2ae49e782664e6dd9aca8d2",
            "a8419bddd9e14a54ae71311436d56cd3",
            "5290cda7829940c19fb02d8866496d49",
            "495d7560b0b044a893bef7767e13d73d",
            "88aeb16390774aff9763ddc0be4e9219",
            "02c156c9938f4bdeb5929f5bc3886c34",
            "c0a4c1826485469e92c1bba6208e9d6d",
            "c902c252d6a5487fa8e58005a6ffe6de",
            "2296dbee1b7843c1a6b7de65ce45c667",
            "ecbd0cf916bb45a7b1bb8918ea039ced",
            "ceac75140b464d70a48fd51520b26a5f",
            "5fd4603fdf03420e9d12665bf6243b56",
            "5dc3df3c538247ad8d9b2837e9a27f8b",
            "f82c3baeed074a9e8e4c806fc304bc15",
            "bd6e8fbeda6544b0b399eaf58c2c968f",
            "6b386e98b10a41018deb8407fd55bd20",
            "d428a0579cec4a27a4d18b4bd10feac8",
            "fdc0b71b9af94f4bb2ed25f545fc8145",
            "e6356f24ef4f4aad80324baa8484c61f",
            "46085adff8a8428baef5e8c462a75336",
            "f99e785732bd49a485a9b8c7f90d0dff",
            "618b37a568b345c5bdcc6014c1f8b9c4",
            "a1542289cefa4862aab4197694d48117",
            "71c07a993d70407db91a9e33c8711f20",
            "11c7788e117045e6bc2efdb43a27059b",
            "fe0b72fd3d8d444fb571d0e0494ebca7",
            "07ec282ee73a4a7cb35d6e7ff15a0d07",
            "3ce8e27104964c00912ee92ff9650fe4"
          ]
        },
        "id": "r1w6DcObi35l",
        "outputId": "45179944-46bb-4268-8c07-3ac3f19d3834"
      },
      "outputs": [
        {
          "output_type": "display_data",
          "data": {
            "text/plain": [
              "tokenizer_config.json:   0%|          | 0.00/86.0 [00:00<?, ?B/s]"
            ],
            "application/vnd.jupyter.widget-view+json": {
              "version_major": 2,
              "version_minor": 0,
              "model_id": "43cacad09c5f40ae9da6dfb0fd6ef68b"
            }
          },
          "metadata": {}
        },
        {
          "output_type": "display_data",
          "data": {
            "text/plain": [
              "spiece.model:   0%|          | 0.00/1.91M [00:00<?, ?B/s]"
            ],
            "application/vnd.jupyter.widget-view+json": {
              "version_major": 2,
              "version_minor": 0,
              "model_id": "e7c356c653774f2291a1e1380410a615"
            }
          },
          "metadata": {}
        },
        {
          "output_type": "display_data",
          "data": {
            "text/plain": [
              "special_tokens_map.json:   0%|          | 0.00/65.0 [00:00<?, ?B/s]"
            ],
            "application/vnd.jupyter.widget-view+json": {
              "version_major": 2,
              "version_minor": 0,
              "model_id": "13ed046677ee4954be227a76e16e8583"
            }
          },
          "metadata": {}
        },
        {
          "output_type": "display_data",
          "data": {
            "text/plain": [
              "config.json: 0.00B [00:00, ?B/s]"
            ],
            "application/vnd.jupyter.widget-view+json": {
              "version_major": 2,
              "version_minor": 0,
              "model_id": "80834a902f0f4c5ca403030892847a32"
            }
          },
          "metadata": {}
        },
        {
          "output_type": "display_data",
          "data": {
            "text/plain": [
              "pytorch_model.bin:   0%|          | 0.00/2.28G [00:00<?, ?B/s]"
            ],
            "application/vnd.jupyter.widget-view+json": {
              "version_major": 2,
              "version_minor": 0,
              "model_id": "42bd197f9c874a22bf97a4734082d4df"
            }
          },
          "metadata": {}
        },
        {
          "output_type": "display_data",
          "data": {
            "text/plain": [
              "model.safetensors:   0%|          | 0.00/2.28G [00:00<?, ?B/s]"
            ],
            "application/vnd.jupyter.widget-view+json": {
              "version_major": 2,
              "version_minor": 0,
              "model_id": "ced78bfc210b427dafbac79aa02400d3"
            }
          },
          "metadata": {}
        },
        {
          "output_type": "stream",
          "name": "stderr",
          "text": [
            "Some weights of PegasusForConditionalGeneration were not initialized from the model checkpoint at tuner007/pegasus_paraphrase and are newly initialized: ['model.decoder.embed_positions.weight', 'model.encoder.embed_positions.weight']\n",
            "You should probably TRAIN this model on a down-stream task to be able to use it for predictions and inference.\n"
          ]
        },
        {
          "output_type": "display_data",
          "data": {
            "text/plain": [
              "tokenizer_config.json:   0%|          | 0.00/25.0 [00:00<?, ?B/s]"
            ],
            "application/vnd.jupyter.widget-view+json": {
              "version_major": 2,
              "version_minor": 0,
              "model_id": "04124037b8fa4cd9a4824cc12cdb8dd9"
            }
          },
          "metadata": {}
        },
        {
          "output_type": "display_data",
          "data": {
            "text/plain": [
              "spiece.model:   0%|          | 0.00/792k [00:00<?, ?B/s]"
            ],
            "application/vnd.jupyter.widget-view+json": {
              "version_major": 2,
              "version_minor": 0,
              "model_id": "0d8ee5be9dc041938949c4cf9f9c42d7"
            }
          },
          "metadata": {}
        },
        {
          "output_type": "display_data",
          "data": {
            "text/plain": [
              "special_tokens_map.json: 0.00B [00:00, ?B/s]"
            ],
            "application/vnd.jupyter.widget-view+json": {
              "version_major": 2,
              "version_minor": 0,
              "model_id": "fcbd5fbc5f2d4b8aab2d4018edebbe05"
            }
          },
          "metadata": {}
        },
        {
          "output_type": "display_data",
          "data": {
            "text/plain": [
              "config.json: 0.00B [00:00, ?B/s]"
            ],
            "application/vnd.jupyter.widget-view+json": {
              "version_major": 2,
              "version_minor": 0,
              "model_id": "07b5545f2a6e48d49ca31e30668b273b"
            }
          },
          "metadata": {}
        },
        {
          "output_type": "display_data",
          "data": {
            "text/plain": [
              "model.safetensors:   0%|          | 0.00/892M [00:00<?, ?B/s]"
            ],
            "application/vnd.jupyter.widget-view+json": {
              "version_major": 2,
              "version_minor": 0,
              "model_id": "6644bd20ce034353a8f58ec933b324a1"
            }
          },
          "metadata": {}
        },
        {
          "output_type": "display_data",
          "data": {
            "text/plain": [
              "tokenizer_config.json:   0%|          | 0.00/332 [00:00<?, ?B/s]"
            ],
            "application/vnd.jupyter.widget-view+json": {
              "version_major": 2,
              "version_minor": 0,
              "model_id": "4408e17ac11247dca84e28a4aeb49c6d"
            }
          },
          "metadata": {}
        },
        {
          "output_type": "display_data",
          "data": {
            "text/plain": [
              "vocab.json: 0.00B [00:00, ?B/s]"
            ],
            "application/vnd.jupyter.widget-view+json": {
              "version_major": 2,
              "version_minor": 0,
              "model_id": "3e3baaea4d8c46dfb11b42aa29c8ba92"
            }
          },
          "metadata": {}
        },
        {
          "output_type": "display_data",
          "data": {
            "text/plain": [
              "merges.txt: 0.00B [00:00, ?B/s]"
            ],
            "application/vnd.jupyter.widget-view+json": {
              "version_major": 2,
              "version_minor": 0,
              "model_id": "ffe10e37ac854b168d384e02476cfa41"
            }
          },
          "metadata": {}
        },
        {
          "output_type": "display_data",
          "data": {
            "text/plain": [
              "special_tokens_map.json:   0%|          | 0.00/239 [00:00<?, ?B/s]"
            ],
            "application/vnd.jupyter.widget-view+json": {
              "version_major": 2,
              "version_minor": 0,
              "model_id": "33cf68e9e92f4233ba284d54256edb8a"
            }
          },
          "metadata": {}
        },
        {
          "output_type": "display_data",
          "data": {
            "text/plain": [
              "tokenizer.json: 0.00B [00:00, ?B/s]"
            ],
            "application/vnd.jupyter.widget-view+json": {
              "version_major": 2,
              "version_minor": 0,
              "model_id": "fc22ec9d7099478d93e3454918aa1458"
            }
          },
          "metadata": {}
        },
        {
          "output_type": "display_data",
          "data": {
            "text/plain": [
              "config.json: 0.00B [00:00, ?B/s]"
            ],
            "application/vnd.jupyter.widget-view+json": {
              "version_major": 2,
              "version_minor": 0,
              "model_id": "c0a4c1826485469e92c1bba6208e9d6d"
            }
          },
          "metadata": {}
        },
        {
          "output_type": "display_data",
          "data": {
            "text/plain": [
              "model.safetensors:   0%|          | 0.00/1.63G [00:00<?, ?B/s]"
            ],
            "application/vnd.jupyter.widget-view+json": {
              "version_major": 2,
              "version_minor": 0,
              "model_id": "fdc0b71b9af94f4bb2ed25f545fc8145"
            }
          },
          "metadata": {}
        },
        {
          "output_type": "stream",
          "name": "stdout",
          "text": [
            "Paraphrasing models loaded: PEGASUS, T5-Paraphrase, BART-Paraphrase.\n"
          ]
        }
      ],
      "source": [
        "pegasus_para_tokenizer = PegasusTokenizer.from_pretrained('tuner007/pegasus_paraphrase')\n",
        "pegasus_para_model = PegasusForConditionalGeneration.from_pretrained('tuner007/pegasus_paraphrase')\n",
        "paraphrase_t5_tokenizer = T5Tokenizer.from_pretrained('Vamsi/T5_Paraphrase_Paws')\n",
        "paraphrase_t5_model = T5ForConditionalGeneration.from_pretrained('Vamsi/T5_Paraphrase_Paws')\n",
        "paraphrase_bart_tokenizer = BartTokenizer.from_pretrained('eugenesiow/bart-paraphrase')\n",
        "paraphrase_bart_model = BartForConditionalGeneration.from_pretrained('eugenesiow/bart-paraphrase')\n",
        "print(\"Paraphrasing models loaded: PEGASUS, T5-Paraphrase, BART-Paraphrase.\")"
      ]
    },
    {
      "cell_type": "markdown",
      "metadata": {
        "id": "sSI553Cui9pv"
      },
      "source": [
        "### Section 0.4: Load Similarity Model\n",
        "Load SentenceTransformer for similarity."
      ]
    },
    {
      "cell_type": "code",
      "execution_count": 5,
      "metadata": {
        "colab": {
          "base_uri": "https://localhost:8080/",
          "height": 386,
          "referenced_widgets": [
            "8eae71ebf2bd4a658362aa24346f1045",
            "e4e448bf48ac4127ae297de42a12e607",
            "cfc2b8c3703a40a8a26efb4138e80a5f",
            "fa7182c6c600485db616313cc6d92179",
            "5708dc82fc184b258fd62bc1354395b7",
            "12c8495512bf4a6ea586447b810984f2",
            "fa7652d527074805a2c048f0a56a558d",
            "69c41437ea104b2a9f832d56cff84229",
            "b7e8ba99ffdc4b61813e0b1e056c9554",
            "3d6a4a5d1de8449daec24f1507cdb492",
            "d267b604b3144081bc159396fa988a35",
            "515fdde17cf14856b92bf9b764cf91e9",
            "b003672815e54920899a4bada0ff6364",
            "a67180a97c2c41c8ae658787eaa5bea0",
            "396ec93b1c174ee493912b539156e250",
            "2265735ab2bf41b4974601f78f3d168d",
            "c9edfb67acb1436b9501aa3875bdf581",
            "091c3b93b55244c49af23d79503539e7",
            "b38aef55ab694792a7c24cf765f9f051",
            "0c8ec5603e7a48f0b2bee51013036ed8",
            "630c5cfac53f40faa14d7d442e0d190f",
            "7a27e88dc6cf40c19e80f8e5f36be00f",
            "dc86f7b6b73a40c3b122ec6358f1f4a9",
            "7c61423c7d7c4716b42a678f64c178ef",
            "11766b318857470d8aa10a8abb0f10a0",
            "4a38d2104e34470d8a749eff8f91caa9",
            "874cd19730d6449e98956dacb4c742df",
            "5209a76b078e4890a7e55e68056bc6cc",
            "d1dd02bb40fd4f8696cd0a67cfe79207",
            "333d845629434f0789ddc0e48cb4bcf6",
            "db2ae09807bb4fa69541747a1a60851f",
            "e75923330dff4993ae24d8b569bbeb01",
            "ddc04923a3694b65b813f80181dd2ac9",
            "541c5af9f2d94f66a8c81ce181009323",
            "3308ee401c2649f590029dfa9f030415",
            "f5bf2113501a4ea09fc9c9ee41213282",
            "63cc4a4cf471498a9f6edc6f0600b6dc",
            "09dea8583bca4ac78419a39e16dbf8f8",
            "a0b84008b3f0454d9ed8b1b124f4595b",
            "735d672de4304624ab6fd0292af553c7",
            "1f3352a7ce40432791975907ce757923",
            "97e4490a09b54785a2336ff58d055f48",
            "8bf9f175592349248a74f234ec05d28d",
            "52a189beb1954c0b98f58be4dc2c54eb",
            "c5668a38f7734f4e8fe366339f530b95",
            "10438db31c784c7ab1adb0a50d8e7ada",
            "6799b79ba8e341e492debd2a8019ed5b",
            "3ca244491cec495c90dedc876b2a9833",
            "b2b7393507be465eb83168c54233ac39",
            "2e30bb36dcc44b4183cc7465ada054d2",
            "cf2743044f234546ad1906700389303a",
            "ecb33bf99ec846f2b71743bd3246267a",
            "9c7cf5efc9254a7eb85cdaa5c69016e0",
            "123356fe1b2348e0879433b69de09c69",
            "1b123965e22940129bd602d743647a93",
            "e709327410804f22b8c81662c7d54d9f",
            "73ab2b8c9fc04e6f99418d5c0d837c58",
            "4ef6f05b548b48e59eead276c533726c",
            "4fc1bb51379746fa9638dfc04edb9497",
            "38bea7f40e044904b009926fbf2c39e0",
            "b3781202059b451ebfedd2e0b71eb1ee",
            "bbfb9a990b2a4f76841921ce1c8a3f13",
            "e12e3702902c43d393d984f4bec60370",
            "f5b5b5aa6c664b629abefc907a3b8202",
            "2b1dec4b150b419d92b3063d59bab1f9",
            "9f49b61f52c44003a88d8bd40af19fb8",
            "37fe10df59d94e8082c16297b6862e1d",
            "aecf380dffd14e2eb4cc3452a72c400b",
            "1974148414d842b4b60dec173bb845e4",
            "111d7710ce76422e848b1c7a4865bed0",
            "6a36e2376ff14b4cb9ac3122429a8c30",
            "40c3297ff8f446d387afe669f6563fa8",
            "316e1a342f2e4f6685a133e6ace41700",
            "879f38152aff45328afbd56553dbca59",
            "482f622ae6554ac590e69aa0a00f61f1",
            "cf6d0b3e498044d7a8da9a6deed80b88",
            "00bf682b7c3d41bb9b8ff8b8281bc607",
            "b07ad37bca3549448719cefd0e61ba18",
            "8eee3f1e469e44e8ac50f48faccfdeda",
            "cab4bd0f6bb54a3ebf75fb8d8bca7cfb",
            "e2b5ce7dd8ae486d87c446bc2dc544af",
            "ac90fdceaf484712b0488d30f47c2924",
            "42ae33ba2c7946468783d08bce77abde",
            "7b1c8df5e2824425a9edd9edbd29ca2d",
            "5cf2a43550ae478698a05b7c6410f3c1",
            "0a533c2791a1431fa5f78f265530ae10",
            "38d01a7488f442a0ba69a3ee4d18a0e5",
            "774bfbf5cbd0493c8e60f17132719e7b",
            "93027193e0554d15b3863ee18104151f",
            "1a0a4a1f69834d5496a1aec71086eec6",
            "b527b5d7adce471298bd14193f884abb",
            "44712121586b4a78975df6dbe5bf6a40",
            "2ab66728c7a54d0d9af56a16226195b3",
            "630ac130dc4c419a84a22bdff8f72f15",
            "d71a3d60888841f59f92c1ce2a52cc7c",
            "14e4f06fab5343e3a8f667448ec228aa",
            "d54446607fd6445c8645866fd62e48fe",
            "fd25c7d5798b49a583631787a7ebd138",
            "57a9526386d44a0c8a6a11d95b42c845",
            "55d33bc0464d4d8a9bd69ee6d10e7f67",
            "7e1baef3596a476385c3f9f895a54e86",
            "629739ec0327402d9aa620b8dcbdbf0a",
            "827185e05b894c83b629329af6bab625",
            "7972639071f24de8a727d1783217dde4",
            "cf2d9333c83f4a39941f73001d0a75bd",
            "d32076d343784e459935a01d2666a0d4",
            "c7be61e58d46407e846b0f4783b3f800",
            "f1a67191d3504fbc9ae21c53c67495c8",
            "2fa3720a147440648073953269c20c5f",
            "48f9def829094e74bb2dc9d47fbeb833",
            "1d70db5438bb4fd88650c1685fc125d8",
            "a7fde26571634d7c8e7b7898eebe317b",
            "5795cc9c36eb4b85975a4b366a154653",
            "7386898bfd804650afe0066b8d87c0dd",
            "f6166abd6066461496de34baf10d761d",
            "79caee3e90f34a25aa4504852ced177a",
            "7a585b8a79b049308abbf4513accbd89",
            "c6c312801f094356a634328a582b6937",
            "bb98a3f87f964b9a872dc68083359a2c",
            "730724595964494c944818a623fc2769",
            "ed8c26562dd4497a9ed52b814eff7da7"
          ]
        },
        "id": "rK5pQrF8i-dT",
        "outputId": "16b46e42-cbcf-491e-e13b-5b9c4098e5ef"
      },
      "outputs": [
        {
          "output_type": "display_data",
          "data": {
            "text/plain": [
              "modules.json:   0%|          | 0.00/349 [00:00<?, ?B/s]"
            ],
            "application/vnd.jupyter.widget-view+json": {
              "version_major": 2,
              "version_minor": 0,
              "model_id": "8eae71ebf2bd4a658362aa24346f1045"
            }
          },
          "metadata": {}
        },
        {
          "output_type": "display_data",
          "data": {
            "text/plain": [
              "config_sentence_transformers.json:   0%|          | 0.00/116 [00:00<?, ?B/s]"
            ],
            "application/vnd.jupyter.widget-view+json": {
              "version_major": 2,
              "version_minor": 0,
              "model_id": "515fdde17cf14856b92bf9b764cf91e9"
            }
          },
          "metadata": {}
        },
        {
          "output_type": "display_data",
          "data": {
            "text/plain": [
              "README.md: 0.00B [00:00, ?B/s]"
            ],
            "application/vnd.jupyter.widget-view+json": {
              "version_major": 2,
              "version_minor": 0,
              "model_id": "dc86f7b6b73a40c3b122ec6358f1f4a9"
            }
          },
          "metadata": {}
        },
        {
          "output_type": "display_data",
          "data": {
            "text/plain": [
              "sentence_bert_config.json:   0%|          | 0.00/53.0 [00:00<?, ?B/s]"
            ],
            "application/vnd.jupyter.widget-view+json": {
              "version_major": 2,
              "version_minor": 0,
              "model_id": "541c5af9f2d94f66a8c81ce181009323"
            }
          },
          "metadata": {}
        },
        {
          "output_type": "display_data",
          "data": {
            "text/plain": [
              "config.json:   0%|          | 0.00/612 [00:00<?, ?B/s]"
            ],
            "application/vnd.jupyter.widget-view+json": {
              "version_major": 2,
              "version_minor": 0,
              "model_id": "c5668a38f7734f4e8fe366339f530b95"
            }
          },
          "metadata": {}
        },
        {
          "output_type": "display_data",
          "data": {
            "text/plain": [
              "model.safetensors:   0%|          | 0.00/90.9M [00:00<?, ?B/s]"
            ],
            "application/vnd.jupyter.widget-view+json": {
              "version_major": 2,
              "version_minor": 0,
              "model_id": "e709327410804f22b8c81662c7d54d9f"
            }
          },
          "metadata": {}
        },
        {
          "output_type": "display_data",
          "data": {
            "text/plain": [
              "tokenizer_config.json:   0%|          | 0.00/350 [00:00<?, ?B/s]"
            ],
            "application/vnd.jupyter.widget-view+json": {
              "version_major": 2,
              "version_minor": 0,
              "model_id": "37fe10df59d94e8082c16297b6862e1d"
            }
          },
          "metadata": {}
        },
        {
          "output_type": "display_data",
          "data": {
            "text/plain": [
              "vocab.txt: 0.00B [00:00, ?B/s]"
            ],
            "application/vnd.jupyter.widget-view+json": {
              "version_major": 2,
              "version_minor": 0,
              "model_id": "b07ad37bca3549448719cefd0e61ba18"
            }
          },
          "metadata": {}
        },
        {
          "output_type": "display_data",
          "data": {
            "text/plain": [
              "tokenizer.json: 0.00B [00:00, ?B/s]"
            ],
            "application/vnd.jupyter.widget-view+json": {
              "version_major": 2,
              "version_minor": 0,
              "model_id": "93027193e0554d15b3863ee18104151f"
            }
          },
          "metadata": {}
        },
        {
          "output_type": "display_data",
          "data": {
            "text/plain": [
              "special_tokens_map.json:   0%|          | 0.00/112 [00:00<?, ?B/s]"
            ],
            "application/vnd.jupyter.widget-view+json": {
              "version_major": 2,
              "version_minor": 0,
              "model_id": "55d33bc0464d4d8a9bd69ee6d10e7f67"
            }
          },
          "metadata": {}
        },
        {
          "output_type": "display_data",
          "data": {
            "text/plain": [
              "config.json:   0%|          | 0.00/190 [00:00<?, ?B/s]"
            ],
            "application/vnd.jupyter.widget-view+json": {
              "version_major": 2,
              "version_minor": 0,
              "model_id": "1d70db5438bb4fd88650c1685fc125d8"
            }
          },
          "metadata": {}
        },
        {
          "output_type": "stream",
          "name": "stdout",
          "text": [
            " Similarity model loaded.\n"
          ]
        }
      ],
      "source": [
        "similarity_model = SentenceTransformer('all-MiniLM-L6-v2')\n",
        "print(\" Similarity model loaded.\")"
      ]
    },
    {
      "cell_type": "markdown",
      "metadata": {
        "id": "EMGnDj2OjAxg"
      },
      "source": [
        "## Part 1: Text Input Processing\n",
        "### Section 1.1: Load Single Text File\n",
        "Load and clean a text file from a URL."
      ]
    },
    {
      "cell_type": "code",
      "source": [
        "def load_text_file(url):\n",
        "    \"\"\"Load and clean text from a URL.\"\"\"\n",
        "    try:\n",
        "        response = requests.get(url, timeout=30)\n",
        "        response.raise_for_status()\n",
        "        text = response.text\n",
        "\n",
        "        # Convert to uppercase for safe case-insensitive matching\n",
        "        upper_text = text.upper()\n",
        "\n",
        "        # Clean Gutenberg headers/footers with customizable markers\n",
        "        start_markers = [\"PROJECT\"] # Using \"PROJECT\" as the start marker\n",
        "        end_marker = \"GUTENBERG\" # Using \"GUTENBERG\" as the end marker\n",
        "\n",
        "        start_idx = max([upper_text.find(marker) for marker in start_markers] + [0])\n",
        "        end_idx = upper_text.find(end_marker)\n",
        "        if end_idx == -1:\n",
        "            end_idx = len(text)  # fallback if end marker not found\n",
        "\n",
        "        if start_idx > 0 and end_idx > 0:\n",
        "            text = text[start_idx:end_idx]\n",
        "\n",
        "        if len(text) < 100:\n",
        "            raise ValueError(\"Text is too short.\")\n",
        "\n",
        "        return text.strip(), \"Text file\"\n",
        "\n",
        "    except Exception as e:\n",
        "        print(f\"Error loading text from {url}: {e}\")\n",
        "        fallback = \"\"\"Natural Language Processing enables computers to understand human language.\"\"\"\n",
        "        return fallback, \"Fallback text\""
      ],
      "metadata": {
        "id": "g8rmYSYM7k5U"
      },
      "execution_count": 6,
      "outputs": []
    },
    {
      "cell_type": "markdown",
      "metadata": {
        "id": "iJ3hz-DFjJiM"
      },
      "source": [
        "### Section 1.2: Validate Text Input\n",
        "Validate text length and content."
      ]
    },
    {
      "cell_type": "code",
      "execution_count": 7,
      "metadata": {
        "id": "V-Arv89mjM5j"
      },
      "outputs": [],
      "source": [
        "def validate_text(text):\n",
        "    \"\"\"Validate text input.\"\"\"\n",
        "    if not isinstance(text, str) or len(text.strip()) < 50:\n",
        "        raise ValueError(\"Invalid text: must be a string with at least 50 characters.\")\n",
        "    return text"
      ]
    },
    {
      "cell_type": "markdown",
      "metadata": {
        "id": "U9lJUUltjPQg"
      },
      "source": [
        "### Section 1.3: Load Multiple Text Files\n",
        "Load two text files for processing."
      ]
    },
    {
      "cell_type": "code",
      "execution_count": 8,
      "metadata": {
        "id": "ID481QGZjSsC"
      },
      "outputs": [],
      "source": [
        "def load_multiple_text_files(urls):\n",
        "    \"\"\"Load multiple text files with validation.\"\"\"\n",
        "    if len(urls) != 2:\n",
        "        raise ValueError(\"Exactly two URLs must be provided.\")\n",
        "    texts = {}\n",
        "    for i, url in enumerate(urls, 1):\n",
        "        text, source = load_text_file(url)\n",
        "        text = validate_text(text)\n",
        "        texts[f\"Text {i}\"] = {'text': text[:50000], 'source': source}  # Limit size\n",
        "    return texts"
      ]
    },
    {
      "cell_type": "markdown",
      "metadata": {
        "id": "gjtIBn2JjX3M"
      },
      "source": [
        "### Section 1.4: Test Text Loading\n",
        "Load and preview two Gutenberg texts."
      ]
    },
    {
      "cell_type": "code",
      "execution_count": 9,
      "metadata": {
        "colab": {
          "base_uri": "https://localhost:8080/"
        },
        "id": "DFcGylwIjY9o",
        "outputId": "3f288961-f1fc-4f68-9fad-31e90f6895eb"
      },
      "outputs": [
        {
          "output_type": "stream",
          "name": "stdout",
          "text": [
            "Error loading text from https://www.gutenberg.org/files/11/11-0.txt: Text is too short.\n",
            "Error loading text from https://www.gutenberg.org/files/1661/1661-0.txt: Text is too short.\n",
            "Text 1 (Fallback text): 75 characters\n",
            "Preview: Natural Language Processing enables computers to understand human language....\n",
            "Text 2 (Fallback text): 75 characters\n",
            "Preview: Natural Language Processing enables computers to understand human language....\n"
          ]
        }
      ],
      "source": [
        "file_urls = [\n",
        "    \"https://www.gutenberg.org/files/11/11-0.txt\",   # Alice's Adventures in Wonderland\n",
        "    \"https://www.gutenberg.org/files/1661/1661-0.txt\"  # The Adventures of Sherlock Holmes\n",
        "]\n",
        "\n",
        "loaded_texts = load_multiple_text_files(file_urls)\n",
        "for key, data in loaded_texts.items():\n",
        "    print(f\"{key} ({data['source']}): {len(data['text']):,} characters\")\n",
        "    print(f\"Preview: {data['text'][:150]}...\")"
      ]
    },
    {
      "cell_type": "markdown",
      "metadata": {
        "id": "brJXyI6yjbtp"
      },
      "source": [
        "## Part 2: Core Analysis Components\n",
        "### Section 2.1: T5 Summarization\n",
        "Summarize text using T5."
      ]
    },
    {
      "cell_type": "code",
      "execution_count": 10,
      "metadata": {
        "id": "T6xztHMzjeoC"
      },
      "outputs": [],
      "source": [
        "def generate_t5_summary(text, min_len=40, max_len=150, beams=4):\n",
        "    \"\"\"Abstractive summarization with T5.\"\"\"\n",
        "    input_text = \"summarize: \" + text.strip().replace(\"\\n\", \" \")\n",
        "    inputs = t5_tokenizer.encode(input_text, return_tensors='pt', max_length=1024, truncation=True)\n",
        "    summary_ids = t5_model.generate(\n",
        "        inputs,\n",
        "        max_length=max_len,\n",
        "        min_length=min_len,\n",
        "        num_beams=beams,\n",
        "        no_repeat_ngram_size=3,\n",
        "        length_penalty=2.0,\n",
        "        early_stopping=True\n",
        "    )\n",
        "    return t5_tokenizer.decode(summary_ids[0], skip_special_tokens=True)\n",
        "def clean_text(text):\n",
        "    \"\"\"Remove special characters and normalize whitespace.\"\"\"\n",
        "    text = re.sub(r'[^\\x00-\\x7F]+', ' ', text)  # Remove non-ASCII characters\n",
        "    text = re.sub(r'\\s+', ' ', text)  # Normalize whitespace\n",
        "    return text.strip()"
      ]
    },
    {
      "cell_type": "markdown",
      "metadata": {
        "id": "lvAjCpv_jku1"
      },
      "source": [
        "### Section 2.2: BART Summarization\n",
        "Summarize text using BART."
      ]
    },
    {
      "cell_type": "code",
      "execution_count": 11,
      "metadata": {
        "id": "jXnJC-wNjl1A"
      },
      "outputs": [],
      "source": [
        "def generate_bart_summary(text, min_len=40, max_len=150, beams=4):\n",
        "    \"\"\"Abstractive summarization with BART.\"\"\"\n",
        "    inputs = bart_tokenizer.encode(text, return_tensors='pt', max_length=1024, truncation=True)\n",
        "    summary_ids = bart_model.generate(\n",
        "        inputs,\n",
        "        max_length=max_len,\n",
        "        min_length=min_len,\n",
        "        num_beams=beams,\n",
        "        no_repeat_ngram_size=3,\n",
        "        length_penalty=2.0,\n",
        "        early_stopping=True\n",
        "    )\n",
        "    return bart_tokenizer.decode(summary_ids[0], skip_special_tokens=True)"
      ]
    },
    {
      "cell_type": "markdown",
      "metadata": {
        "id": "lUL-BMTojpDf"
      },
      "source": [
        "### Section 2.3: PEGASUS Summarization\n",
        "Summarize text using PEGASUS."
      ]
    },
    {
      "cell_type": "code",
      "execution_count": 12,
      "metadata": {
        "id": "erKxAroQjul3"
      },
      "outputs": [],
      "source": [
        "def generate_pegasus_summary(text, min_len=40, max_len=150, beams=4):\n",
        "    \"\"\"Abstractive summarization with PEGASUS.\"\"\"\n",
        "    # Clean and truncate input to prevent tokenization issues\n",
        "    text = clean_text(text[:1500])  # Stricter truncation to 1500 chars\n",
        "    try:\n",
        "        inputs = pegasus_sum_tokenizer.encode(\n",
        "            text,\n",
        "            return_tensors='pt',\n",
        "            max_length=512,  # Reduced max_length for safety\n",
        "            truncation=True,\n",
        "            padding='max_length'  # Ensure consistent input size\n",
        "        )\n",
        "        # Validate token IDs\n",
        "        if inputs.max().item() >= pegasus_sum_tokenizer.vocab_size:\n",
        "            raise ValueError(f\"Token ID {inputs.max().item()} exceeds vocab size {pegasus_sum_tokenizer.vocab_size}.\")\n",
        "        summary_ids = pegasus_sum_model.generate(\n",
        "            inputs,\n",
        "            max_length=max_len,\n",
        "            min_length=min_len,\n",
        "            num_beams=beams,\n",
        "            no_repeat_ngram_size=3,\n",
        "            length_penalty=2.0,\n",
        "            early_stopping=True\n",
        "        )\n",
        "        return pegasus_sum_tokenizer.decode(summary_ids[0], skip_special_tokens=True)\n",
        "    except Exception as e:\n",
        "        print(f\"PEGASUS summarization failed: {e}\")\n",
        "        return \"Summary unavailable due to processing error.\""
      ]
    },
    {
      "cell_type": "markdown",
      "metadata": {
        "id": "IywgPGxfjyCT"
      },
      "source": [
        "### Section 2.4: PEGASUS Paraphrasing\n",
        "Generate paraphrases using PEGASUS."
      ]
    },
    {
      "cell_type": "code",
      "execution_count": 13,
      "metadata": {
        "id": "VEXAsUhWj0K7"
      },
      "outputs": [],
      "source": [
        "def generate_pegasus_paraphrase(text, num_return=3, beams=10):\n",
        "    \"\"\"Generate paraphrases with PEGASUS.\"\"\"\n",
        "    inputs = pegasus_para_tokenizer.encode(text, return_tensors='pt', truncation=True, max_length=60)\n",
        "    paraphrase_ids = pegasus_para_model.generate(\n",
        "        inputs,\n",
        "        max_length=60,\n",
        "        num_beams=beams,\n",
        "        num_return_sequences=num_return,\n",
        "        early_stopping=True\n",
        "    )\n",
        "    return pegasus_para_tokenizer.batch_decode(paraphrase_ids, skip_special_tokens=True)"
      ]
    },
    {
      "cell_type": "markdown",
      "metadata": {
        "id": "OaZP2Yudj6TK"
      },
      "source": [
        "### Section 2.5: T5 Paraphrasing\n",
        "Generate paraphrases using T5-Paraphrase."
      ]
    },
    {
      "cell_type": "code",
      "execution_count": 14,
      "metadata": {
        "id": "uqN4KPlxj7Ij"
      },
      "outputs": [],
      "source": [
        "def generate_t5_paraphrase(text, num_return=3, beams=10):\n",
        "    \"\"\"Generate paraphrases with T5-Paraphrase.\"\"\"\n",
        "    input_text = f\"paraphrase: {text} </s>\"\n",
        "    inputs = paraphrase_t5_tokenizer.encode(input_text, return_tensors='pt', max_length=512, truncation=True)\n",
        "    paraphrase_ids = paraphrase_t5_model.generate(\n",
        "        inputs,\n",
        "        max_length=60,\n",
        "        num_beams=beams,\n",
        "        num_return_sequences=num_return,\n",
        "        early_stopping=True\n",
        "    )\n",
        "    return paraphrase_t5_tokenizer.batch_decode(paraphrase_ids, skip_special_tokens=True)"
      ]
    },
    {
      "cell_type": "markdown",
      "metadata": {
        "id": "hyvg3h5qkBnJ"
      },
      "source": [
        "### Section 2.6: BART Paraphrasing\n",
        "Generate paraphrases using BART-Paraphrase."
      ]
    },
    {
      "cell_type": "code",
      "execution_count": 15,
      "metadata": {
        "id": "wuYhp9q2kCcl"
      },
      "outputs": [],
      "source": [
        "def generate_bart_paraphrase(text, num_return=3, beams=10):\n",
        "    \"\"\"Generate paraphrases with BART-Paraphrase.\"\"\"\n",
        "    inputs = paraphrase_bart_tokenizer.encode(text, return_tensors='pt', truncation=True, max_length=60)\n",
        "    paraphrase_ids = paraphrase_bart_model.generate(\n",
        "        inputs,\n",
        "        max_length=60,\n",
        "        num_beams=beams,\n",
        "        num_return_sequences=num_return,\n",
        "        early_stopping=True\n",
        "    )\n",
        "    return paraphrase_bart_tokenizer.batch_decode(paraphrase_ids, skip_special_tokens=True)"
      ]
    },
    {
      "cell_type": "markdown",
      "metadata": {
        "id": "b0O2Qs3DkHD5"
      },
      "source": [
        "### Section 2.7: Similarity Analysis\n",
        "Compute semantic similarity."
      ]
    },
    {
      "cell_type": "code",
      "execution_count": 16,
      "metadata": {
        "id": "DcH5JhqhkHu5"
      },
      "outputs": [],
      "source": [
        "def compute_similarity(text1, text2):\n",
        "    \"\"\"Compute cosine similarity between texts.\"\"\"\n",
        "    embeddings = similarity_model.encode([text1, text2])\n",
        "    return cosine_similarity([embeddings[0]], [embeddings[1]])[0][0]"
      ]
    },
    {
      "cell_type": "markdown",
      "metadata": {
        "id": "jVwBdE9tkLDg"
      },
      "source": [
        "## Part 3: Enhanced Model Comparison\n",
        "### Section 3.1: Summary Length Analysis\n",
        "Compute summary length."
      ]
    },
    {
      "cell_type": "code",
      "execution_count": 17,
      "metadata": {
        "id": "tI6FLsq0kNWH"
      },
      "outputs": [],
      "source": [
        "def analyze_summary_length(summary):\n",
        "    \"\"\"Compute word count of summary.\"\"\"\n",
        "    return len(summary.split())  # Simple split instead of NLTK tokenization"
      ]
    },
    {
      "cell_type": "markdown",
      "metadata": {
        "id": "56u6ccYWkSQ1"
      },
      "source": [
        "### Section 3.2: Similarity to Original\n",
        "Compute similarity to original text."
      ]
    },
    {
      "cell_type": "code",
      "execution_count": 18,
      "metadata": {
        "id": "iWR2WO3YkUfI"
      },
      "outputs": [],
      "source": [
        "def similarity_to_original(summary, original_text):\n",
        "    \"\"\"Compute similarity between summary and original.\"\"\"\n",
        "    return compute_similarity(summary, original_text[:2000])"
      ]
    },
    {
      "cell_type": "markdown",
      "metadata": {
        "id": "ytOszqKGkYPj"
      },
      "source": [
        "### Section 3.3: Enhanced Summarization Comparison\n",
        "Compare T5, BART, and PEGASUS for summarization."
      ]
    },
    {
      "cell_type": "code",
      "execution_count": 19,
      "metadata": {
        "id": "2mErKEJEkZEw"
      },
      "outputs": [],
      "source": [
        "def compare_summarizers_enhanced(text, min_len=40, max_len=150, beams=4):\n",
        "    \"\"\"Enhanced comparison of T5, BART, and PEGASUS for summarization.\"\"\"\n",
        "    t5_sum = generate_t5_summary(text[:2000], min_len, max_len, beams)\n",
        "    bart_sum = generate_bart_summary(text[:2000], min_len, max_len, beams)\n",
        "    pegasus_sum = generate_pegasus_summary(text[:2000], min_len, max_len, beams)\n",
        "\n",
        "    metrics = {\n",
        "        't5': {\n",
        "            'summary': t5_sum,\n",
        "            'length': analyze_summary_length(t5_sum),\n",
        "            'sim_to_original': similarity_to_original(t5_sum, text)\n",
        "        },\n",
        "        'bart': {\n",
        "            'summary': bart_sum,\n",
        "            'length': analyze_summary_length(bart_sum),\n",
        "            'sim_to_original': similarity_to_original(bart_sum, text)\n",
        "        },\n",
        "        'pegasus': {\n",
        "            'summary': pegasus_sum,\n",
        "            'length': analyze_summary_length(pegasus_sum),\n",
        "            'sim_to_original': similarity_to_original(pegasus_sum, text)\n",
        "        },\n",
        "        'sim_t5_bart': compute_similarity(t5_sum, bart_sum),\n",
        "        'sim_t5_pegasus': compute_similarity(t5_sum, pegasus_sum),\n",
        "        'sim_bart_pegasus': compute_similarity(bart_sum, pegasus_sum)\n",
        "    }\n",
        "\n",
        "    print(\"----------- Enhanced Summarization Comparison -----------\")\n",
        "    print(f\"T5 Summary (Length: {metrics['t5']['length']}, Sim to Original: {metrics['t5']['sim_to_original']:.3f}):\")\n",
        "    print(textwrap.fill(t5_sum, width=100))\n",
        "    print(f\"\\nBART Summary (Length: {metrics['bart']['length']}, Sim to Original: {metrics['bart']['sim_to_original']:.3f}):\")\n",
        "    print(textwrap.fill(bart_sum, width=100))\n",
        "    print(f\"\\nPEGASUS Summary (Length: {metrics['pegasus']['length']}, Sim to Original: {metrics['pegasus']['sim_to_original']:.3f}):\")\n",
        "    print(textwrap.fill(pegasus_sum, width=100))\n",
        "    print(f\"\\nSimilarity T5 vs BART: {metrics['sim_t5_bart']:.3f}\")\n",
        "    print(f\"Similarity T5 vs PEGASUS: {metrics['sim_t5_pegasus']:.3f}\")\n",
        "    print(f\"Similarity BART vs PEGASUS: {metrics['sim_bart_pegasus']:.3f}\")\n",
        "\n",
        "    return metrics"
      ]
    },
    {
      "cell_type": "markdown",
      "metadata": {
        "id": "aZOLpEnqkjyj"
      },
      "source": [
        "### Section 3.4: Enhanced Paraphrasing Comparison\n",
        "Compare PEGASUS, T5-Paraphrase, and BART-Paraphrase."
      ]
    },
    {
      "cell_type": "code",
      "execution_count": 20,
      "metadata": {
        "id": "5tCRtDqjkmol"
      },
      "outputs": [],
      "source": [
        "def compare_paraphrasers_enhanced(text, num_return=3, beams=10):\n",
        "    \"\"\"Enhanced comparison of PEGASUS, T5-Paraphrase, and BART-Paraphrase.\"\"\"\n",
        "    peg_paras = generate_pegasus_paraphrase(text, num_return, beams)\n",
        "    t5_paras = generate_t5_paraphrase(text, num_return, beams)\n",
        "    bart_paras = generate_bart_paraphrase(text, num_return, beams)\n",
        "\n",
        "    metrics = {\n",
        "        'pegasus': {\n",
        "            'paraphrases': peg_paras,\n",
        "            'avg_length': sum(len(p.split()) for p in peg_paras) / len(peg_paras),\n",
        "            'avg_sim_to_original': sum(compute_similarity(p, text) for p in peg_paras) / len(peg_paras)\n",
        "        },\n",
        "        't5_paraphrase': {\n",
        "            'paraphrases': t5_paras,\n",
        "            'avg_length': sum(len(p.split()) for p in t5_paras) / len(t5_paras),\n",
        "            'avg_sim_to_original': sum(compute_similarity(p, text) for p in t5_paras) / len(t5_paras)\n",
        "        },\n",
        "        'bart_paraphrase': {\n",
        "            'paraphrases': bart_paras,\n",
        "            'avg_length': sum(len(p.split()) for p in bart_paras) / len(bart_paras),\n",
        "            'avg_sim_to_original': sum(compute_similarity(p, text) for p in bart_paras) / len(bart_paras)\n",
        "        },\n",
        "        'avg_sim_peg_t5': sum(compute_similarity(peg_paras[i], t5_paras[i]) for i in range(num_return)) / num_return,\n",
        "        'avg_sim_peg_bart': sum(compute_similarity(peg_paras[i], bart_paras[i]) for i in range(num_return)) / num_return,\n",
        "        'avg_sim_t5_bart': sum(compute_similarity(t5_paras[i], bart_paras[i]) for i in range(num_return)) / num_return\n",
        "    }\n",
        "\n",
        "    print(\"----------- Enhanced Paraphrasing Comparison -----------\")\n",
        "    print(f\"PEGASUS Paraphrases (Avg Length: {metrics['pegasus']['avg_length']:.1f}, Avg Sim to Original: {metrics['pegasus']['avg_sim_to_original']:.3f}):\")\n",
        "    for i, p in enumerate(peg_paras, 1):\n",
        "        print(f\"  {i}. {p}\")\n",
        "    print(f\"\\nT5-Paraphrase Paraphrases (Avg Length: {metrics['t5_paraphrase']['avg_length']:.1f}, Avg Sim to Original: {metrics['t5_paraphrase']['avg_sim_to_original']:.3f}):\")\n",
        "    for i, p in enumerate(t5_paras, 1):\n",
        "        print(f\"  {i}. {p}\")\n",
        "    print(f\"\\nBART-Paraphrase Paraphrases (Avg Length: {metrics['bart_paraphrase']['avg_length']:.1f}, Avg Sim to Original: {metrics['bart_paraphrase']['avg_sim_to_original']:.3f}):\")\n",
        "    for i, p in enumerate(bart_paras, 1):\n",
        "        print(f\"  {i}. {p}\")\n",
        "    print(f\"\\nAverage Similarity PEGASUS vs T5-Paraphrase: {metrics['avg_sim_peg_t5']:.3f}\")\n",
        "    print(f\"Average Similarity PEGASUS vs BART-Paraphrase: {metrics['avg_sim_peg_bart']:.3f}\")\n",
        "    print(f\"Average Similarity T5-Paraphrase vs BART-Paraphrase: {metrics['avg_sim_t5_bart']:.3f}\")\n",
        "\n",
        "    return metrics"
      ]
    },
    {
      "cell_type": "markdown",
      "metadata": {
        "id": "TALNNGd4kvyP"
      },
      "source": [
        "## Part 4: Integrated TextMorph Pipeline\n",
        "### Section 4.1: Pipeline Initialization\n",
        "Initialize the pipeline class."
      ]
    },
    {
      "cell_type": "code",
      "execution_count": 21,
      "metadata": {
        "id": "0NOx3wfykyVG"
      },
      "outputs": [],
      "source": [
        "class TextMorphPipeline:\n",
        "    \"\"\"Streamlined TextMorph pipeline for text files, no preprocessing or NLP.\"\"\"\n",
        "\n",
        "    def __init__(self):\n",
        "        self.reference_texts = []\n",
        "\n",
        "    def add_reference(self, text):\n",
        "        \"\"\"Add reference text for similarity.\"\"\"\n",
        "        self.reference_texts.append(text)"
      ]
    },
    {
      "cell_type": "markdown",
      "metadata": {
        "id": "Fv1uzKPKk1Ty"
      },
      "source": [
        "### Section 4.2: Pipeline Summarization Step\n",
        "Summarize in pipeline."
      ]
    },
    {
      "cell_type": "code",
      "execution_count": 22,
      "metadata": {
        "id": "fZbY02Qdk8RR"
      },
      "outputs": [],
      "source": [
        "def pipeline_summarize(self, input_text, summarizer='t5'):\n",
        "    \"\"\"Summarization step in pipeline.\"\"\"\n",
        "    if summarizer == 't5':\n",
        "        summary = generate_t5_summary(input_text)\n",
        "    elif summarizer == 'bart':\n",
        "        summary = generate_bart_summary(input_text)\n",
        "    elif summarizer == 'pegasus':\n",
        "        summary = generate_pegasus_summary(input_text)\n",
        "    else:\n",
        "        raise ValueError(\"Invalid summarizer. Choose 't5', 'bart', or 'pegasus'.\")\n",
        "    return summary, summarizer"
      ]
    },
    {
      "cell_type": "markdown",
      "metadata": {
        "id": "_cRwE7jQk_TD"
      },
      "source": [
        "### Section 4.3: Pipeline Paraphrasing Step\n",
        "Paraphrase in pipeline with comparison."
      ]
    },
    {
      "cell_type": "code",
      "execution_count": 23,
      "metadata": {
        "id": "qAf8trqElB0L"
      },
      "outputs": [],
      "source": [
        "\n",
        "def pipeline_paraphrase(self, input_text, paraphrase_sentences=2):\n",
        "    \"\"\"Paraphrasing step with comparison.\"\"\"\n",
        "    # Simple sentence splitting without NLTK\n",
        "    sentences = re.split(r'[.!?]+', input_text)[:paraphrase_sentences]\n",
        "    sentences = [s.strip() for s in sentences if s.strip()]\n",
        "    paraphrases = {}\n",
        "    for i, sent in enumerate(sentences):\n",
        "        key = f'Sentence {i+1}'\n",
        "        metrics = compare_paraphrasers_enhanced(sent)\n",
        "        paraphrases[key] = {'original': sent[:100] + \"...\", 'metrics': metrics}\n",
        "    return paraphrases"
      ]
    },
    {
      "cell_type": "markdown",
      "metadata": {
        "id": "V8-y7PHplEQC"
      },
      "source": [
        "### Section 4.4: Pipeline Similarity Step\n",
        "Compute similarity in pipeline."
      ]
    },
    {
      "cell_type": "code",
      "execution_count": 24,
      "metadata": {
        "id": "IENpCAPvlGy1"
      },
      "outputs": [],
      "source": [
        "def pipeline_similarity(self, input_text, top_k_similar=2):\n",
        "    \"\"\"Similarity step in pipeline.\"\"\"\n",
        "    if self.reference_texts:\n",
        "        similarities = [(i+1, compute_similarity(input_text[:2000], ref)) for i, ref in enumerate(self.reference_texts)]\n",
        "        similarities.sort(key=lambda x: x[1], reverse=True)\n",
        "        return similarities[:top_k_similar]\n",
        "    return []"
      ]
    },
    {
      "cell_type": "markdown",
      "metadata": {
        "id": "vAL3-1IklJmd"
      },
      "source": [
        "### Section 4.5: Full Pipeline Process\n",
        "Run the full pipeline."
      ]
    },
    {
      "cell_type": "code",
      "execution_count": 25,
      "metadata": {
        "id": "YhtFAFRBlSza"
      },
      "outputs": [],
      "source": [
        "def process(self, input_text, summarizer='t5', paraphrase_sentences=2, top_k_similar=2):\n",
        "    \"\"\"Run the full pipeline.\"\"\"\n",
        "    results = {}\n",
        "\n",
        "    summary, used_summarizer = pipeline_summarize(self, input_text, summarizer)\n",
        "    results['summary'] = summary\n",
        "    results['summarizer_used'] = used_summarizer\n",
        "\n",
        "    results['paraphrases'] = pipeline_paraphrase(self, input_text, paraphrase_sentences)\n",
        "\n",
        "    results['similarities'] = pipeline_similarity(self, input_text, top_k_similar)\n",
        "\n",
        "    return results\n",
        "\n",
        "# Bind methods to class\n",
        "TextMorphPipeline.pipeline_summarize = pipeline_summarize\n",
        "TextMorphPipeline.pipeline_paraphrase = pipeline_paraphrase\n",
        "TextMorphPipeline.pipeline_similarity = pipeline_similarity\n",
        "TextMorphPipeline.process = process\n",
        "\n",
        "# Initialize\n",
        "pipeline = TextMorphPipeline()"
      ]
    },
    {
      "cell_type": "markdown",
      "metadata": {
        "id": "ZRBPgtRLlV8J"
      },
      "source": [
        "## Part 5: Testing with Text Files\n",
        "### Section 5.1: Add Reference Texts\n",
        "Add references for similarity."
      ]
    },
    {
      "cell_type": "code",
      "execution_count": 26,
      "metadata": {
        "colab": {
          "base_uri": "https://localhost:8080/"
        },
        "id": "zvvsZtKVlXCK",
        "outputId": "38ac11e1-4697-424f-cc58-e59666a6b967"
      },
      "outputs": [
        {
          "output_type": "stream",
          "name": "stdout",
          "text": [
            " Reference texts added.\n"
          ]
        }
      ],
      "source": [
        "pipeline.add_reference(\"Natural Language Processing powers modern AI applications.\")\n",
        "pipeline.add_reference(\"Machine learning enhances text analysis capabilities.\")\n",
        "print(\" Reference texts added.\")"
      ]
    },
    {
      "cell_type": "markdown",
      "metadata": {
        "id": "cIEFjjk8lY_r"
      },
      "source": [
        "### Section 5.2: Process First Text (T5)\n",
        "Run pipeline with T5 on first text."
      ]
    },
    {
      "cell_type": "code",
      "execution_count": 27,
      "metadata": {
        "colab": {
          "base_uri": "https://localhost:8080/"
        },
        "id": "ZEejdf_zlcFF",
        "outputId": "36736648-1b43-4b58-8878-19c588855b0c"
      },
      "outputs": [
        {
          "output_type": "stream",
          "name": "stdout",
          "text": [
            "----------- Enhanced Paraphrasing Comparison -----------\n",
            "PEGASUS Paraphrases (Avg Length: 8.7, Avg Sim to Original: 0.915):\n",
            "  1. Natural Language Processing helps computers understand human language.\n",
            "  2. Natural Language Processing is used to understand human language.\n",
            "  3. Natural Language Processing can help computers understand human language.\n",
            "\n",
            "T5-Paraphrase Paraphrases (Avg Length: 9.3, Avg Sim to Original: 0.985):\n",
            "  1. Natural language processing enables computers to understand human language\n",
            "  2. Natural language processing allows computers to understand human language\n",
            "  3. Natural language processing allows computers to understand human language .\n",
            "\n",
            "BART-Paraphrase Paraphrases (Avg Length: 9.0, Avg Sim to Original: 0.971):\n",
            "  1. Natural Language Processing allows computers to understand human language.\n",
            "  2. Natural language processing allows computers to understand human language.\n",
            "  3. Natural Language Processing enables computers to understand human language.\n",
            "\n",
            "Average Similarity PEGASUS vs T5-Paraphrase: 0.929\n",
            "Average Similarity PEGASUS vs BART-Paraphrase: 0.950\n",
            "Average Similarity T5-Paraphrase vs BART-Paraphrase: 0.977\n",
            "----------- T5 on First Text (Alice's Adventures in Wonderland) -----------\n",
            "Summary: Natural Language Processing (NLP) enables computers to understand human language . nLP is a type of\n",
            "natural language processing that can be used by humans to understand other language types, such as\n",
            "chinese, spanish, swiss, and irish .\n"
          ]
        }
      ],
      "source": [
        "first_text = loaded_texts['Text 1']['text']\n",
        "results_t5_first = pipeline.process(first_text, summarizer='t5')\n",
        "print(\"----------- T5 on First Text (Alice's Adventures in Wonderland) -----------\")\n",
        "print(f\"Summary: {textwrap.fill(results_t5_first['summary'], width=100)}\")"
      ]
    },
    {
      "cell_type": "markdown",
      "metadata": {
        "id": "GwXLK4uwlf4Z"
      },
      "source": [
        "### Section 5.3: Process Second Text (PEGASUS)\n",
        "Run pipeline with PEGASUS on second text."
      ]
    },
    {
      "cell_type": "code",
      "execution_count": 28,
      "metadata": {
        "colab": {
          "base_uri": "https://localhost:8080/"
        },
        "id": "zvG4By8Slg7Q",
        "outputId": "2c814ba6-2f9c-4768-ea0d-eace80cce7ff"
      },
      "outputs": [
        {
          "output_type": "stream",
          "name": "stdout",
          "text": [
            "----------- Enhanced Paraphrasing Comparison -----------\n",
            "PEGASUS Paraphrases (Avg Length: 8.7, Avg Sim to Original: 0.915):\n",
            "  1. Natural Language Processing helps computers understand human language.\n",
            "  2. Natural Language Processing is used to understand human language.\n",
            "  3. Natural Language Processing can help computers understand human language.\n",
            "\n",
            "T5-Paraphrase Paraphrases (Avg Length: 9.3, Avg Sim to Original: 0.985):\n",
            "  1. Natural language processing enables computers to understand human language\n",
            "  2. Natural language processing allows computers to understand human language\n",
            "  3. Natural language processing allows computers to understand human language .\n",
            "\n",
            "BART-Paraphrase Paraphrases (Avg Length: 9.0, Avg Sim to Original: 0.971):\n",
            "  1. Natural Language Processing allows computers to understand human language.\n",
            "  2. Natural language processing allows computers to understand human language.\n",
            "  3. Natural Language Processing enables computers to understand human language.\n",
            "\n",
            "Average Similarity PEGASUS vs T5-Paraphrase: 0.929\n",
            "Average Similarity PEGASUS vs BART-Paraphrase: 0.950\n",
            "Average Similarity T5-Paraphrase vs BART-Paraphrase: 0.977\n",
            "----------- PEGASUS on Second Text (The Adventures of Sherlock Holmes) -----------\n",
            "Summary: Scientists at the University of California, Berkeley, have developed a way to train computers to\n",
            "understand human language, using natural language processing (NLP) technology.<n> Natural Language\n",
            "Processing enables computers to comprehend human language.\n"
          ]
        }
      ],
      "source": [
        "second_text = loaded_texts['Text 2']['text']\n",
        "results_pegasus_second = pipeline.process(second_text, summarizer='pegasus')\n",
        "print(\"----------- PEGASUS on Second Text (The Adventures of Sherlock Holmes) -----------\")\n",
        "print(f\"Summary: {textwrap.fill(results_pegasus_second['summary'], width=100)}\")"
      ]
    },
    {
      "cell_type": "markdown",
      "metadata": {
        "id": "pv1-YYqjljmu"
      },
      "source": [
        "### Section 5.4: Enhanced Comparison on Both Texts\n",
        "Compare T5, BART, and PEGASUS on both texts."
      ]
    },
    {
      "cell_type": "code",
      "execution_count": 29,
      "metadata": {
        "colab": {
          "base_uri": "https://localhost:8080/"
        },
        "id": "N-SzvgGJlmwl",
        "outputId": "5bc6b7b2-6458-4fa3-ab24-1228ccca61ed"
      },
      "outputs": [
        {
          "output_type": "stream",
          "name": "stdout",
          "text": [
            "----------- Enhanced Summarization Comparison on First Text -----------\n",
            "----------- Enhanced Summarization Comparison -----------\n",
            "T5 Summary (Length: 38, Sim to Original: 0.750):\n",
            "Natural Language Processing (NLP) enables computers to understand human language . nLP is a type of\n",
            "natural language processing that can be used by humans to understand other language types, such as\n",
            "chinese, spanish, swiss, and irish .\n",
            "\n",
            "BART Summary (Length: 28, Sim to Original: 0.724):\n",
            "Natural Language Processing enables computers to understand human language.Transcript for Natural\n",
            "Language ProcessingTranscript of natural language processingTranscript from natural language\n",
            "processorTranscript to natural language server server serverServer server\n",
            "\n",
            "PEGASUS Summary (Length: 33, Sim to Original: 0.768):\n",
            "Scientists at the University of California, Berkeley, have developed a way to train computers to\n",
            "understand human language, using natural language processing (NLP) technology.<n> Natural Language\n",
            "Processing enables computers to comprehend human language.\n",
            "\n",
            "Similarity T5 vs BART: 0.659\n",
            "Similarity T5 vs PEGASUS: 0.791\n",
            "Similarity BART vs PEGASUS: 0.622\n",
            "----------- Enhanced Summarization Comparison on Second Text -----------\n",
            "----------- Enhanced Summarization Comparison -----------\n",
            "T5 Summary (Length: 38, Sim to Original: 0.750):\n",
            "Natural Language Processing (NLP) enables computers to understand human language . nLP is a type of\n",
            "natural language processing that can be used by humans to understand other language types, such as\n",
            "chinese, spanish, swiss, and irish .\n",
            "\n",
            "BART Summary (Length: 28, Sim to Original: 0.724):\n",
            "Natural Language Processing enables computers to understand human language.Transcript for Natural\n",
            "Language ProcessingTranscript of natural language processingTranscript from natural language\n",
            "processorTranscript to natural language server server serverServer server\n",
            "\n",
            "PEGASUS Summary (Length: 33, Sim to Original: 0.768):\n",
            "Scientists at the University of California, Berkeley, have developed a way to train computers to\n",
            "understand human language, using natural language processing (NLP) technology.<n> Natural Language\n",
            "Processing enables computers to comprehend human language.\n",
            "\n",
            "Similarity T5 vs BART: 0.659\n",
            "Similarity T5 vs PEGASUS: 0.791\n",
            "Similarity BART vs PEGASUS: 0.622\n"
          ]
        }
      ],
      "source": [
        "print(\"----------- Enhanced Summarization Comparison on First Text -----------\")\n",
        "comparison_first = compare_summarizers_enhanced(first_text)\n",
        "print(\"----------- Enhanced Summarization Comparison on Second Text -----------\")\n",
        "comparison_second = compare_summarizers_enhanced(second_text)"
      ]
    },
    {
      "cell_type": "markdown",
      "metadata": {
        "id": "76X5XxrdlpU2"
      },
      "source": [
        "## Part 6: Visualization & Insights\n",
        "### Section 6.1: Enhanced Summarization Metrics Plot\n",
        "Visualize T5 vs BART vs PEGASUS metrics."
      ]
    },
    {
      "cell_type": "code",
      "execution_count": 30,
      "metadata": {
        "colab": {
          "base_uri": "https://localhost:8080/",
          "height": 1000
        },
        "id": "2KqCniz5lxLg",
        "outputId": "f0b7907e-0318-450c-d8a4-831b4f1c3eda"
      },
      "outputs": [
        {
          "output_type": "display_data",
          "data": {
            "text/plain": [
              "<Figure size 1000x500 with 2 Axes>"
            ],
            "image/png": "[encoded data removed]"
          },
          "metadata": {}
        },
        {
          "output_type": "display_data",
          "data": {
            "text/plain": [
              "<Figure size 1000x500 with 2 Axes>"
            ],
            "image/png": "[encoded data removed]"
          },
          "metadata": {}
        }
      ],
      "source": [
        "def plot_enhanced_summarization_comparison(metrics, title=\"Summarization Comparison\"):\n",
        "    \"\"\"Plot enhanced metrics for summarization models.\"\"\"\n",
        "    fig, (ax1, ax2) = plt.subplots(1, 2, figsize=(10, 5))\n",
        "\n",
        "    # Length\n",
        "    ax1.bar(['T5', 'BART', 'PEGASUS'],\n",
        "            [metrics['t5']['length'], metrics['bart']['length'], metrics['pegasus']['length']],\n",
        "            color='gold')\n",
        "    ax1.set_title('Summary Length')\n",
        "\n",
        "    # Similarity to Original\n",
        "    ax2.bar(['T5', 'BART', 'PEGASUS'],\n",
        "            [metrics['t5']['sim_to_original'],\n",
        "             metrics['bart']['sim_to_original'],\n",
        "             metrics['pegasus']['sim_to_original']],\n",
        "            color='lightcoral')\n",
        "    ax2.set_title('Similarity to Original')\n",
        "\n",
        "    plt.suptitle(title, fontsize=14)\n",
        "    plt.tight_layout(rect=[0, 0, 1, 0.95])\n",
        "    plt.show()\n",
        "\n",
        "plot_enhanced_summarization_comparison(comparison_first, title=\"Summarization Comparison (Alice's Adventures in Wonderland)\")\n",
        "plot_enhanced_summarization_comparison(comparison_second, title=\"Summarization Comparison (The Adventures of Sherlock Holmes)\")"
      ]
    },
    {
      "cell_type": "markdown",
      "metadata": {
        "id": "eT4p46Tclyle"
      },
      "source": [
        "### Section 6.2: Enhanced Paraphrasing Metrics Plot\n",
        "Visualize PEGASUS vs T5-Paraphrase vs BART-Paraphrase metrics."
      ]
    },
    {
      "cell_type": "code",
      "execution_count": 31,
      "metadata": {
        "colab": {
          "base_uri": "https://localhost:8080/",
          "height": 842
        },
        "id": "uWY51Utyl1WP",
        "outputId": "608385a9-5ca1-4c7d-e6b5-0d4e36471119"
      },
      "outputs": [
        {
          "output_type": "stream",
          "name": "stdout",
          "text": [
            "----------- Enhanced Paraphrasing Comparison -----------\n",
            "PEGASUS Paraphrases (Avg Length: 8.7, Avg Sim to Original: 0.915):\n",
            "  1. Natural Language Processing helps computers understand human language.\n",
            "  2. Natural Language Processing is used to understand human language.\n",
            "  3. Natural Language Processing can help computers understand human language.\n",
            "\n",
            "T5-Paraphrase Paraphrases (Avg Length: 9.3, Avg Sim to Original: 0.985):\n",
            "  1. Natural language processing enables computers to understand human language\n",
            "  2. Natural language processing allows computers to understand human language\n",
            "  3. Natural language processing allows computers to understand human language .\n",
            "\n",
            "BART-Paraphrase Paraphrases (Avg Length: 9.0, Avg Sim to Original: 0.971):\n",
            "  1. Natural Language Processing allows computers to understand human language.\n",
            "  2. Natural language processing allows computers to understand human language.\n",
            "  3. Natural Language Processing enables computers to understand human language.\n",
            "\n",
            "Average Similarity PEGASUS vs T5-Paraphrase: 0.929\n",
            "Average Similarity PEGASUS vs BART-Paraphrase: 0.950\n",
            "Average Similarity T5-Paraphrase vs BART-Paraphrase: 0.977\n"
          ]
        },
        {
          "output_type": "display_data",
          "data": {
            "text/plain": [
              "<Figure size 1000x500 with 2 Axes>"
            ],
            "image/png": "[encoded data removed]"
          },
          "metadata": {}
        }
      ],
      "source": [
        "def plot_enhanced_paraphrasing_comparison(metrics, title=\"Paraphrasing Comparison\"):\n",
        "    \"\"\"Plot enhanced metrics for paraphrasing models.\"\"\"\n",
        "    fig, (ax1, ax2) = plt.subplots(1, 2, figsize=(10, 5))\n",
        "\n",
        "    # Average Length\n",
        "    ax1.bar(['PEGASUS', 'T5-Paraphrase', 'BART-Paraphrase'],\n",
        "            [metrics['pegasus']['avg_length'],\n",
        "             metrics['t5_paraphrase']['avg_length'],\n",
        "             metrics['bart_paraphrase']['avg_length']],\n",
        "            color='gold')\n",
        "    ax1.set_title('Average Paraphrase Length')\n",
        "\n",
        "    # Average Similarity to Original\n",
        "    ax2.bar(['PEGASUS', 'T5-Paraphrase', 'BART-Paraphrase'],\n",
        "            [metrics['pegasus']['avg_sim_to_original'],\n",
        "             metrics['t5_paraphrase']['avg_sim_to_original'],\n",
        "             metrics['bart_paraphrase']['avg_sim_to_original']],\n",
        "            color='lightcoral')\n",
        "    ax2.set_title('Average Similarity to Original')\n",
        "\n",
        "    plt.suptitle(title, fontsize=14)\n",
        "    plt.tight_layout(rect=[0, 0, 1, 0.95])\n",
        "    plt.show()\n",
        "\n",
        "# Plot paraphrasing comparison for first sentence of first text\n",
        "first_sentence = re.split(r'[.!?]+', first_text)[0].strip()\n",
        "plot_enhanced_paraphrasing_comparison(compare_paraphrasers_enhanced(first_sentence),\n",
        "                                     title=\"Paraphrasing Comparison (Alice's Adventures in Wonderland Sentence)\")"
      ]
    },
    {
      "cell_type": "markdown",
      "metadata": {
        "id": "Z4urzFrQpiHi"
      },
      "source": [
        "## Section 7.1:Bigram Analysis\n",
        "Add bigram analysis using simple string splitting."
      ]
    },
    {
      "cell_type": "code",
      "execution_count": 32,
      "metadata": {
        "colab": {
          "base_uri": "https://localhost:8080/"
        },
        "id": "-T4OFs2Mpqwa",
        "outputId": "325c2b48-f4a6-4968-9e12-e43b8ffb75aa"
      },
      "outputs": [
        {
          "output_type": "stream",
          "name": "stdout",
          "text": [
            "\n",
            "Bigram Analysis\n",
            "\n",
            "Text 1:\n",
            "Top Bigrams: [('Natural Language', 1), ('Language Processing', 1), ('Processing enables', 1), ('enables computers', 1), ('computers to', 1)]\n",
            "\n",
            "Text 2:\n",
            "Top Bigrams: [('Natural Language', 1), ('Language Processing', 1), ('Processing enables', 1), ('enables computers', 1), ('computers to', 1)]\n"
          ]
        }
      ],
      "source": [
        "def analyze_bigrams(text):\n",
        "    \"\"\"Compute top bigrams using string splitting.\"\"\"\n",
        "    text = clean_text(text[:2000])  # Clean and limit for performance\n",
        "    words = text.split()\n",
        "    bigrams = [(words[i], words[i+1]) for i in range(len(words)-1)]\n",
        "    bigram_freq = Counter(bigrams).most_common(5)\n",
        "    return [(f\"{w1} {w2}\", count) for (w1, w2), count in bigram_freq]\n",
        "\n",
        "print(\"\\nBigram Analysis\")\n",
        "for key, data in loaded_texts.items():\n",
        "    print(f\"\\n{key}:\")\n",
        "    bigrams = analyze_bigrams(data['text'])\n",
        "    print(f\"Top Bigrams: {bigrams}\")"
      ]
    },
    {
      "cell_type": "markdown",
      "metadata": {
        "id": "5QXXOjoQp0xR"
      },
      "source": [
        "### Section 7.2: Bigram Visualization\n",
        "Visualize bigram frequencies."
      ]
    },
    {
      "cell_type": "code",
      "execution_count": 33,
      "metadata": {
        "colab": {
          "base_uri": "https://localhost:8080/",
          "height": 797
        },
        "id": "NGEa2XdHp4MY",
        "outputId": "b7c55047-00cb-4d22-b8fc-a8da349641d4"
      },
      "outputs": [
        {
          "output_type": "display_data",
          "data": {
            "text/plain": [
              "<Figure size 800x400 with 1 Axes>"
            ],
            "image/png": "[encoded data removed]"
          },
          "metadata": {}
        },
        {
          "output_type": "display_data",
          "data": {
            "text/plain": [
              "<Figure size 800x400 with 1 Axes>"
            ],
            "image/png": "[encoded data removed]"
          },
          "metadata": {}
        }
      ],
      "source": [
        "def plot_bigrams(bigrams, title=\"Top Bigrams\"):\n",
        "    \"\"\"Plot top bigrams.\"\"\"\n",
        "    if bigrams:\n",
        "        labels, counts = zip(*bigrams)\n",
        "        plt.figure(figsize=(8, 4))\n",
        "        plt.bar(labels, counts, color='teal')\n",
        "        plt.title(title, fontsize=12)\n",
        "        plt.xticks(rotation=45)\n",
        "        plt.tight_layout()\n",
        "        plt.show()\n",
        "\n",
        "for key, data in loaded_texts.items():\n",
        "    bigrams = analyze_bigrams(data['text'])\n",
        "    plot_bigrams(bigrams, title=f\"Top Bigrams ({key})\")"
      ]
    },
    {
      "cell_type": "code",
      "execution_count": 33,
      "metadata": {
        "id": "v9Ot_WfFyTcl"
      },
      "outputs": [],
      "source": []
    }
  ],
  "metadata": {
    "colab": {
      "provenance": [],
      "gpuType": "T4"
    },
    "kernelspec": {
      "display_name": "Python 3",
      "name": "python3"
    },
    "language_info": {
      "name": "python"
    },
    "accelerator": "GPU"
  },
  "nbformat": 4,
  "nbformat_minor": 0
}