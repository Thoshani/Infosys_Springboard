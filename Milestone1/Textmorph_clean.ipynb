{
  "cells": [
    {
      "cell_type": "markdown",
      "metadata": {
        "id": "otGaT0FPiBgk"
      },
      "source": [
        "### Section 0.1: Install Libraries\n",
        "Install required dependencies (no NLTK, spaCy, langdetect, textstat, or wordcloud).\n",
        "### Import Libraries\n",
        "Import necessary libraries."
      ]
    },
    {
      "cell_type": "code",
      "source": [
        "import warnings"
      ],
      "metadata": {
        "id": "cT7I_aX-YjTq"
      },
      "execution_count": null,
      "outputs": []
    },
    {
      "cell_type": "code",
      "execution_count": null,
      "metadata": {
        "colab": {
          "base_uri": "https://localhost:8080/"
        },
        "id": "K7r_cf92iGjQ",
        "outputId": "506c4634-6192-4c2a-e55d-96bfd59855d9"
      },
      "outputs": [],
      "source": [
        "!pip install transformers sentencepiece sentence-transformers scikit-learn matplotlib pandas --quiet\n",
        "print(\"Libraries installed.\")\n",
        "import matplotlib.pyplot as plt\n",
        "from collections import Counter\n",
        "import textwrap\n",
        "import re\n",
        "import requests\n",
        "import ssl\n",
        "from transformers import T5ForConditionalGeneration, T5Tokenizer\n",
        "from transformers import BartForConditionalGeneration, BartTokenizer\n",
        "from transformers import PegasusForConditionalGeneration, PegasusTokenizer\n",
        "from sentence_transformers import SentenceTransformer\n",
        "from sklearn.metrics.pairwise import cosine_similarity\n",
        "\n",
        "# Handle SSL for file downloads\n",
        "try:\n",
        "    _create_unverified_https_context = ssl._create_unverified_context\n",
        "except AttributeError:\n",
        "    pass\n",
        "else:\n",
        "    ssl._create_default_https_context = _create_unverified_https_context\n",
        "\n",
        "print(\"Libraries imported.\")"
      ]
    },
    {
      "cell_type": "markdown",
      "metadata": {
        "id": "h75sUp1kiuX9"
      },
      "source": [
        "### Section 0.2: Load Summarization Models\n",
        "Load T5, BART, and PEGASUS for summarization."
      ]
    },
    {
      "cell_type": "code",
      "execution_count": null,
      "metadata": {
        "colab": {
          "base_uri": "https://localhost:8080/",
          "height": 787,
          "referenced_widgets": [
            "ff7ab4bcdff94825b9a0e533c1f8874f",
            "5d37d4c5af3b477f8eb589f58b62aad5",
            "1f1fc7b5df10446c854a452a533ae085",
            "a67ccd118e4a4cc5917ff129a9107ea0",
            "c03075145ee84e77b5c5c2158e6175f5",
            "47001bb3399c43a0a69e0d291a696bf4",
            "43678ce89fac43869a4228897be0b7f5",
            "c5571d56a0ea4aa4a7ba18b8dd00dd18",
            "7ed6fded61744a769c0a76d1c011246f",
            "7db4c76639d54a3b946e568706468f3c",
            "7899da1cf96e4385a8d28183a3cb4008",
            "88ca7ce8dc104ef5973adc1b0fc61219",
            "f1dcdeae2b994fbfad9631218344a87e",
            "03de489dc24f4213b8ac7f7980685d24",
            "1753c38868f94d6c9e071b0919ec721b",
            "2a9229ad097f4aa6aa9a71fa7fca1d50",
            "ace0455f1f5e4ab9935145e24a1ddc41",
            "d46dcd583cb948988cba7d96029b0158",
            "8538f6b75ce14a9a9339dd68c54867de",
            "096cde9db8ee4b50872e06432c4d5d15",
            "b53d78124b9e4b5fb40db9fd84c4c8ce",
            "ab8ef62431d2427dbbf9309d133f981f",
            "270614be6d2a4c228eb4b38b0c06d0af",
            "2357e66ea56642b2a50e3206b1275a1e",
            "5c63f79cea7d4fb8a1a65ee3bec8a212",
            "e4d832c174594ad0aa29a522391e0b85",
            "224c5f4a44e2424b9dbb4422e2ec5832",
            "bf74e8dc6a25469889a1b1b3dacf0d18",
            "9325824c439d4dc6a0116ba7c7d7c5c8",
            "9300b7010415436ea4ef5a7846bc15b0",
            "8089aae7cf48471186bf80ebff628665",
            "7b5b905f9b7241e5b73d7235d39441fe",
            "47b19397474446bdbf6d78ec37455ee3",
            "d74c19dc0b7a473594e1949427525a58",
            "232ec56c1625472cbe6bf9dd2acfaacc",
            "49008642125549fe8e75dd04cefad592",
            "1f80bfce78974a809213fbdc9be8dac2",
            "449fa68b10bb40a0ad458a3a4b121434",
            "5b7172e438db4a5da11710a6dc1c13ce",
            "38167d71e76f4794b7891d9add393c52",
            "2214534c42db4575be4ca77185673ab9",
            "01668d7040ae4739b23f3d91778d4e89",
            "124e0146e0b94bc695b06ae84b662ec3",
            "f97e37f69c5547029d5dccfa9563ca1d",
            "5065bb74bd8c48a289bcd7f5ed95888b",
            "b94b306c7832490d951eb91fb3a6c545",
            "23ddc77a7026416f8dbd0fefb6020eae",
            "b21dfc8678f24f59b85a5c12c17e51fd",
            "58fa41082c7b4873967eb47703a9b1fa",
            "6cb035dea892472ba95a2b2d7ff77c81",
            "1ca85c290da446edae69e482c6862555",
            "2d580586ac5742d3994a54d5a0104be2",
            "e06e8394bb8d4a60990cf2ec1155d5aa",
            "a93dfbb6a71d4d45a29371f906042722",
            "296995ef519f45d09760621591f1d57a",
            "4439ccc8a8434889bbb66ea2837709aa",
            "64f3ed379ca5402b8583c6fb69dc51de",
            "abc5bfdae1fd4569b301ef34931ad659",
            "9678618fa93946d39fa9387039b0058e",
            "e0e566af74124b2b8e8b0ec2e8f04bb1",
            "666ba164cfdf4c2dbfaef5596036e6c4",
            "58225926713b4762bce78c4a818b06a7",
            "50f63cd412b74540b57f528b12b15cd9",
            "5c9a2e9f0ca445b29b590682e6dd64f3",
            "0933da162add4052bbb3ee05dc7b914d",
            "172d2b3f924f4926b60f610aed7f4080",
            "5c45a19ea4aa4b9995caed0f032adde6",
            "007632b7102b4f16bfc0d1b4a32df93b",
            "085d0d344835450d8ac086797ab437c6",
            "abc2f7c23f6a4524bfcf4030b0467000",
            "9e41221111c94d4283c4a7aed7dd086c",
            "8e2192ac6e194b47a4462fcaa1c75e2b",
            "b41a8d18c48a4d1e97b16c6eb852813c",
            "81eef314394b4f418d751b6caeea296e",
            "e930a19bfc0e43809e45e5282db02c49",
            "ec518ecec75d446b81147e2b166cceaa",
            "eb0ae5c930f04376887247534640db62",
            "475da03b9b12461194f4ca11b2397f5a",
            "a37a136ac32846808a3b8acf7a796113",
            "5dae9e5431bf45b38ec00417f5472f7b",
            "a0d9cd55bd904e48bc33411ee7593bbf",
            "3e11c36c338c48c59d58d2e3ac787a7b",
            "d10efcd90f7b41b584eb1858e32f2efb",
            "317840a65a034acaafff178c423f3d69",
            "1a8635854d7244c090aadb2e046f86e4",
            "80c8119991ab47038b2fc67dcff7aaa7",
            "13fa34302fcb4767945d7f080e53bec1",
            "0acbf60f47ae4997bc8a761cfc236f52",
            "62f80e42718c487fb5f19af8eefc768f",
            "c91c484b80d248c1a92d4e7a4b64b6b3",
            "b88c88868fa641138bf6b7943490c23e",
            "3606c8c3585c40a98c110fae5620a564",
            "55d901359a9e480e97e5cb4ca504b1dc",
            "160497dc8f4044528209acaf72e301a7",
            "38eaf6f7fd004d64a3d0feb6358ccfe7",
            "984719a9d27f41999d09bdff045579fa",
            "57f73dc781a1493195971d6d73aeba0b",
            "0def16044baa4a6998459146dbedc8c8",
            "ab095e6ae40749b099489b394bbc67d0",
            "dc442640465d46afb6e31e2d3a7ca7db",
            "937cee9e38a74141abaa02ee96a52a3a",
            "089e200c3de34244be22f07e2f9b121b",
            "83f69c19c7424c6d9d5015f35aad78a9",
            "70da974dc9404d1692f6ea7b2ebf812f",
            "5bb150bf7ad04217817a27f59670b9bd",
            "e211a8779e5543ef9f4c807070526b04",
            "41d6323c86314abd81b5cf2c360c1891",
            "b61c81d5362944d5a8a53311ba29fced",
            "754cd0c0874241d6bf8fe8fc337fd0f0",
            "f9937be90948452bb96c35749e6a9c25",
            "4ab4a49fef7d47d7970498ca8171782e",
            "65e26fa0587f4dee8f062255b9e7e0b1",
            "1af8f620fbb04cf38220145039259fee",
            "bfce61f3e2de4f3495476a84f4ed5eeb",
            "9fbc01b830b040e58e85626b2145d7f7",
            "90b3bcde26654a96a088fb4ec270945c",
            "075af0d0baaa4ba6ae00143fbd422a8e",
            "47998534b2444a21a8d4ddce4b7719e9",
            "c898f4895396461389667da4f1e597ff",
            "8f2e72411034486a83cfd7dbe01c12c3",
            "768df971351747e4b350a33514fe25c6",
            "7da1683716344795b5116a81e04614f5",
            "dde2b3a144054eda837382fab51251b3",
            "d095bbd8e81a41a8b79e3d80951f6d21",
            "69ba5b9be0c64bb7b09d3df63aee78ea",
            "acd58c7f9b554bc0bb508834de96d7e8",
            "343cb83ae53b4e57a31e677f596718a6",
            "8083fbd3977a4e19b012f0ef267aa50e",
            "979977f8d8c046069b76fe234aa51ccd",
            "6ddf21a3925944cf8435c0dfecf8e081",
            "f30e9563a7f34a9eb7e19cbfec00ac06",
            "209ad47acb6e425cb3efce01913c9a5f",
            "96456599123441fca3fa9f81d001cefa",
            "d519e818076b4cbb9b7aba56c101ad51",
            "ab915ce72fd147f4b082f95f1384bb32",
            "f8e016d9c2924661815591de0caeb0d9",
            "55453d5d23144d61b53a13ae54815300",
            "95ed4fc87f824423855e7780c810bd43",
            "0b07f8e97c0a4eada24d565ab1669aab",
            "59c5df1fd7df4a4cae433d38c498b913",
            "12056158cef34a9fbc08744826892763",
            "32a2095503004c10bcc13a29c75fb346",
            "a6fd515c4d4a475f856ff4999514ad8e",
            "33e323123040492ebc1921f174a70f67",
            "0932b264fb0a4c978a6a6c99c52a3006",
            "4258007b4bb74659a87075a70aece1c0",
            "6e88f66f0a9f4af4b6d24a59717d00ee",
            "94e2b20f2e10471fb6272ffb823f02ae",
            "eaf07e3545494dbcbd2ad51d2c3b1582",
            "c19849a442b84080aeb83763eccd88fe",
            "db492e3f6f734cb9adfdd699ea4223eb",
            "9045666ecb024dfea8822d88faf83eeb",
            "67e560002f6542c5a02eeefcad58572f",
            "e9502a9f040743f2a2864507851b2b87",
            "a223a495e2d640088af94107365a07dc",
            "d1bca4c322094ab4b6255399d2c5c29e",
            "4724ece3dfd74c3692db67d58913a894",
            "1cd289cdd8b241ce9f65dbd46c737aa1",
            "28698fe554db447ebc95fe663a355869",
            "1870f460af364f7f853ffa1abe3caada",
            "ccafb958d8254c8dbaad89cdbf5647e0",
            "d04bfcaf91d34b56bda1eecae439b01a",
            "f2ead523cf9f4ecb972f764d7600a47d",
            "cbfd1ad9a6d54d9596ce8822bbdf8638",
            "8e7febe903ba421288b6944528c63d4f",
            "54632d4292164035bb59046683db7af8",
            "073524fe82e247958ba647dfe34549a2",
            "ee988c280d3543389082be5e9f0809c6",
            "e88f442b7b104469854a210060406179",
            "6492af2aefe246d9a603cc1f7954bb87",
            "cda18eb17a0c41af841b86564f2bc5ab",
            "97ae957e827448658cdbd2b03cd07d88",
            "7da2818a29fb4d678f9d997cace539cb",
            "a83db8dcfbed42d1ada2aedceb6eeb13",
            "6288222bfc5847b2bc3cd8d35c9144c9",
            "6ab2ca62911844d58f77ea2f4517f624",
            "e29eafb53aa54a57b99f4f935c3973fe",
            "93e27daf9a8a428a99d9268ef7009d37",
            "fc1491ad33f744f6a858048c3438d4b2",
            "8c5a5907aa9d47279a7e58c6b9e37a57",
            "61c4ea2e6ac24c398a9a4dad29ed1218",
            "925ed1ec5ed143cfa429585c722c269b",
            "980a3850ef324e7f8a2a29dd4b34d8b5",
            "ae19aa3202154079b247cd36f357cd35",
            "3a703a4e0ade4a7381c04f852e5c2578",
            "ae8ae090a3bf4958a84e25010f408bb4",
            "9b5bd24a158a45009a2d3d63691c6976",
            "a8583098b95a4e5a8a3c9b65a770df42",
            "612270ccd67d4237ac453e559d77cf7b",
            "99186168212947b3aaa8dac0570932bd",
            "104a2d73711f40a2814010eedbb9ce55",
            "b26d6eea182a40b29a58f5dad9e44945",
            "11d1899cef58476ba6d5a2f57a6ea781",
            "176d50333fa74ea1bf3c7a21cd60fc50",
            "4675509144884b8192a3c7ad7e69a780",
            "ea2037187d464e94b0f7cb6dbb60b807",
            "990be8de3eab4d348d55477088a9a11e",
            "ae71b24dfdea4c4a8e1d0ec63916b181"
          ]
        },
        "id": "buI7EoqrivUG",
        "outputId": "53c16d9a-0423-49d1-82eb-5f022390ce0c"
      },
      "outputs": [],
      "source": [
        "t5_tokenizer = T5Tokenizer.from_pretrained('t5-base')\n",
        "t5_model = T5ForConditionalGeneration.from_pretrained('t5-base')\n",
        "bart_tokenizer = BartTokenizer.from_pretrained('facebook/bart-base')\n",
        "bart_model = BartForConditionalGeneration.from_pretrained('facebook/bart-base')\n",
        "pegasus_sum_tokenizer = PegasusTokenizer.from_pretrained('google/pegasus-xsum')\n",
        "pegasus_sum_model = PegasusForConditionalGeneration.from_pretrained('google/pegasus-xsum')\n",
        "print(\"Summarization models loaded: T5, BART, PEGASUS.\")"
      ]
    },
    {
      "cell_type": "markdown",
      "metadata": {
        "id": "Q3eO-zfdi25k"
      },
      "source": [
        "### Section 0.3: Load Paraphrasing Models\n",
        "Load PEGASUS, T5-Paraphrase, and BART-Paraphrase."
      ]
    },
    {
      "cell_type": "code",
      "execution_count": null,
      "metadata": {
        "colab": {
          "base_uri": "https://localhost:8080/",
          "height": 645,
          "referenced_widgets": [
            "ffdc228da3914878b796c8fb22186472",
            "17baa79fdb8f441f812e5d90c12770ef",
            "05261eebe61041cfb6c431b969d25d47",
            "80129d0e7602436295775b359f04a18d",
            "6f36b54ca9a6469b959210088b578eb1",
            "7c3b35e8fa344b199e1ee2edea793443",
            "c9fe96d09a984a708a412e9e8480202d",
            "77e865778d2c4b989821889c19d300e4",
            "f9b46049ae1f4e47bdeaf3f11b8e3910",
            "bc1674e0dd83459cac3b1fbc75dc8612",
            "d80ab4564837466398055cd6c2176cf6",
            "7fcb71fc739e420b8a0f8a40bc398b5f",
            "83a09af62c664e448060a6cef333aa2c",
            "f02e8916746048d196c1885b948ba45c",
            "7e3bbce2078a4af3b92597099a3cd972",
            "a01382acc9054dd3a81e490591017787",
            "d4b1bc4cd3b1438981c45e3b9c5b9a57",
            "b5d6969f7bb84290a949b012290537b4",
            "38bc33eafa3d4700a782cf2fadc50198",
            "1cbdb8c6a5a245da85b6ce9044784b79",
            "ffabe2c8f8244349a9d7a02464e2596d",
            "34bb7f88aec946f3be89fc601d5e8055",
            "0b75d62b0a5542f5a35a77a983f2f8fc",
            "1691b91b9bb94529948133666141c971",
            "c3feafadac3f425384ba4171fed0f5fe",
            "e568d51880004330a9fc82addb41f47d",
            "e1ba74d98eda45779f9f3337565cd34e",
            "648529049e1e474abaddd23d52c43e8a",
            "033b69fb666c47ee9c0e401fa3eda810",
            "4324b683785444b4bc0217a697b9c713",
            "e5e6496baa3e466dba50d98577500a64",
            "96e220485197425888d871d3c508cf47",
            "4f0ad77090cc4672a96bfcd6d9ce9666",
            "72a2b2e9ed8e44d4b5ad58f288451960",
            "e4bf89911c4d4c76876db505bead9d95",
            "14bdce074f7b42f5bf4c6e295d64cb2d",
            "72d350e99b96418090f232f452b3525e",
            "af27d1f6d62446209aff4f2e7b57c87d",
            "2c75872f4bc547a1aabaa4bce4c3bbe6",
            "b7a47e3ff848455fa95c4b7920903f0b",
            "c545ef4f4ef0433b84762f8a01d2c0de",
            "bc77265f1f8a48698e68b88c67cfc021",
            "3e7dd381cfd6405699c803af9040a7e9",
            "f9f2f264c9ff491da7d195c8170756bf",
            "c18ab014bd864e6f9f2d27ef490edc2e",
            "e7b5084d52f744d48d5c247993f7d5c5",
            "059e2926b0d54b66b8eb488caa1ca0fb",
            "d8c1707f810d4e4389ac318c6f14d17b",
            "ff569289056e415ebad12e696792f71b",
            "4bde1048f38d4a13aead2616ec62fb51",
            "400d7235456749e095110dcfe832ad3e",
            "52dce7b748814f6c9bf0ac9fdfdef4a5",
            "c6f28bb5b092400492c2edb224580f25",
            "1a3d1b30a28648c2b1cc2c59e563e8c0",
            "4852b4cc81674c3dab1a35f16631f312",
            "b3a0aa7a42ab4601bd30b5f7b14becda",
            "528083364e9f4b3cab73ccd29813b2a7",
            "ab9d7ed29e254ebcac143bdd48831cc8",
            "a43637d7137143b0b80094c70708e094",
            "06e4c41e11d749de8f5a8f96837da52e",
            "7e1b3670fbd24c079623600e756aa592",
            "440d2ee4ed8c4bbabb65ce3c0528eaeb",
            "53487f746fa44b0c9fcdff69bb7cf52b",
            "6ff8e25166af477a880da9beb8a1cd8c",
            "544ce9b0b82b48b68688b7b12b9baf2d",
            "896513f227ad4213a20b29d925684d31",
            "181fc37f5b2c404d9daec32eff9d5d1d",
            "df8d4e9167c541d99971763d73c5e905",
            "affc5dbf1a994148b1b70a3e385be5d1",
            "b714a0a69e05466ca416cce2220ec78d",
            "3454800ce9c346a0b65a46a1c7a3a670",
            "e2b8e9bedc664b2590cca62adc0a9576",
            "af002f3bff7145efa8768b12035b49a6",
            "059dfc173e5e41758ba104541a130295",
            "a599cffcc0a54e9eaba59c6062093edb",
            "ba97efa8706c4889ba4d7e0ff44e4a33",
            "bd77684a9a9f4d0fb5c575576ceff014",
            "c14421c2201245e1a394044b0956524e",
            "6425ef062c2846878a9a54cddb78155c",
            "1a73130934a94b2baa2ed9ec95a64cd9",
            "fede83e6fbe54408beb07eb3ffe65739",
            "64dd6c1004ae4be8b8042eb1feef68de",
            "02bb4e84cafb4725ba38bdaf1719be89",
            "1c767cabbc594fd8b559179fcdf32079",
            "c53b6f40e167437fb65b203529dde8c8",
            "06fd9996b0974614bd1d37a451751f5a",
            "161250613f114063bbbaa73c7892d161",
            "361950cc2b4c45d08f03d0bb556e474e",
            "e46720bd4e5240898631988d9db3e875",
            "b4114facb19747748b320f5b0ce7cb8e",
            "4338af19e268496c97a93667de642573",
            "de568529536847708b5d729077de8dd3",
            "a7f4e15bf8c2477382f20558b18a6bcf",
            "76c64f3daadf46a787eb2fd7dad5db4b",
            "3956fda1b92f4df6b7885f67a142fb33",
            "7ffb7ccca2dd406ca6fbd23cb706f89a",
            "7d94d6ad58964a40b97aab90bf940ed3",
            "a7c36b8645b34f4f869885a00ec1ed0f",
            "90b98561e42e4267ac925518c8fbb024",
            "c2c72cc3c9ee40f8a21b1b0e6bb880cc",
            "6c1edaeac0074a86a23aea577954a1a4",
            "b7ce1c77d012484bbf873d417dfd1494",
            "e85b5d4f3ceb4d7c881fc4f914fddf91",
            "53ce7234dceb45478a7bf5aa6c019a44",
            "bf7dfde668da4a80ba0dcde279667b45",
            "7a0f3ebd23d04b3985db9401aef36f6d",
            "48547219907341e793d70b1a02660258",
            "757d37717fbe42c0bb6b39b661baffe2",
            "669161efd12749b5ae14d784c3757cf5",
            "973b8025d7194687912f52505e106b09",
            "6cf635efb2974834a812489019dd77ff",
            "8f273113e8fa4f1eb7caaced85b7129e",
            "ab265b6f807e4ffead2097d424f1c6f5",
            "34d040b0d4134a63a32bb9cf48a34dd9",
            "a31497cbcc29455684a84f66a11ad0bf",
            "e629f8104ff840a1a709519f15204d4d",
            "5de33dc1aa5940abac31a3bfa5adb948",
            "82b291e7e24c4b9bad1fbd9a49097774",
            "19046a8b3689484caa2200913a8729de",
            "ae653b40745e4d6aa46a88598f089f5a",
            "eaf5b6ecb4bb4264b91843ef201c2f55",
            "1e8b44f769e747e9a0ea742de1a0e5d0",
            "03139736e123473eb9e9aded2ba1100e",
            "2621db0b437644238b2e08736a9ad585",
            "40234747982f452c84c5e544f165df61",
            "0187e72a1aee450b951dde651fd31df0",
            "9543d2f486d94a7bb07b486797f62b97",
            "76214da65fa1410faa38d222bcaa58c5",
            "dd4587dfe52d48fcbce2957218621df1",
            "27d7ae0aa58147028822807691a74fc0",
            "f8d544f30f3e4ddaae3ec874b4ec2444",
            "de16175d844241fbac12d7dfed7eeeb1",
            "3e357c1fcc414b158478e55e31c34b7c",
            "70e9b021a7ce42f9807f99e2bd02135e",
            "b8bcd71d38d04d119b4734f57714bac2",
            "f4f0e4aef0624751a59437f5407d4d8a",
            "0856b3bd7a9448809fc9009dd085b100",
            "30faa8ebbb78455d9cf60856ca88438c",
            "e000aa472e5945859a5a8075c37642c9",
            "c298e523d5284bd5a4a7560779ce04c0",
            "9547cbd6e3f149da846be91ec497720f",
            "5cf5df68823448998c66f6abe352a352",
            "07d49462cf884d6fa1fa93a3319f2cd4",
            "8d367d93ca0147a8b0079684b5e536d7",
            "e03e2efae1b742a7b100c027f62d90a5",
            "486125c2f68447e28bea09daa32bdd47",
            "b08d1ac810e940a682952ca9dc083984",
            "4b99dd58b5cc40d3b8ac5e8bb7bd1824",
            "8db2ea4f30b44719a0dbd57500e871a8",
            "417fe527599940e7b87bc08b5103665c",
            "ed2022d75345477d85722b7cfd8d46c1",
            "76251d261e674eaca0349e8dbd37e321",
            "bc033218bbad42268d8979f8d767a1c5",
            "487e5bee775a4f2fa4fdf42f0f61422e",
            "bfae9c0711e54bdab289353bda39994a",
            "b1f3ca6120a54090a5703013caf8e792",
            "dbb4dd1f9ae0456ba467ffb1c54f64fb",
            "98a9b3d674684b37bc2f48b365e032c1",
            "11b96ed4ad88443fa86a0d84e681f515",
            "464fcaa6425546e297f17c6102d6fd4c",
            "b168501532cd48a3aeb98988307d55e3",
            "78990fbfb7464eb7808c68743d584761",
            "7bb6f22c98d34aec9c821ef781f17c80",
            "63fdd3a58ba94b59842a7a73cb2b1270",
            "4788d97c40af4570ab48cdf2908da953",
            "b5fecd6123c6455b8056461fea5d3f95",
            "7acef8fdb1f54298b1c903f455eb4dca",
            "b2a5f3a328464427b4679040f496f6df",
            "b852cb4813c84d5aa8b39eeb22c709c8",
            "f1f7af184ee44d84b433b6fe30b0f3be",
            "1559d6f2d84a497cacea2c6dbf70917d",
            "ac893409057c4e3ea5f25708198cef9a",
            "1b2168d4a420404fa9b6a0a63a687f90",
            "488fa12c727a45ec9d89c85e61c396c8",
            "a3b0eafc18d54c38ab3f4bec2f89027f",
            "6f2dde6296f84111a6d0accf1b81457f",
            "0b4a755afe194d96bd4b6b623c8f095c",
            "ca07b25f7f044a7e801b3b5e5eddd69e",
            "4eac13c95c324754ac728eb0ffcaa8f3",
            "4b90860d802b49f081bd563450407738",
            "dc1afc0e88684c8d8d5aee0aaf1b5605",
            "075767cad90247da9871b6df32ef1ac0",
            "e5e2dbf54d824a6a8d0163ea320497ab",
            "2f41c26582df4739a9a37ea8e847a835",
            "ca9362398b8b48b2ac6d7f2dc13217cc",
            "7e9736edc30c405c8d04533dc97cad26",
            "fac91ad505fa43f0b484dd151907e131",
            "c1056b69632044e9bb613ca4db37cf17",
            "e79e9efae59b4311b4386ce883b02158",
            "792f7470370843ab854670bf457b3e7e",
            "e940f2313e634188ad7d595288e6b0bf",
            "757cf3cc4555481dac5534632810ce44",
            "12c0ecf5a0574963a5ac21403daf751b",
            "b5ec4ddd4ef44c209bf1b310cc2fdf53",
            "c1b80c8345304e3f8a8fdd83d8465f7c",
            "1e039d9c923642678892d8cdbd48a718",
            "82effcae80d94b10ac6110a907ab407c",
            "856a682152ef450d8259a7cbd1eb1497"
          ]
        },
        "id": "r1w6DcObi35l",
        "outputId": "7b6f6ff0-f6fb-49e1-f0b4-6be8ddae7454"
      },
      "outputs": [],
      "source": [
        "pegasus_para_tokenizer = PegasusTokenizer.from_pretrained('tuner007/pegasus_paraphrase')\n",
        "pegasus_para_model = PegasusForConditionalGeneration.from_pretrained('tuner007/pegasus_paraphrase')\n",
        "paraphrase_t5_tokenizer = T5Tokenizer.from_pretrained('Vamsi/T5_Paraphrase_Paws')\n",
        "paraphrase_t5_model = T5ForConditionalGeneration.from_pretrained('Vamsi/T5_Paraphrase_Paws')\n",
        "paraphrase_bart_tokenizer = BartTokenizer.from_pretrained('eugenesiow/bart-paraphrase')\n",
        "paraphrase_bart_model = BartForConditionalGeneration.from_pretrained('eugenesiow/bart-paraphrase')\n",
        "print(\"Paraphrasing models loaded: PEGASUS, T5-Paraphrase, BART-Paraphrase.\")"
      ]
    },
    {
      "cell_type": "markdown",
      "metadata": {
        "id": "sSI553Cui9pv"
      },
      "source": [
        "### Section 0.4: Load Similarity Model\n",
        "Load SentenceTransformer for similarity."
      ]
    },
    {
      "cell_type": "code",
      "execution_count": null,
      "metadata": {
        "colab": {
          "base_uri": "https://localhost:8080/",
          "height": 386,
          "referenced_widgets": [
            "a806c6d308c9472ca5d98a317cec7080",
            "1108f074d64a4b2ba1c8640b8e7ac228",
            "b1a75ae301714cefa11478dba5640cf1",
            "54232655d45a488eb1b778eaa2ae568e",
            "4ba1342c0cda49bb833e50bc28e7d8bf",
            "1737c74a1eff485c995b7f20855df359",
            "4147aa579409480f83669318c41532f5",
            "67d9bd2bcc804722ada86985261ada3c",
            "42d406e3d2c14f01ab6799708d1d3c82",
            "f8f85e9f250d44038fa2b66cfc351e66",
            "e2663c0c252d43a9850c642f844160f5",
            "d10f11f2ca624c299c1c41479e581edf",
            "12d65df25ea04bb989086f94c8ec4e5a",
            "9c97b002b7f146f08f03a1ddfe2744bc",
            "0b114df8d0a84289a34523af651edc3b",
            "cd8849eac1dd4244a0115c62a53c0e59",
            "5f22353013764067b369109183dcc246",
            "4bd2ff11c2514473bb4ad55284649b7c",
            "04e6e47a02264c16b248c554cbe8c024",
            "4ea78f9d488a4e409de239ad477a809d",
            "a9cb4ae897af4780a68bdcadaf350ab1",
            "e9a2eb19648c436fa9a46e83aa95c105",
            "493533bd1e51449e9f9adfe939ce7c6d",
            "81dd8c0766b24957a122379b8f3fb0dc",
            "45c3291ccbb84cdfa0b03c92eeffb659",
            "cd99278ee54e464b8abca3808a851021",
            "4992850fed3f4098a47931b0e65034b6",
            "4f29a8421a904b2dbdff9720bdd0b835",
            "cbe8d7c5f6124a3aae5050f4b8ae6865",
            "59e559e667fa4bb0ba7b154d94429f21",
            "b2667515e3d145e19d1a7963d8bd4b5f",
            "2517a5ac906347f3adabc810851be8ce",
            "a126bcd793b64883a12eefa8ea34b4bf",
            "41e5edcfb9234655a11e2f801b8621aa",
            "7b42baa483354c19ae0f73d345c2e7cb",
            "958d9a0670974d3ea9e4ff31d2f7db65",
            "db354a6bc06a42cc8fadcca4285e54b2",
            "c7735afe9d524a3d8278171879c47213",
            "485ce40441294902ab8b1ddc8dc38b72",
            "b892247ec1c54b9b972014fdc994361a",
            "b4e20f6d10f94a9c8956d00ef720bf47",
            "abe70c1c57da4f8db3e1a461b110dc3f",
            "60d16abc5c864dfdb92c341b27d91c80",
            "9967182286dc49979e5dbe91975851eb",
            "48ac9e16ae6d43f7b2924644fe663cca",
            "43101c47389e4715920e88d853b0ad61",
            "acbe128a57d747b7bbb8a9d84dd9b7ee",
            "f9a9f756df1043fd9304e88400b85139",
            "a98f8f19d1434b849743b1e8a381793e",
            "a930bd6e0b024148988ddcb11a7152d6",
            "cfc178d0af734fb4b8304bd97b2277eb",
            "575071dbd22a4809bb42cb3917cd89ba",
            "17ef603394f34ee8b2ebc3a5e2b10765",
            "0ee32ca53e4c4152bc710c5da0606020",
            "7717114562fb4de2a818be08e92c016d",
            "62f42e6ef7d243f79f1bad975c87da59",
            "5621a3e07e644bb48fe9c723eda47dd4",
            "b8afa838cf7748c7bc5e1e9e27fc4c7d",
            "828f33fae9964404b75ea421a70f7bd9",
            "c43d7d38d50f4e7d833919a9e5e0dbcd",
            "a8831a2bc9ac4d3bb351310b0321c8dc",
            "2444b59e67d74a2ea0f855979ba044fd",
            "2b95ef82ca4f4654836e981589567c65",
            "105df8599c68409eb6cd61a9b44bdfba",
            "df36205bc50546429bec927345a71667",
            "f970951002444bc5bebd79be02c79fac",
            "99786a3d06ac4773b4e5b96a78bafaf0",
            "9d6f31c9c8e9469798c7d546bbfa6b27",
            "875d542f93e743f2a31cd33c9e29612b",
            "cfb95415e21d4571a09b187344eaffa7",
            "dd54e9255ca547ea9b9d1d1f6aa3afcf",
            "5217114c55c44835902268504639cf48",
            "0ac194bbd737462da9a4765cf344f58b",
            "d9e5f5bc8c1b46ec9ba4a47918c7ff57",
            "523ca6526a6943faa41c8807774da751",
            "ce4cb226090e4891bc1c7510d92c3538",
            "17e7c82a572b43f194a7943c1533fcb1",
            "d3c8999b8fc040b8ad946c60da183ad1",
            "9b792dc9d35e4969af0c80435f9f784e",
            "e0511c2629224f8b8a62297b39239eea",
            "7459c0973d214ab6826d3e29caef93ce",
            "2e99d0940e83499d833ff073578402e9",
            "ae3ab99b91aa493696c7986ea95af71c",
            "6684f2f0dada4a7b8e6d172a8481c36d",
            "2f92a49af765468f83aaebd2692cfa3c",
            "30e4d19601bd4d57a98ccb48e78f9639",
            "9520bf931ab7491da10231bee45f36b8",
            "df7fa8b8e9514ab18a349d36a3a6fc8b",
            "22659e430f3448f6aa56ac203b8aec25",
            "6e034535c83243bab27752e81f2e26a2",
            "e0a8f615a036454391e699c6711c8f93",
            "152bfe12da1a4f43ad9be3b4f1870045",
            "44eaa78e436248e48c027e87e1023ebf",
            "9001b57ac4884beebcfc058a33e229e4",
            "d850834b251549c789af708c46301657",
            "c36bc2a06050424290789a0b9239f96c",
            "78006da91b284391bb12a66f4e172b23",
            "e5dbfd10c1dd40ee827c4253522e272a",
            "023f13ab02a04448ac0cac3eb3160b4f",
            "c4593ba3593b465698a1535d2469bc70",
            "bd8f30023e0b48c9af79af6e5291c0ab",
            "2e3732724fb0490ba363f55c796e4369",
            "379f4ae44ee54a50848915262a6c6191",
            "74db5a5ce4d64509a0d5741959e67b1b",
            "0284ee5eddd04ce49250a92e390e75ea",
            "65de65eaae7248e686b6d2411d04c8f5",
            "9eecd681025d4d248cc7b6a3c978ca95",
            "2391e3f1bbfe47c6a47ef30cfc1a8d88",
            "8d4aa80be8304904b71da915032ac65e",
            "e2a6388162104bd9a717941264120559",
            "9452da312d924e46af3583298948bc1d",
            "6a1b20080fb2491f9740582731ef03c1",
            "29b0c01d37e941b8bf21990258c2fa03",
            "acbddcee610b453ba60a8063066a6518",
            "743ab06fcad14206ae24f3a751227453",
            "82380591b3fb4969bf98f1109bdd80e4",
            "2e57c2ebf6f846feabbfd7d99e56a133",
            "299810f7b31341569439e211664eafa7",
            "a73ff3ccaa3e4e58befc3247509cd7ad",
            "d44aebc11e684ea8b7f8bd7373a25dee",
            "b8834c41243b472695e908b1cc676d73"
          ]
        },
        "id": "rK5pQrF8i-dT",
        "outputId": "f53234f8-5063-4dc9-d73f-6c986e3a83b1"
      },
      "outputs": [],
      "source": [
        "similarity_model = SentenceTransformer('all-MiniLM-L6-v2')\n",
        "print(\" Similarity model loaded.\")"
      ]
    },
    {
      "cell_type": "markdown",
      "metadata": {
        "id": "EMGnDj2OjAxg"
      },
      "source": [
        "## Part 1: Text Input Processing\n",
        "### Section 1.1: Load Single Text File\n",
        "Load and clean a text file from a URL."
      ]
    },
    {
      "cell_type": "code",
      "source": [
        "def load_text_file(url):\n",
        "    \"\"\"Load and clean text from a URL.\"\"\"\n",
        "    try:\n",
        "        response = requests.get(url, timeout=30)\n",
        "        response.raise_for_status()\n",
        "        text = response.text\n",
        "\n",
        "        # Convert to uppercase for safe case-insensitive matching\n",
        "        upper_text = text.upper()\n",
        "\n",
        "        # Clean Gutenberg headers/footers with customizable markers\n",
        "        start_markers = [\"PROJECT\"] # Using \"PROJECT\" as the start marker\n",
        "        end_marker = \"GUTENBERG\" # Using \"GUTENBERG\" as the end marker\n",
        "\n",
        "        start_idx = max([upper_text.find(marker) for marker in start_markers] + [0])\n",
        "        end_idx = upper_text.find(end_marker)\n",
        "        if end_idx == -1:\n",
        "            end_idx = len(text)  # fallback if end marker not found\n",
        "\n",
        "        if start_idx > 0 and end_idx > 0:\n",
        "            text = text[start_idx:end_idx]\n",
        "\n",
        "        if len(text) < 100:\n",
        "            raise ValueError(\"Text is too short.\")\n",
        "\n",
        "        return text.strip(), \"Text file\"\n",
        "\n",
        "    except Exception as e:\n",
        "        print(f\"Error loading text from {url}: {e}\")\n",
        "        fallback = \"\"\"Natural Language Processing enables computers to understand human language.\"\"\"\n",
        "        return fallback, \"Fallback text\""
      ],
      "metadata": {
        "id": "g8rmYSYM7k5U"
      },
      "execution_count": null,
      "outputs": []
    },
    {
      "cell_type": "markdown",
      "metadata": {
        "id": "iJ3hz-DFjJiM"
      },
      "source": [
        "### Section 1.2: Validate Text Input\n",
        "Validate text length and content."
      ]
    },
    {
      "cell_type": "code",
      "execution_count": null,
      "metadata": {
        "id": "V-Arv89mjM5j"
      },
      "outputs": [],
      "source": [
        "def validate_text(text):\n",
        "    \"\"\"Validate text input.\"\"\"\n",
        "    if not isinstance(text, str) or len(text.strip()) < 50:\n",
        "        raise ValueError(\"Invalid text: must be a string with at least 50 characters.\")\n",
        "    return text"
      ]
    },
    {
      "cell_type": "markdown",
      "metadata": {
        "id": "U9lJUUltjPQg"
      },
      "source": [
        "### Section 1.3: Load Multiple Text Files\n",
        "Load two text files for processing."
      ]
    },
    {
      "cell_type": "code",
      "execution_count": null,
      "metadata": {
        "id": "ID481QGZjSsC"
      },
      "outputs": [],
      "source": [
        "def load_multiple_text_files(urls):\n",
        "    \"\"\"Load multiple text files with validation.\"\"\"\n",
        "    if len(urls) != 2:\n",
        "        raise ValueError(\"Exactly two URLs must be provided.\")\n",
        "    texts = {}\n",
        "    for i, url in enumerate(urls, 1):\n",
        "        text, source = load_text_file(url)\n",
        "        text = validate_text(text)\n",
        "        texts[f\"Text {i}\"] = {'text': text[:50000], 'source': source}  # Limit size\n",
        "    return texts"
      ]
    },
    {
      "cell_type": "markdown",
      "metadata": {
        "id": "gjtIBn2JjX3M"
      },
      "source": [
        "### Section 1.4: Test Text Loading\n",
        "Load and preview two Gutenberg texts."
      ]
    },
    {
      "cell_type": "code",
      "execution_count": null,
      "metadata": {
        "colab": {
          "base_uri": "https://localhost:8080/"
        },
        "id": "DFcGylwIjY9o",
        "outputId": "af962191-dc10-49f8-9abc-7ab0039ce5fe"
      },
      "outputs": [],
      "source": [
        "file_urls = [\n",
        "    \"https://www.gutenberg.org/files/11/11-0.txt\",   # Alice's Adventures in Wonderland\n",
        "    \"https://www.gutenberg.org/files/1661/1661-0.txt\"  # The Adventures of Sherlock Holmes\n",
        "]\n",
        "\n",
        "loaded_texts = load_multiple_text_files(file_urls)\n",
        "for key, data in loaded_texts.items():\n",
        "    print(f\"{key} ({data['source']}): {len(data['text']):,} characters\")\n",
        "    print(f\"Preview: {data['text'][:150]}...\")"
      ]
    },
    {
      "cell_type": "markdown",
      "metadata": {
        "id": "brJXyI6yjbtp"
      },
      "source": [
        "## Part 2: Core Analysis Components\n",
        "### Section 2.1: T5 Summarization\n",
        "Summarize text using T5."
      ]
    },
    {
      "cell_type": "code",
      "execution_count": null,
      "metadata": {
        "id": "T6xztHMzjeoC"
      },
      "outputs": [],
      "source": [
        "def generate_t5_summary(text, min_len=40, max_len=150, beams=4):\n",
        "    \"\"\"Abstractive summarization with T5.\"\"\"\n",
        "    input_text = \"summarize: \" + text.strip().replace(\"\\n\", \" \")\n",
        "    inputs = t5_tokenizer.encode(input_text, return_tensors='pt', max_length=1024, truncation=True)\n",
        "    summary_ids = t5_model.generate(\n",
        "        inputs,\n",
        "        max_length=max_len,\n",
        "        min_length=min_len,\n",
        "        num_beams=beams,\n",
        "        no_repeat_ngram_size=3,\n",
        "        length_penalty=2.0,\n",
        "        early_stopping=True\n",
        "    )\n",
        "    return t5_tokenizer.decode(summary_ids[0], skip_special_tokens=True)\n",
        "def clean_text(text):\n",
        "    \"\"\"Remove special characters and normalize whitespace.\"\"\"\n",
        "    text = re.sub(r'[^\\x00-\\x7F]+', ' ', text)  # Remove non-ASCII characters\n",
        "    text = re.sub(r'\\s+', ' ', text)  # Normalize whitespace\n",
        "    return text.strip()"
      ]
    },
    {
      "cell_type": "markdown",
      "metadata": {
        "id": "lvAjCpv_jku1"
      },
      "source": [
        "### Section 2.2: BART Summarization\n",
        "Summarize text using BART."
      ]
    },
    {
      "cell_type": "code",
      "execution_count": null,
      "metadata": {
        "id": "jXnJC-wNjl1A"
      },
      "outputs": [],
      "source": [
        "def generate_bart_summary(text, min_len=40, max_len=150, beams=4):\n",
        "    \"\"\"Abstractive summarization with BART.\"\"\"\n",
        "    inputs = bart_tokenizer.encode(text, return_tensors='pt', max_length=1024, truncation=True)\n",
        "    summary_ids = bart_model.generate(\n",
        "        inputs,\n",
        "        max_length=max_len,\n",
        "        min_length=min_len,\n",
        "        num_beams=beams,\n",
        "        no_repeat_ngram_size=3,\n",
        "        length_penalty=2.0,\n",
        "        early_stopping=True\n",
        "    )\n",
        "    return bart_tokenizer.decode(summary_ids[0], skip_special_tokens=True)"
      ]
    },
    {
      "cell_type": "markdown",
      "metadata": {
        "id": "lUL-BMTojpDf"
      },
      "source": [
        "### Section 2.3: PEGASUS Summarization\n",
        "Summarize text using PEGASUS."
      ]
    },
    {
      "cell_type": "code",
      "execution_count": null,
      "metadata": {
        "id": "erKxAroQjul3"
      },
      "outputs": [],
      "source": [
        "def generate_pegasus_summary(text, min_len=40, max_len=150, beams=4):\n",
        "    \"\"\"Abstractive summarization with PEGASUS.\"\"\"\n",
        "    # Clean and truncate input to prevent tokenization issues\n",
        "    text = clean_text(text[:1500])  # Stricter truncation to 1500 chars\n",
        "    try:\n",
        "        inputs = pegasus_sum_tokenizer.encode(\n",
        "            text,\n",
        "            return_tensors='pt',\n",
        "            max_length=512,  # Reduced max_length for safety\n",
        "            truncation=True,\n",
        "            padding='max_length'  # Ensure consistent input size\n",
        "        )\n",
        "        # Validate token IDs\n",
        "        if inputs.max().item() >= pegasus_sum_tokenizer.vocab_size:\n",
        "            raise ValueError(f\"Token ID {inputs.max().item()} exceeds vocab size {pegasus_sum_tokenizer.vocab_size}.\")\n",
        "        summary_ids = pegasus_sum_model.generate(\n",
        "            inputs,\n",
        "            max_length=max_len,\n",
        "            min_length=min_len,\n",
        "            num_beams=beams,\n",
        "            no_repeat_ngram_size=3,\n",
        "            length_penalty=2.0,\n",
        "            early_stopping=True\n",
        "        )\n",
        "        return pegasus_sum_tokenizer.decode(summary_ids[0], skip_special_tokens=True)\n",
        "    except Exception as e:\n",
        "        print(f\"PEGASUS summarization failed: {e}\")\n",
        "        return \"Summary unavailable due to processing error.\""
      ]
    },
    {
      "cell_type": "markdown",
      "metadata": {
        "id": "IywgPGxfjyCT"
      },
      "source": [
        "### Section 2.4: PEGASUS Paraphrasing\n",
        "Generate paraphrases using PEGASUS."
      ]
    },
    {
      "cell_type": "code",
      "execution_count": null,
      "metadata": {
        "id": "VEXAsUhWj0K7"
      },
      "outputs": [],
      "source": [
        "def generate_pegasus_paraphrase(text, num_return=3, beams=10):\n",
        "    \"\"\"Generate paraphrases with PEGASUS.\"\"\"\n",
        "    inputs = pegasus_para_tokenizer.encode(text, return_tensors='pt', truncation=True, max_length=60)\n",
        "    paraphrase_ids = pegasus_para_model.generate(\n",
        "        inputs,\n",
        "        max_length=60,\n",
        "        num_beams=beams,\n",
        "        num_return_sequences=num_return,\n",
        "        early_stopping=True\n",
        "    )\n",
        "    return pegasus_para_tokenizer.batch_decode(paraphrase_ids, skip_special_tokens=True)"
      ]
    },
    {
      "cell_type": "markdown",
      "metadata": {
        "id": "OaZP2Yudj6TK"
      },
      "source": [
        "### Section 2.5: T5 Paraphrasing\n",
        "Generate paraphrases using T5-Paraphrase."
      ]
    },
    {
      "cell_type": "code",
      "execution_count": null,
      "metadata": {
        "id": "uqN4KPlxj7Ij"
      },
      "outputs": [],
      "source": [
        "def generate_t5_paraphrase(text, num_return=3, beams=10):\n",
        "    \"\"\"Generate paraphrases with T5-Paraphrase.\"\"\"\n",
        "    input_text = f\"paraphrase: {text} </s>\"\n",
        "    inputs = paraphrase_t5_tokenizer.encode(input_text, return_tensors='pt', max_length=512, truncation=True)\n",
        "    paraphrase_ids = paraphrase_t5_model.generate(\n",
        "        inputs,\n",
        "        max_length=60,\n",
        "        num_beams=beams,\n",
        "        num_return_sequences=num_return,\n",
        "        early_stopping=True\n",
        "    )\n",
        "    return paraphrase_t5_tokenizer.batch_decode(paraphrase_ids, skip_special_tokens=True)"
      ]
    },
    {
      "cell_type": "markdown",
      "metadata": {
        "id": "hyvg3h5qkBnJ"
      },
      "source": [
        "### Section 2.6: BART Paraphrasing\n",
        "Generate paraphrases using BART-Paraphrase."
      ]
    },
    {
      "cell_type": "code",
      "execution_count": null,
      "metadata": {
        "id": "wuYhp9q2kCcl"
      },
      "outputs": [],
      "source": [
        "def generate_bart_paraphrase(text, num_return=3, beams=10):\n",
        "    \"\"\"Generate paraphrases with BART-Paraphrase.\"\"\"\n",
        "    inputs = paraphrase_bart_tokenizer.encode(text, return_tensors='pt', truncation=True, max_length=60)\n",
        "    paraphrase_ids = paraphrase_bart_model.generate(\n",
        "        inputs,\n",
        "        max_length=60,\n",
        "        num_beams=beams,\n",
        "        num_return_sequences=num_return,\n",
        "        early_stopping=True\n",
        "    )\n",
        "    return paraphrase_bart_tokenizer.batch_decode(paraphrase_ids, skip_special_tokens=True)"
      ]
    },
    {
      "cell_type": "markdown",
      "metadata": {
        "id": "b0O2Qs3DkHD5"
      },
      "source": [
        "### Section 2.7: Similarity Analysis\n",
        "Compute semantic similarity."
      ]
    },
    {
      "cell_type": "code",
      "execution_count": null,
      "metadata": {
        "id": "DcH5JhqhkHu5"
      },
      "outputs": [],
      "source": [
        "def compute_similarity(text1, text2):\n",
        "    \"\"\"Compute cosine similarity between texts.\"\"\"\n",
        "    embeddings = similarity_model.encode([text1, text2])\n",
        "    return cosine_similarity([embeddings[0]], [embeddings[1]])[0][0]"
      ]
    },
    {
      "cell_type": "markdown",
      "metadata": {
        "id": "jVwBdE9tkLDg"
      },
      "source": [
        "## Part 3: Enhanced Model Comparison\n",
        "### Section 3.1: Summary Length Analysis\n",
        "Compute summary length."
      ]
    },
    {
      "cell_type": "code",
      "execution_count": null,
      "metadata": {
        "id": "tI6FLsq0kNWH"
      },
      "outputs": [],
      "source": [
        "def analyze_summary_length(summary):\n",
        "    \"\"\"Compute word count of summary.\"\"\"\n",
        "    return len(summary.split())  # Simple split instead of NLTK tokenization"
      ]
    },
    {
      "cell_type": "markdown",
      "metadata": {
        "id": "56u6ccYWkSQ1"
      },
      "source": [
        "### Section 3.2: Similarity to Original\n",
        "Compute similarity to original text."
      ]
    },
    {
      "cell_type": "code",
      "execution_count": null,
      "metadata": {
        "id": "iWR2WO3YkUfI"
      },
      "outputs": [],
      "source": [
        "def similarity_to_original(summary, original_text):\n",
        "    \"\"\"Compute similarity between summary and original.\"\"\"\n",
        "    return compute_similarity(summary, original_text[:2000])"
      ]
    },
    {
      "cell_type": "markdown",
      "metadata": {
        "id": "ytOszqKGkYPj"
      },
      "source": [
        "### Section 3.3: Enhanced Summarization Comparison\n",
        "Compare T5, BART, and PEGASUS for summarization."
      ]
    },
    {
      "cell_type": "code",
      "execution_count": null,
      "metadata": {
        "id": "2mErKEJEkZEw"
      },
      "outputs": [],
      "source": [
        "def compare_summarizers_enhanced(text, min_len=40, max_len=150, beams=4):\n",
        "    \"\"\"Enhanced comparison of T5, BART, and PEGASUS for summarization.\"\"\"\n",
        "    t5_sum = generate_t5_summary(text[:2000], min_len, max_len, beams)\n",
        "    bart_sum = generate_bart_summary(text[:2000], min_len, max_len, beams)\n",
        "    pegasus_sum = generate_pegasus_summary(text[:2000], min_len, max_len, beams)\n",
        "\n",
        "    metrics = {\n",
        "        't5': {\n",
        "            'summary': t5_sum,\n",
        "            'length': analyze_summary_length(t5_sum),\n",
        "            'sim_to_original': similarity_to_original(t5_sum, text)\n",
        "        },\n",
        "        'bart': {\n",
        "            'summary': bart_sum,\n",
        "            'length': analyze_summary_length(bart_sum),\n",
        "            'sim_to_original': similarity_to_original(bart_sum, text)\n",
        "        },\n",
        "        'pegasus': {\n",
        "            'summary': pegasus_sum,\n",
        "            'length': analyze_summary_length(pegasus_sum),\n",
        "            'sim_to_original': similarity_to_original(pegasus_sum, text)\n",
        "        },\n",
        "        'sim_t5_bart': compute_similarity(t5_sum, bart_sum),\n",
        "        'sim_t5_pegasus': compute_similarity(t5_sum, pegasus_sum),\n",
        "        'sim_bart_pegasus': compute_similarity(bart_sum, pegasus_sum)\n",
        "    }\n",
        "\n",
        "    print(\"----------- Enhanced Summarization Comparison -----------\")\n",
        "    print(f\"T5 Summary (Length: {metrics['t5']['length']}, Sim to Original: {metrics['t5']['sim_to_original']:.3f}):\")\n",
        "    print(textwrap.fill(t5_sum, width=100))\n",
        "    print(f\"\\nBART Summary (Length: {metrics['bart']['length']}, Sim to Original: {metrics['bart']['sim_to_original']:.3f}):\")\n",
        "    print(textwrap.fill(bart_sum, width=100))\n",
        "    print(f\"\\nPEGASUS Summary (Length: {metrics['pegasus']['length']}, Sim to Original: {metrics['pegasus']['sim_to_original']:.3f}):\")\n",
        "    print(textwrap.fill(pegasus_sum, width=100))\n",
        "    print(f\"\\nSimilarity T5 vs BART: {metrics['sim_t5_bart']:.3f}\")\n",
        "    print(f\"Similarity T5 vs PEGASUS: {metrics['sim_t5_pegasus']:.3f}\")\n",
        "    print(f\"Similarity BART vs PEGASUS: {metrics['sim_bart_pegasus']:.3f}\")\n",
        "\n",
        "    return metrics"
      ]
    },
    {
      "cell_type": "markdown",
      "metadata": {
        "id": "aZOLpEnqkjyj"
      },
      "source": [
        "### Section 3.4: Enhanced Paraphrasing Comparison\n",
        "Compare PEGASUS, T5-Paraphrase, and BART-Paraphrase."
      ]
    },
    {
      "cell_type": "code",
      "execution_count": null,
      "metadata": {
        "id": "5tCRtDqjkmol"
      },
      "outputs": [],
      "source": [
        "def compare_paraphrasers_enhanced(text, num_return=3, beams=10):\n",
        "    \"\"\"Enhanced comparison of PEGASUS, T5-Paraphrase, and BART-Paraphrase.\"\"\"\n",
        "    peg_paras = generate_pegasus_paraphrase(text, num_return, beams)\n",
        "    t5_paras = generate_t5_paraphrase(text, num_return, beams)\n",
        "    bart_paras = generate_bart_paraphrase(text, num_return, beams)\n",
        "\n",
        "    metrics = {\n",
        "        'pegasus': {\n",
        "            'paraphrases': peg_paras,\n",
        "            'avg_length': sum(len(p.split()) for p in peg_paras) / len(peg_paras),\n",
        "            'avg_sim_to_original': sum(compute_similarity(p, text) for p in peg_paras) / len(peg_paras)\n",
        "        },\n",
        "        't5_paraphrase': {\n",
        "            'paraphrases': t5_paras,\n",
        "            'avg_length': sum(len(p.split()) for p in t5_paras) / len(t5_paras),\n",
        "            'avg_sim_to_original': sum(compute_similarity(p, text) for p in t5_paras) / len(t5_paras)\n",
        "        },\n",
        "        'bart_paraphrase': {\n",
        "            'paraphrases': bart_paras,\n",
        "            'avg_length': sum(len(p.split()) for p in bart_paras) / len(bart_paras),\n",
        "            'avg_sim_to_original': sum(compute_similarity(p, text) for p in bart_paras) / len(bart_paras)\n",
        "        },\n",
        "        'avg_sim_peg_t5': sum(compute_similarity(peg_paras[i], t5_paras[i]) for i in range(num_return)) / num_return,\n",
        "        'avg_sim_peg_bart': sum(compute_similarity(peg_paras[i], bart_paras[i]) for i in range(num_return)) / num_return,\n",
        "        'avg_sim_t5_bart': sum(compute_similarity(t5_paras[i], bart_paras[i]) for i in range(num_return)) / num_return\n",
        "    }\n",
        "\n",
        "    print(\"----------- Enhanced Paraphrasing Comparison -----------\")\n",
        "    print(f\"PEGASUS Paraphrases (Avg Length: {metrics['pegasus']['avg_length']:.1f}, Avg Sim to Original: {metrics['pegasus']['avg_sim_to_original']:.3f}):\")\n",
        "    for i, p in enumerate(peg_paras, 1):\n",
        "        print(f\"  {i}. {p}\")\n",
        "    print(f\"\\nT5-Paraphrase Paraphrases (Avg Length: {metrics['t5_paraphrase']['avg_length']:.1f}, Avg Sim to Original: {metrics['t5_paraphrase']['avg_sim_to_original']:.3f}):\")\n",
        "    for i, p in enumerate(t5_paras, 1):\n",
        "        print(f\"  {i}. {p}\")\n",
        "    print(f\"\\nBART-Paraphrase Paraphrases (Avg Length: {metrics['bart_paraphrase']['avg_length']:.1f}, Avg Sim to Original: {metrics['bart_paraphrase']['avg_sim_to_original']:.3f}):\")\n",
        "    for i, p in enumerate(bart_paras, 1):\n",
        "        print(f\"  {i}. {p}\")\n",
        "    print(f\"\\nAverage Similarity PEGASUS vs T5-Paraphrase: {metrics['avg_sim_peg_t5']:.3f}\")\n",
        "    print(f\"Average Similarity PEGASUS vs BART-Paraphrase: {metrics['avg_sim_peg_bart']:.3f}\")\n",
        "    print(f\"Average Similarity T5-Paraphrase vs BART-Paraphrase: {metrics['avg_sim_t5_bart']:.3f}\")\n",
        "\n",
        "    return metrics"
      ]
    },
    {
      "cell_type": "markdown",
      "metadata": {
        "id": "TALNNGd4kvyP"
      },
      "source": [
        "## Part 4: Integrated TextMorph Pipeline\n",
        "### Section 4.1: Pipeline Initialization\n",
        "Initialize the pipeline class."
      ]
    },
    {
      "cell_type": "code",
      "execution_count": null,
      "metadata": {
        "id": "0NOx3wfykyVG"
      },
      "outputs": [],
      "source": [
        "class TextMorphPipeline:\n",
        "    \"\"\"Streamlined TextMorph pipeline for text files, no preprocessing or NLP.\"\"\"\n",
        "\n",
        "    def __init__(self):\n",
        "        self.reference_texts = []\n",
        "\n",
        "    def add_reference(self, text):\n",
        "        \"\"\"Add reference text for similarity.\"\"\"\n",
        "        self.reference_texts.append(text)"
      ]
    },
    {
      "cell_type": "markdown",
      "metadata": {
        "id": "Fv1uzKPKk1Ty"
      },
      "source": [
        "### Section 4.2: Pipeline Summarization Step\n",
        "Summarize in pipeline."
      ]
    },
    {
      "cell_type": "code",
      "execution_count": null,
      "metadata": {
        "id": "fZbY02Qdk8RR"
      },
      "outputs": [],
      "source": [
        "def pipeline_summarize(self, input_text, summarizer='t5'):\n",
        "    \"\"\"Summarization step in pipeline.\"\"\"\n",
        "    if summarizer == 't5':\n",
        "        summary = generate_t5_summary(input_text)\n",
        "    elif summarizer == 'bart':\n",
        "        summary = generate_bart_summary(input_text)\n",
        "    elif summarizer == 'pegasus':\n",
        "        summary = generate_pegasus_summary(input_text)\n",
        "    else:\n",
        "        raise ValueError(\"Invalid summarizer. Choose 't5', 'bart', or 'pegasus'.\")\n",
        "    return summary, summarizer"
      ]
    },
    {
      "cell_type": "markdown",
      "metadata": {
        "id": "_cRwE7jQk_TD"
      },
      "source": [
        "### Section 4.3: Pipeline Paraphrasing Step\n",
        "Paraphrase in pipeline with comparison."
      ]
    },
    {
      "cell_type": "code",
      "execution_count": null,
      "metadata": {
        "id": "qAf8trqElB0L"
      },
      "outputs": [],
      "source": [
        "\n",
        "def pipeline_paraphrase(self, input_text, paraphrase_sentences=2):\n",
        "    \"\"\"Paraphrasing step with comparison.\"\"\"\n",
        "    # Simple sentence splitting without NLTK\n",
        "    sentences = re.split(r'[.!?]+', input_text)[:paraphrase_sentences]\n",
        "    sentences = [s.strip() for s in sentences if s.strip()]\n",
        "    paraphrases = {}\n",
        "    for i, sent in enumerate(sentences):\n",
        "        key = f'Sentence {i+1}'\n",
        "        metrics = compare_paraphrasers_enhanced(sent)\n",
        "        paraphrases[key] = {'original': sent[:100] + \"...\", 'metrics': metrics}\n",
        "    return paraphrases"
      ]
    },
    {
      "cell_type": "markdown",
      "metadata": {
        "id": "V8-y7PHplEQC"
      },
      "source": [
        "### Section 4.4: Pipeline Similarity Step\n",
        "Compute similarity in pipeline."
      ]
    },
    {
      "cell_type": "code",
      "execution_count": null,
      "metadata": {
        "id": "IENpCAPvlGy1"
      },
      "outputs": [],
      "source": [
        "def pipeline_similarity(self, input_text, top_k_similar=2):\n",
        "    \"\"\"Similarity step in pipeline.\"\"\"\n",
        "    if self.reference_texts:\n",
        "        similarities = [(i+1, compute_similarity(input_text[:2000], ref)) for i, ref in enumerate(self.reference_texts)]\n",
        "        similarities.sort(key=lambda x: x[1], reverse=True)\n",
        "        return similarities[:top_k_similar]\n",
        "    return []"
      ]
    },
    {
      "cell_type": "markdown",
      "metadata": {
        "id": "vAL3-1IklJmd"
      },
      "source": [
        "### Section 4.5: Full Pipeline Process\n",
        "Run the full pipeline."
      ]
    },
    {
      "cell_type": "code",
      "execution_count": null,
      "metadata": {
        "id": "YhtFAFRBlSza"
      },
      "outputs": [],
      "source": [
        "def process(self, input_text, summarizer='t5', paraphrase_sentences=2, top_k_similar=2):\n",
        "    \"\"\"Run the full pipeline.\"\"\"\n",
        "    results = {}\n",
        "\n",
        "    summary, used_summarizer = pipeline_summarize(self, input_text, summarizer)\n",
        "    results['summary'] = summary\n",
        "    results['summarizer_used'] = used_summarizer\n",
        "\n",
        "    results['paraphrases'] = pipeline_paraphrase(self, input_text, paraphrase_sentences)\n",
        "\n",
        "    results['similarities'] = pipeline_similarity(self, input_text, top_k_similar)\n",
        "\n",
        "    return results\n",
        "\n",
        "# Bind methods to class\n",
        "TextMorphPipeline.pipeline_summarize = pipeline_summarize\n",
        "TextMorphPipeline.pipeline_paraphrase = pipeline_paraphrase\n",
        "TextMorphPipeline.pipeline_similarity = pipeline_similarity\n",
        "TextMorphPipeline.process = process\n",
        "\n",
        "# Initialize\n",
        "pipeline = TextMorphPipeline()"
      ]
    },
    {
      "cell_type": "markdown",
      "metadata": {
        "id": "ZRBPgtRLlV8J"
      },
      "source": [
        "## Part 5: Testing with Text Files\n",
        "### Section 5.1: Add Reference Texts\n",
        "Add references for similarity."
      ]
    },
    {
      "cell_type": "code",
      "execution_count": null,
      "metadata": {
        "colab": {
          "base_uri": "https://localhost:8080/"
        },
        "id": "zvvsZtKVlXCK",
        "outputId": "ce108fc9-b8ae-449f-ac6b-93e1a32ad7e0"
      },
      "outputs": [],
      "source": [
        "pipeline.add_reference(\"Natural Language Processing powers modern AI applications.\")\n",
        "pipeline.add_reference(\"Machine learning enhances text analysis capabilities.\")\n",
        "print(\" Reference texts added.\")"
      ]
    },
    {
      "cell_type": "markdown",
      "metadata": {
        "id": "cIEFjjk8lY_r"
      },
      "source": [
        "### Section 5.2: Process First Text (T5)\n",
        "Run pipeline with T5 on first text."
      ]
    },
    {
      "cell_type": "code",
      "execution_count": null,
      "metadata": {
        "colab": {
          "base_uri": "https://localhost:8080/"
        },
        "id": "ZEejdf_zlcFF",
        "outputId": "623ea0a9-fd52-4795-9ce0-bfc348e94552"
      },
      "outputs": [],
      "source": [
        "first_text = loaded_texts['Text 1']['text']\n",
        "results_t5_first = pipeline.process(first_text, summarizer='t5')\n",
        "print(\"----------- T5 on First Text (Alice's Adventures in Wonderland) -----------\")\n",
        "print(f\"Summary: {textwrap.fill(results_t5_first['summary'], width=100)}\")"
      ]
    },
    {
      "cell_type": "markdown",
      "metadata": {
        "id": "GwXLK4uwlf4Z"
      },
      "source": [
        "### Section 5.3: Process Second Text (PEGASUS)\n",
        "Run pipeline with PEGASUS on second text."
      ]
    },
    {
      "cell_type": "code",
      "execution_count": null,
      "metadata": {
        "colab": {
          "base_uri": "https://localhost:8080/"
        },
        "id": "zvG4By8Slg7Q",
        "outputId": "31369adb-2606-4f7d-f5ab-3f20c377b67e"
      },
      "outputs": [],
      "source": [
        "second_text = loaded_texts['Text 2']['text']\n",
        "results_pegasus_second = pipeline.process(second_text, summarizer='pegasus')\n",
        "print(\"----------- PEGASUS on Second Text (The Adventures of Sherlock Holmes) -----------\")\n",
        "print(f\"Summary: {textwrap.fill(results_pegasus_second['summary'], width=100)}\")"
      ]
    },
    {
      "cell_type": "markdown",
      "metadata": {
        "id": "pv1-YYqjljmu"
      },
      "source": [
        "### Section 5.4: Enhanced Comparison on Both Texts\n",
        "Compare T5, BART, and PEGASUS on both texts."
      ]
    },
    {
      "cell_type": "code",
      "execution_count": null,
      "metadata": {
        "colab": {
          "base_uri": "https://localhost:8080/"
        },
        "id": "N-SzvgGJlmwl",
        "outputId": "33a8d787-dac6-413d-b1e2-1d34349fbb8a"
      },
      "outputs": [],
      "source": [
        "print(\"----------- Enhanced Summarization Comparison on First Text -----------\")\n",
        "comparison_first = compare_summarizers_enhanced(first_text)\n",
        "print(\"----------- Enhanced Summarization Comparison on Second Text -----------\")\n",
        "comparison_second = compare_summarizers_enhanced(second_text)"
      ]
    },
    {
      "cell_type": "markdown",
      "metadata": {
        "id": "76X5XxrdlpU2"
      },
      "source": [
        "## Part 6: Visualization & Insights\n",
        "### Section 6.1: Enhanced Summarization Metrics Plot\n",
        "Visualize T5 vs BART vs PEGASUS metrics."
      ]
    },
    {
      "cell_type": "code",
      "execution_count": null,
      "metadata": {
        "colab": {
          "base_uri": "https://localhost:8080/",
          "height": 1000
        },
        "id": "2KqCniz5lxLg",
        "outputId": "139435df-b31f-40e9-8dd9-d1aa118fc86c"
      },
      "outputs": [],
      "source": [
        "def plot_enhanced_summarization_comparison(metrics, title=\"Summarization Comparison\"):\n",
        "    \"\"\"Plot enhanced metrics for summarization models.\"\"\"\n",
        "    fig, (ax1, ax2) = plt.subplots(1, 2, figsize=(10, 5))\n",
        "\n",
        "    # Length\n",
        "    ax1.bar(['T5', 'BART', 'PEGASUS'],\n",
        "            [metrics['t5']['length'], metrics['bart']['length'], metrics['pegasus']['length']],\n",
        "            color='gold')\n",
        "    ax1.set_title('Summary Length')\n",
        "\n",
        "    # Similarity to Original\n",
        "    ax2.bar(['T5', 'BART', 'PEGASUS'],\n",
        "            [metrics['t5']['sim_to_original'],\n",
        "             metrics['bart']['sim_to_original'],\n",
        "             metrics['pegasus']['sim_to_original']],\n",
        "            color='lightcoral')\n",
        "    ax2.set_title('Similarity to Original')\n",
        "\n",
        "    plt.suptitle(title, fontsize=14)\n",
        "    plt.tight_layout(rect=[0, 0, 1, 0.95])\n",
        "    plt.show()\n",
        "\n",
        "plot_enhanced_summarization_comparison(comparison_first, title=\"Summarization Comparison (Alice's Adventures in Wonderland)\")\n",
        "plot_enhanced_summarization_comparison(comparison_second, title=\"Summarization Comparison (The Adventures of Sherlock Holmes)\")"
      ]
    },
    {
      "cell_type": "markdown",
      "metadata": {
        "id": "eT4p46Tclyle"
      },
      "source": [
        "### Section 6.2: Enhanced Paraphrasing Metrics Plot\n",
        "Visualize PEGASUS vs T5-Paraphrase vs BART-Paraphrase metrics."
      ]
    },
    {
      "cell_type": "code",
      "execution_count": null,
      "metadata": {
        "colab": {
          "base_uri": "https://localhost:8080/",
          "height": 876
        },
        "id": "uWY51Utyl1WP",
        "outputId": "d7c03933-9ada-430e-a055-080dfded47b5"
      },
      "outputs": [],
      "source": [
        "def plot_enhanced_paraphrasing_comparison(metrics, title=\"Paraphrasing Comparison\"):\n",
        "    \"\"\"Plot enhanced metrics for paraphrasing models.\"\"\"\n",
        "    fig, (ax1, ax2) = plt.subplots(1, 2, figsize=(10, 5))\n",
        "\n",
        "    # Average Length\n",
        "    ax1.bar(['PEGASUS', 'T5-Paraphrase', 'BART-Paraphrase'],\n",
        "            [metrics['pegasus']['avg_length'],\n",
        "             metrics['t5_paraphrase']['avg_length'],\n",
        "             metrics['bart_paraphrase']['avg_length']],\n",
        "            color='gold')\n",
        "    ax1.set_title('Average Paraphrase Length')\n",
        "\n",
        "    # Average Similarity to Original\n",
        "    ax2.bar(['PEGASUS', 'T5-Paraphrase', 'BART-Paraphrase'],\n",
        "            [metrics['pegasus']['avg_sim_to_original'],\n",
        "             metrics['t5_paraphrase']['avg_sim_to_original'],\n",
        "             metrics['bart_paraphrase']['avg_sim_to_original']],\n",
        "            color='lightcoral')\n",
        "    ax2.set_title('Average Similarity to Original')\n",
        "\n",
        "    plt.suptitle(title, fontsize=14)\n",
        "    plt.tight_layout(rect=[0, 0, 1, 0.95])\n",
        "    plt.show()\n",
        "\n",
        "# Plot paraphrasing comparison for first sentence of first text\n",
        "first_sentence = re.split(r'[.!?]+', first_text)[0].strip()\n",
        "plot_enhanced_paraphrasing_comparison(compare_paraphrasers_enhanced(first_sentence),\n",
        "                                     title=\"Paraphrasing Comparison (Alice's Adventures in Wonderland Sentence)\")"
      ]
    },
    {
      "cell_type": "markdown",
      "metadata": {
        "id": "Z4urzFrQpiHi"
      },
      "source": [
        "## Section 7.1:Bigram Analysis\n",
        "Add bigram analysis using simple string splitting."
      ]
    },
    {
      "cell_type": "code",
      "execution_count": null,
      "metadata": {
        "colab": {
          "base_uri": "https://localhost:8080/"
        },
        "id": "-T4OFs2Mpqwa",
        "outputId": "f26a9e2f-140a-43e5-e22b-90c6515d58f2"
      },
      "outputs": [],
      "source": [
        "def analyze_bigrams(text):\n",
        "    \"\"\"Compute top bigrams using string splitting.\"\"\"\n",
        "    text = clean_text(text[:2000])  # Clean and limit for performance\n",
        "    words = text.split()\n",
        "    bigrams = [(words[i], words[i+1]) for i in range(len(words)-1)]\n",
        "    bigram_freq = Counter(bigrams).most_common(5)\n",
        "    return [(f\"{w1} {w2}\", count) for (w1, w2), count in bigram_freq]\n",
        "\n",
        "print(\"\\nBigram Analysis\")\n",
        "for key, data in loaded_texts.items():\n",
        "    print(f\"\\n{key}:\")\n",
        "    bigrams = analyze_bigrams(data['text'])\n",
        "    print(f\"Top Bigrams: {bigrams}\")"
      ]
    },
    {
      "cell_type": "markdown",
      "metadata": {
        "id": "5QXXOjoQp0xR"
      },
      "source": [
        "### Section 7.2: Bigram Visualization\n",
        "Visualize bigram frequencies."
      ]
    },
    {
      "cell_type": "code",
      "execution_count": null,
      "metadata": {
        "colab": {
          "base_uri": "https://localhost:8080/",
          "height": 797
        },
        "id": "NGEa2XdHp4MY",
        "outputId": "42988e8d-c786-4599-ed73-baa730433ea2"
      },
      "outputs": [],
      "source": [
        "def plot_bigrams(bigrams, title=\"Top Bigrams\"):\n",
        "    \"\"\"Plot top bigrams.\"\"\"\n",
        "    if bigrams:\n",
        "        labels, counts = zip(*bigrams)\n",
        "        plt.figure(figsize=(8, 4))\n",
        "        plt.bar(labels, counts, color='teal')\n",
        "        plt.title(title, fontsize=12)\n",
        "        plt.xticks(rotation=45)\n",
        "        plt.tight_layout()\n",
        "        plt.show()\n",
        "\n",
        "for key, data in loaded_texts.items():\n",
        "    bigrams = analyze_bigrams(data['text'])\n",
        "    plot_bigrams(bigrams, title=f\"Top Bigrams ({key})\")"
      ]
    },
    {
      "cell_type": "code",
      "execution_count": null,
      "metadata": {
        "id": "v9Ot_WfFyTcl"
      },
      "outputs": [],
      "source": []
    }
  ],
  "metadata": {
    "colab": {
      "provenance": [],
      "gpuType": "T4"
    },
    "kernelspec": {
      "display_name": "Python 3",
      "name": "python3"
    },
    "language_info": {
      "name": "python"
    },
    "accelerator": "GPU"
  },
  "nbformat": 4,
  "nbformat_minor": 0
}