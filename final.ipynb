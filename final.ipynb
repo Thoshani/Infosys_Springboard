{
 "cells": [
  {
   "cell_type": "markdown",
   "metadata": {
    "id": "otGaT0FPiBgk"
   },
   "source": [
    "### Section 0.1: Install Libraries\n",
    "Install required dependencies (no NLTK, spaCy, langdetect, textstat, or wordcloud).\n",
    "### Import Libraries\n",
    "Import necessary libraries."
   ]
  },
  {
   "cell_type": "code",
   "execution_count": 1,
   "metadata": {
    "colab": {
     "base_uri": "https://localhost:8080/"
    },
    "id": "K7r_cf92iGjQ",
    "outputId": "e4f8415f-13e7-4602-bc2b-c26014a6151c"
   },
   "outputs": [
    {
     "name": "stdout",
     "output_type": "stream",
     "text": [
      "Libraries installed.\n",
      "Libraries imported.\n"
     ]
    }
   ],
   "source": [
    "!pip install transformers sentencepiece sentence-transformers scikit-learn matplotlib pandas --quiet\n",
    "print(\"Libraries installed.\")\n",
    "import matplotlib.pyplot as plt\n",
    "from collections import Counter\n",
    "import textwrap\n",
    "import re\n",
    "import requests\n",
    "import ssl\n",
    "from transformers import T5ForConditionalGeneration, T5Tokenizer\n",
    "from transformers import BartForConditionalGeneration, BartTokenizer\n",
    "from transformers import PegasusForConditionalGeneration, PegasusTokenizer\n",
    "from sentence_transformers import SentenceTransformer\n",
    "from sklearn.metrics.pairwise import cosine_similarity\n",
    "\n",
    "# Handle SSL for file downloads\n",
    "try:\n",
    "    _create_unverified_https_context = ssl._create_unverified_context\n",
    "except AttributeError:\n",
    "    pass\n",
    "else:\n",
    "    ssl._create_default_https_context = _create_unverified_https_context\n",
    "\n",
    "print(\"Libraries imported.\")"
   ]
  },
  {
   "cell_type": "markdown",
   "metadata": {
    "id": "h75sUp1kiuX9"
   },
   "source": [
    "### Section 0.2: Load Summarization Models\n",
    "Load T5, BART, and PEGASUS for summarization."
   ]
  },
  {
   "cell_type": "code",
   "execution_count": 2,
   "metadata": {
    "colab": {
     "base_uri": "https://localhost:8080/",
     "height": 787,
     "referenced_widgets": [
      "1a944496a4d1450498657c7baea5bb8e",
      "04db4f01b956491cb83824186d083ec7",
      "52f387a0473843e6b6d658a30b43dcb7",
      "f58bb16f5030446ebf2d1281b6ba0827",
      "49553938fa2b4ba4ad9637e9a9688dc4",
      "0150b9d1bf9547a2b3d714ecd6f79e02",
      "18e7a65eb7294c0b801aaa2b5ede6f59",
      "715c54ce846f43ea90ebed2cc1c3d192",
      "39afce4aaf0e46fb852cf76549a78068",
      "3dfc3c6feda24d76b6be4f95f7074787",
      "aed909b2da5e42e6914923fa9ef6838c",
      "bffd17afd4964f7098ac2112305fd8d0",
      "5c37cab09ec34c0f9116945f3b0a159e",
      "812621bf44e3466fa6c8432972ccc1d2",
      "649c757b6a9a4616b3c40278e92931a7",
      "fdb0b0d343b84e0883f67a2dd3e8d769",
      "c0d4d8fa7785420cbf18313bde1fd616",
      "7887f08253004ac7a83ad4a872ce2bb9",
      "edf350aa0ce0489fb27930552c979cd4",
      "4026c366038f416c8f4c7cd6dafaac79",
      "25601e9ac3084aafb71f2740051987b5",
      "d3c53be3e65f4657be4b0aa54cccead9",
      "c32bb60fba8946e19500664cb325cfe7",
      "ad8cb105770a410d826be29081056eac",
      "86baf426877e48b89c6c79f7e5b05393",
      "2d71ffcae5b24fa7b1d3ba84f74a5d2b",
      "125c259e8b094fdf89107602e2f2cfa6",
      "739f1678a944426daffab3e6f90f8e66",
      "3ea92a3a29fb4030af8cb80d4e7cd9cb",
      "c5317ef0fda84919927a956264b89d7e",
      "b2311ed6824c4bd69b6cff7c75b0f3b3",
      "241d037d6daf44e184e34e4081001b93",
      "c325c668e28741e2aa865e9b401e6aa9",
      "1594663843e94b3f86a51b86973b2a21",
      "adb763a5e13847b0a49b368a082e9831",
      "93871ebe6327470f9a224d7767745128",
      "89406372029045d490d6806051276bb0",
      "789fda0c5bbc45afa674fd65401de324",
      "64fb420a7785449bb6b136888dbf8b3b",
      "8b306daa59a045e4b9a329ea7a6ddd22",
      "b69d1e82e8f14970a104f4872f716298",
      "43fafe91c4af47708bb6842d1558c495",
      "336998314c134ab78c48951982847f33",
      "c545396cda90410bb8f4742019c82101",
      "b441a6bcb885496ca0ba593008b6ffc0",
      "6b9e96d58fbb4819b24251285ec95781",
      "6632790c51d94574af007fa4c3bd6e68",
      "527c1e5e283640f2ba67f5407daaa949",
      "9710234629034b92897753c27e57702b",
      "c538a2d656aa4bab8c28db37a9c93c14",
      "24c6c76511aa491f922604d1df927180",
      "707424a4bc624651bb161233513c4c29",
      "073d5156111a4ddf9137503083a69640",
      "f62e37f29f9b409c9340f7c8cb8ebdd4",
      "8bea7d4fef49433c9eb34b71053de992",
      "bb33a4abc5614f32b26cb4a61df18e14",
      "c38bbba2c6564262a872d577a3d74f6e",
      "4f3b899ea45741eb93ccd15729dec82f",
      "206ac60691524d2082d524e52355dea1",
      "acc57b090c48496f9820b321bd1c3b8e",
      "fb236cfa0ffd4cf6b5c709e517a57c45",
      "bf0fdb15dc8d4a689c2f0480e9bef8cd",
      "1c1846bf9d9f4a318725993007eb6e64",
      "1c55b9ed252f4f13a4dd2c81c805ad45",
      "b71d908bf26b4e619ee4d75c3dbc56c6",
      "2f768311251545bd90dc5562dc797c54",
      "8647d136af8b42399aa82dc9d3b44d3d",
      "3a19a68aec6946e0b032e917d3fdc71f",
      "23fb450c7fa24369af7200bcbfa5ae75",
      "0e77a55389614dbca1f4154bf26d7f6c",
      "354d6217e0964cd8a011b3a3573d471d",
      "8b948900c5174156b4273cb705d808ba",
      "66a1702f0053431296444f78f9e98d9b",
      "4953c2818dca4d33868dc68b7057908a",
      "452f2346ac0f4eec89a24b7887efa491",
      "2637422443bb40dd808f3217ffd37fce",
      "ca62a126ca674f159779dac1ec20ea1a",
      "2b62ac068d244d1898ae10999f16ded0",
      "09e39e14abfd411c8b95e5a9b3d1140c",
      "d8d385e44a1a4a7a9d89016b7aeac43d",
      "89467674cc764de7a03750cc4de71adc",
      "f52982b7a63744dcbe851fb393284589",
      "5dc81605d2d84209a39a776dc177b983",
      "d144ddf3db4d403a9ebd6c89b45e75e5",
      "054c02c1592e4ce18c05f66cb0007dc2",
      "f7f00a14bbfb41debf1b4f439949f715",
      "1b81b43b66ef49ebb8ac834a05e88938",
      "b0a9fa71bf7840119b11f48734ef97ec",
      "34e512ce8b634dcf809f0535adad40f1",
      "88090683ff02424697b7351be6c4987c",
      "4b6835de406a4a11b92da689e21a716e",
      "5e51dab8973c405ca0ed7386003d8e5e",
      "77af5dc879b14cb38725b23239b760bf",
      "b3b92e0c6ba342418679d9de7502eecd",
      "636c5063493f4dc0a928234bac203c16",
      "d6e5455908e9473e802d49e834ffa27d",
      "61e34bb2d9df49a185ec9a8cd95830d7",
      "f6c33d8b10ac46d0878ad0ee7b30aace",
      "588e3c08dce841a0afe5fea5b8ca929f",
      "31cf67e8d6714ba4b7789b7488557f48",
      "07786b4845e546f3a65cf69f3b348f8a",
      "8c207c644e8c4ac8b0220a191901182c",
      "dcf48b9cb5a64a3e89ddf6bc71ffd6a0",
      "85910c5a6bf24b23bd62aaae23e07d9b",
      "e28b8cf093644543a92e44acb7778f2a",
      "70d7dd29aad94c7aa23dab2a1365d37c",
      "7b7c5a8671f04ad4858e722134d88a9d",
      "13e1115e68a34059a2f7c493fcaf37d6",
      "8fbfc1c870c54f6bba64422119eedc86",
      "9172b29969234da69d03c0b049f654a9",
      "89001c2ce0b94f58b7d4891f99e91686",
      "4b79a13b57bd4140a18cdccd3b6d48d9",
      "4345481d66e64e35b515807f753149af",
      "949658c42f914566999d285fa6c5c815",
      "51dafc34b85540a29470c02e6cfea7fc",
      "2a232a5d19f0461e9adda85f754de2c1",
      "199b0f59a5834181a7f328955214194c",
      "4f7be26b262c4e9eb1ebc31128766e6b",
      "120feae4f2a248cbb9f05101b6db0ca2",
      "f8440730d67b4fad9e6156845ff616bd",
      "2ba510a548d641578f7dac61d9cffbad",
      "8ecb017091d4408893b5a4a7726cf125",
      "2feb6e87d6ea4b929710b41e821cd45e",
      "e1a458a787f1495e90978bd28443b86b",
      "f7a2062971a94461900ac2158498d3e2",
      "c05fe6f6486c45239c4fd7921fc570c0",
      "8db0491d189048fbae20fc8e57b39983",
      "4e40a14754414e6cb1159d700aed14c3",
      "f54d904f053d44bf86c2f1bba247ff6e",
      "33fc7197326444079be202b06ea5d2c8",
      "6e53e3c8e50842e5982ff86e819b12b1",
      "f04267fed28941acb01a361517715f9e",
      "d3a75e8a062f463c81e19500672a7a60",
      "d15d8b557f244f80b2bcaf28e0123e05",
      "9d10c3df86ae41acbadff191e9cd6e66",
      "2af80122a63448779330e11ba4d3dd6d",
      "b1e298b6df374e1096761a6b5b15c81d",
      "1887fce4a9e54c1792e1b8d65e84c12f",
      "4bdcaed0d1db4411abba61e570c0e686",
      "05babfce35004e4d9f9a5f2537a93c10",
      "068355306ebd4cd5afc5e4b854e74d76",
      "b57209a8453a43248dfcd1ba00ac2f3b",
      "3dab1385b8364163a475a9f81f3ac1da",
      "f7f5fda0c1c54b0ca7327172bad7e882",
      "656a9c9e079742cfb607b5701c28f078",
      "e71c299a59ac4607a212d4263bfb93c7",
      "ac115faa98644e7189fc910e2205d49f",
      "f010ffd3e514459493400c343f17b4fe",
      "8cd781a7aa174e5a82cbecc3cf6b62f2",
      "30a0a5aec23e483198f12e59cd0be8dc",
      "e10a23d7ce9240cdb0d1b27f023ce5d3",
      "af3cd3f6caed4f6bbe3df6b70700e587",
      "01ec6dc786f544479280fb4bfe65a140",
      "796ce11667e3405895f89791f58109e0",
      "140319e20a46472aa4ad1661c6cde0d2",
      "6605f006dff14aa6a80d7fe0425b11e5",
      "92bf57dc5128424a84ddaa611629e866",
      "6e41d8836c0345f28ee514f80124071a",
      "9488dc856457417682dc42c900cc9642",
      "1c0f979562dd4fa08add6c0bacef07bc",
      "3fa829d9e9b74e1c9490322115849b4f",
      "92c9153f666242619e1c4e17978c97ea",
      "0d181629102d4d03937d9804996886b4",
      "aa6efa6f47524344bd7d90e92a9376df",
      "7f6e2ef2cc374c10ab4808076d581e5f",
      "a53ef48777e04f03b620171c111431aa",
      "6836cb6fdbdc40cd85ff0999cad6f253",
      "b17c962f3bdd4320ae3ca321d574f7bb",
      "d0c3fc6261ea48b5b5bbeac2223b7cf6",
      "99ab198808c744bdbcaf572a425d8a1d",
      "4fb79974bb464f298b5cd9637e748398",
      "f2742bba891f4f23bb301cec4881d3bc",
      "04ea619922ce443793a3e6ee221675cb",
      "6293e3b921f74828bedb77bc393e0602",
      "8646fdfca4554797b9212dc19e8370cb",
      "1d9b11fc49dc45369665cf4b50f022e2",
      "c16c53035c32496f9c494b1c326f29df",
      "bee966c92f364389b8d31fbf4738916f",
      "e5fd0c5e86dc4910a0fb0bbd6d82cd14",
      "020a47603894436583e707ce9af1f893",
      "fcca30ee73d6432581fbbf04b36b57d8",
      "f285ba6e90804a14b55f466271f38567",
      "f87ed070410d4fe082ee1e8333e097c9",
      "2b83c7a23f0c4401a6bb3e17b39b3eab",
      "24d3cf20af054bf7a0d3994261893810",
      "179003b65af44680ae035775bbc79891",
      "0c7dfcb541d342229be1e9aee3ef120b",
      "bb455ebf9bcc420d805051f452dfae48",
      "3df1ebbe25bb4f7994af19ee31f14163",
      "bb4e0979ac1e468aa06e5fa3c9b01156",
      "3cea136ea6624fc78dac4931c3df4369",
      "b16f7b369bc7437f865ad251a6a6a777",
      "3b6d2a2568004e909de9b733200fb4c8",
      "86bef38bf93348dfb9b7852e3e8e772d",
      "196490db24bd48fda6edade81eb4ed14",
      "57ce3f45279a4cccbd56fea37c5a46e1",
      "ddba4159f36d4f9eb565c19434fbc256",
      "022622fe18d34033bb6d06da8f890142"
     ]
    },
    "id": "buI7EoqrivUG",
    "outputId": "4dce8265-d954-4f10-e0b9-5031471fd60e"
   },
   "outputs": [
    {
     "name": "stderr",
     "output_type": "stream",
     "text": [
      "/usr/local/lib/python3.12/dist-packages/huggingface_hub/utils/_auth.py:94: UserWarning: \n",
      "The secret `HF_TOKEN` does not exist in your Colab secrets.\n",
      "To authenticate with the Hugging Face Hub, create a token in your settings tab (https://huggingface.co/settings/tokens), set it as secret in your Google Colab and restart your session.\n",
      "You will be able to reuse this secret in all of your notebooks.\n",
      "Please note that authentication is recommended but still optional to access public models or datasets.\n",
      "  warnings.warn(\n"
     ]
    },
    {
     "data": {
      "application/vnd.jupyter.widget-view+json": {
       "model_id": "1a944496a4d1450498657c7baea5bb8e",
       "version_major": 2,
       "version_minor": 0
      },
      "text/plain": [
       "spiece.model:   0%|          | 0.00/792k [00:00<?, ?B/s]"
      ]
     },
     "metadata": {},
     "output_type": "display_data"
    },
    {
     "data": {
      "application/vnd.jupyter.widget-view+json": {
       "model_id": "bffd17afd4964f7098ac2112305fd8d0",
       "version_major": 2,
       "version_minor": 0
      },
      "text/plain": [
       "tokenizer.json:   0%|          | 0.00/1.39M [00:00<?, ?B/s]"
      ]
     },
     "metadata": {},
     "output_type": "display_data"
    },
    {
     "data": {
      "application/vnd.jupyter.widget-view+json": {
       "model_id": "c32bb60fba8946e19500664cb325cfe7",
       "version_major": 2,
       "version_minor": 0
      },
      "text/plain": [
       "config.json:   0%|          | 0.00/1.21k [00:00<?, ?B/s]"
      ]
     },
     "metadata": {},
     "output_type": "display_data"
    },
    {
     "name": "stderr",
     "output_type": "stream",
     "text": [
      "You are using the default legacy behaviour of the <class 'transformers.models.t5.tokenization_t5.T5Tokenizer'>. This is expected, and simply means that the `legacy` (previous) behavior will be used so nothing changes for you. If you want to use the new behaviour, set `legacy=False`. This should only be set if you understand what it means, and thoroughly read the reason why this was added as explained in https://github.com/huggingface/transformers/pull/24565\n"
     ]
    },
    {
     "data": {
      "application/vnd.jupyter.widget-view+json": {
       "model_id": "1594663843e94b3f86a51b86973b2a21",
       "version_major": 2,
       "version_minor": 0
      },
      "text/plain": [
       "model.safetensors:   0%|          | 0.00/892M [00:00<?, ?B/s]"
      ]
     },
     "metadata": {},
     "output_type": "display_data"
    },
    {
     "data": {
      "application/vnd.jupyter.widget-view+json": {
       "model_id": "b441a6bcb885496ca0ba593008b6ffc0",
       "version_major": 2,
       "version_minor": 0
      },
      "text/plain": [
       "generation_config.json:   0%|          | 0.00/147 [00:00<?, ?B/s]"
      ]
     },
     "metadata": {},
     "output_type": "display_data"
    },
    {
     "data": {
      "application/vnd.jupyter.widget-view+json": {
       "model_id": "bb33a4abc5614f32b26cb4a61df18e14",
       "version_major": 2,
       "version_minor": 0
      },
      "text/plain": [
       "vocab.json: 0.00B [00:00, ?B/s]"
      ]
     },
     "metadata": {},
     "output_type": "display_data"
    },
    {
     "data": {
      "application/vnd.jupyter.widget-view+json": {
       "model_id": "8647d136af8b42399aa82dc9d3b44d3d",
       "version_major": 2,
       "version_minor": 0
      },
      "text/plain": [
       "merges.txt: 0.00B [00:00, ?B/s]"
      ]
     },
     "metadata": {},
     "output_type": "display_data"
    },
    {
     "data": {
      "application/vnd.jupyter.widget-view+json": {
       "model_id": "2b62ac068d244d1898ae10999f16ded0",
       "version_major": 2,
       "version_minor": 0
      },
      "text/plain": [
       "tokenizer.json: 0.00B [00:00, ?B/s]"
      ]
     },
     "metadata": {},
     "output_type": "display_data"
    },
    {
     "data": {
      "application/vnd.jupyter.widget-view+json": {
       "model_id": "34e512ce8b634dcf809f0535adad40f1",
       "version_major": 2,
       "version_minor": 0
      },
      "text/plain": [
       "config.json: 0.00B [00:00, ?B/s]"
      ]
     },
     "metadata": {},
     "output_type": "display_data"
    },
    {
     "data": {
      "application/vnd.jupyter.widget-view+json": {
       "model_id": "31cf67e8d6714ba4b7789b7488557f48",
       "version_major": 2,
       "version_minor": 0
      },
      "text/plain": [
       "model.safetensors:   0%|          | 0.00/558M [00:00<?, ?B/s]"
      ]
     },
     "metadata": {},
     "output_type": "display_data"
    },
    {
     "data": {
      "application/vnd.jupyter.widget-view+json": {
       "model_id": "89001c2ce0b94f58b7d4891f99e91686",
       "version_major": 2,
       "version_minor": 0
      },
      "text/plain": [
       "tokenizer_config.json:   0%|          | 0.00/87.0 [00:00<?, ?B/s]"
      ]
     },
     "metadata": {},
     "output_type": "display_data"
    },
    {
     "data": {
      "application/vnd.jupyter.widget-view+json": {
       "model_id": "8ecb017091d4408893b5a4a7726cf125",
       "version_major": 2,
       "version_minor": 0
      },
      "text/plain": [
       "spiece.model:   0%|          | 0.00/1.91M [00:00<?, ?B/s]"
      ]
     },
     "metadata": {},
     "output_type": "display_data"
    },
    {
     "data": {
      "application/vnd.jupyter.widget-view+json": {
       "model_id": "d3a75e8a062f463c81e19500672a7a60",
       "version_major": 2,
       "version_minor": 0
      },
      "text/plain": [
       "special_tokens_map.json:   0%|          | 0.00/65.0 [00:00<?, ?B/s]"
      ]
     },
     "metadata": {},
     "output_type": "display_data"
    },
    {
     "data": {
      "application/vnd.jupyter.widget-view+json": {
       "model_id": "f7f5fda0c1c54b0ca7327172bad7e882",
       "version_major": 2,
       "version_minor": 0
      },
      "text/plain": [
       "tokenizer.json: 0.00B [00:00, ?B/s]"
      ]
     },
     "metadata": {},
     "output_type": "display_data"
    },
    {
     "data": {
      "application/vnd.jupyter.widget-view+json": {
       "model_id": "140319e20a46472aa4ad1661c6cde0d2",
       "version_major": 2,
       "version_minor": 0
      },
      "text/plain": [
       "config.json: 0.00B [00:00, ?B/s]"
      ]
     },
     "metadata": {},
     "output_type": "display_data"
    },
    {
     "data": {
      "application/vnd.jupyter.widget-view+json": {
       "model_id": "a53ef48777e04f03b620171c111431aa",
       "version_major": 2,
       "version_minor": 0
      },
      "text/plain": [
       "pytorch_model.bin:   0%|          | 0.00/2.28G [00:00<?, ?B/s]"
      ]
     },
     "metadata": {},
     "output_type": "display_data"
    },
    {
     "data": {
      "application/vnd.jupyter.widget-view+json": {
       "model_id": "c16c53035c32496f9c494b1c326f29df",
       "version_major": 2,
       "version_minor": 0
      },
      "text/plain": [
       "model.safetensors:   0%|          | 0.00/2.28G [00:00<?, ?B/s]"
      ]
     },
     "metadata": {},
     "output_type": "display_data"
    },
    {
     "name": "stderr",
     "output_type": "stream",
     "text": [
      "Some weights of PegasusForConditionalGeneration were not initialized from the model checkpoint at google/pegasus-xsum and are newly initialized: ['model.decoder.embed_positions.weight', 'model.encoder.embed_positions.weight']\n",
      "You should probably TRAIN this model on a down-stream task to be able to use it for predictions and inference.\n"
     ]
    },
    {
     "data": {
      "application/vnd.jupyter.widget-view+json": {
       "model_id": "bb455ebf9bcc420d805051f452dfae48",
       "version_major": 2,
       "version_minor": 0
      },
      "text/plain": [
       "generation_config.json:   0%|          | 0.00/259 [00:00<?, ?B/s]"
      ]
     },
     "metadata": {},
     "output_type": "display_data"
    },
    {
     "name": "stdout",
     "output_type": "stream",
     "text": [
      "Summarization models loaded: T5, BART, PEGASUS.\n"
     ]
    }
   ],
   "source": [
    "t5_tokenizer = T5Tokenizer.from_pretrained('t5-base')\n",
    "t5_model = T5ForConditionalGeneration.from_pretrained('t5-base')\n",
    "bart_tokenizer = BartTokenizer.from_pretrained('facebook/bart-base')\n",
    "bart_model = BartForConditionalGeneration.from_pretrained('facebook/bart-base')\n",
    "pegasus_sum_tokenizer = PegasusTokenizer.from_pretrained('google/pegasus-xsum')\n",
    "pegasus_sum_model = PegasusForConditionalGeneration.from_pretrained('google/pegasus-xsum')\n",
    "print(\"Summarization models loaded: T5, BART, PEGASUS.\")"
   ]
  },
  {
   "cell_type": "markdown",
   "metadata": {
    "id": "Q3eO-zfdi25k"
   },
   "source": [
    "### Section 0.3: Load Paraphrasing Models\n",
    "Load PEGASUS, T5-Paraphrase, and BART-Paraphrase."
   ]
  },
  {
   "cell_type": "code",
   "execution_count": 3,
   "metadata": {
    "colab": {
     "base_uri": "https://localhost:8080/",
     "height": 645,
     "referenced_widgets": [
      "17f5f8564e8a4a3f98eca2c2e39ea086",
      "d2ceafad8b8a43b5b6208e157286d99a",
      "bbcfae546df746ce9ebf547bb0200b00",
      "1c7fe75aec8e4f7399742fce11e8c058",
      "9ed4241344454859a9afd2096799c5a8",
      "ab37c8d668984051a816384a54803bab",
      "9e19c74225334e69a2d73510b9fa8a6d",
      "497ad7bbcd2748ebadb3dff929247452",
      "4ab69e63119546468d79d9d2cc42bbf3",
      "a74b4ec0def94131add722c1b7454d6c",
      "0a5fd31a3f0d4e248ea76c153e9917cd",
      "1ee200ffb782479f9038502104279f23",
      "03e3aef7e3c44b0b978f9cc6bc153465",
      "7aa0c338e2da450990a618ec14d101e3",
      "e54a61039d3c44d98f446f94ec478d45",
      "d0750f33e93c4b5cb0471fd5ed2cbf9a",
      "d51be0d76f7f4022b7dfdac232fcbef5",
      "a5625cc4bde445fe9202792a3824e1d7",
      "a7ef235e81784a04a3f79a20a6f6927b",
      "ca8024cc46d543d88980ce21e0c46413",
      "0b1e667938b348e7a5ca9e58de7f2588",
      "3d881e2cf4db473aad1bd77728051ba8",
      "2d91799476a3417b87e1c3ca01dce2e5",
      "49f431f4b5044afd8949db6e32b68b75",
      "fcb7711d824d47a883c81b1857cb7054",
      "95374f9957ba4136958c88986ffcd66d",
      "77f26bdc64c44fe087ece19cac334038",
      "0d8cb396e75a4143b433e4bb352d2bd4",
      "ef2a286c20df4e8d90cb6285fe2f4011",
      "5b5f81e1b1ba4659a5d6b3ef1084f99e",
      "549660204bc4428893824def95da583e",
      "d8284a72e53049499fb7f7773bd2dd3c",
      "0f3357b13a4f493686ff2fe2cef6255f",
      "a3bd2b9124ea4825bc70f2588bf5f1b7",
      "f3793b260e0b4d91a8e3b1b262c4be5a",
      "573a2f7463904079be36cb598bdac87f",
      "ed3ec8cac24f4be890674f763b702f6a",
      "3c0de95f0aed406aa5d25c6a9da5ba64",
      "17c6f01d6d7841a5baec9c87ede4f981",
      "22805f66462f4821a6ed7d8b45ae54b0",
      "9ab03d71c009411193ca181d39d09d75",
      "ce8665dc6d764729baa2710d5191f729",
      "cd3811dde16f44cf9e44e59ae6641a8a",
      "cb9ffddfe16c43a484ab38e76200a02f",
      "c161161761fd4e9e9b80a84d3ad9cf68",
      "16fd126c78bf49dd9a2b5c1139ec1684",
      "64e0b9f150b34338b7bd6b16c399046f",
      "cce6bea14f9c482a8f878b33ad91b852",
      "1fde77c1fe5048e292a2ed95618579a1",
      "bbc4a0da4f394e1c81b74b09380b89c2",
      "c829532a97bf42ab8cb03e24a20422fb",
      "64c198c84d534661b7ec9662fda9ce73",
      "f147e21b56b04d9aa2c2eee440ed8a8a",
      "eaafe01e4975422a8c3d02917e037d2e",
      "e18a4127f3f447ae9e7b5398af4d2faa",
      "4e46a24cde9a4dcf90bd75f8451940dc",
      "842e251e7de940a280592ba11ee2550a",
      "fb073948051845ba9c038d5e6c709ceb",
      "3c32350f583c4cd7bf7f341acb59f9d9",
      "629d77bebbb54dddadbc208bda8e89a1",
      "802823f3d53e477cb6cb5ef7014c5903",
      "0210a57c3d674b36a685611a528b92bc",
      "267baeb477c5468cb95325e079896eea",
      "472019ff7f9f4a0783195ced5535810d",
      "05b39cb46c2f4fa690d3317628d30b58",
      "559c879bd33a4155bedfbe70440197e4",
      "f6b47fbac92a4c048d95f4ae38e02514",
      "428e35cb0090492b9deb0551ac9d6e07",
      "ad0700bee15e4197ab27289abcc630ba",
      "1f9dd101aad040a6bbfae9a25f5f1a9f",
      "bbd3a1623c5b4b1a89ecc6c22023650d",
      "b1af440f7ba949a18306a7a7536acc9c",
      "c68f14af79104fdfbfc64bf6c5464aca",
      "56e1c5c48ca041d194ad9f66aecc3872",
      "516214c2039a491d9780f6907aeb85f1",
      "926e1daa49934382963629e1fa45fbb5",
      "9633e7d5ef4c41c78bcca75a1955ad86",
      "da7d9f559b4e447eb20c961a64c4e11d",
      "74c7c4ea19d5499ea59511b7a3141286",
      "86ee9715d89b43e0bdcda32bbc8d9a9e",
      "6a512fd554ea45af8f818bfa93643503",
      "13485e860760402d8a3ed0652946bbe5",
      "1cde89cbbc4e495f83d69c9f75466729",
      "fecea111fe4646ea9909b13701bf827c",
      "3518555ab8cc476d8dc0cc0f74c5be07",
      "29697dd975aa43788395d8e02c88b26b",
      "6e39a23bca7f4f848d61ee15238a7732",
      "e003799139964d55b4fd8d4e9047929e",
      "65f13cb59849400180a4d253a4698553",
      "537f4798af49430aa52505c4d20c2ec4",
      "776a80339afc4cd4af8fb3e928ef954e",
      "92690555af8046c195811e22077b1fa2",
      "6a838eb4c1d147c1bf9bbecd2e417464",
      "c4af14483f4640feab4d33fd09f45a92",
      "06e0bcd311d244d5ab6df49db9139c9a",
      "d9031f2343704b02bcff219d0f49a91f",
      "299797ebd0524fa4b788abf8c66f49b9",
      "7c24217dc2f44f16a72b7b52c2290274",
      "e762e5933a1b442f8801c8a108b8016f",
      "0f5bdb0ea7e845ff81f066218b22dc9e",
      "242e7ea9d6d04ca29e196021c5d5f3dc",
      "f5d79abdafc04693a401e074023882ea",
      "e7445ad0862e4184abd79017b1f8024e",
      "387ad3d2fbea42dc9d31dc7d4a1d5b49",
      "d407d9ec3cc047549657fd75630bc6ff",
      "65d50e90f1464a97bb5950bba0405aa2",
      "79ee1b39879c4ff8822cd2569cf56ccd",
      "184c23f6bb704735a4b0a469556087ce",
      "56ff0d0534eb4a3d96dc03c776784737",
      "e76988e9fdb844a4ac57c9635df32887",
      "94db97ee5f604eb0a9b2b668d9816c43",
      "18b350c7922e4971826933ff09efac87",
      "579601b3984049b2920d23c0fc8ae72a",
      "3071911e36324b1cbcfbf861c1d07fd9",
      "1fc1034c54e34a92b0dd0ea77ffb523a",
      "be3a5e56f448425d9b20d7bc9c7f17de",
      "98fca6cc10bb4107987a8415d042746c",
      "200c4cbba7c94df681a1911e988a66be",
      "bf7f5fdd33f24f1bb01817a0093cc046",
      "075a6700e64e4c27940c945ed7eed5f5",
      "fa72d87fb88049b794436e8554131b0a",
      "86aaf4043a2247fc9e17d0fcf2dcc835",
      "aa58b5401d27496a8684e526998304c9",
      "d6a42a3ab43e4b85a6cb3c7e82cc659c",
      "da7084d2b208461bab0282a3e6313630",
      "14f8d56eebf84f3593cd45055740fc3f",
      "ce82b97ae8404006a21295d65e51bd57",
      "a3c712659e7247bfa0f26b4e9748c017",
      "15c10108b5a3420d8cfa812ef3476717",
      "0260ea93b6d449c9a9ac7b2c63f4b4dd",
      "4ef423ff3e7444028506531b04e2d445",
      "4dc04028364746fcaa325010b4d33258",
      "06175368916d4433b0bd033535474d43",
      "d598bbdf155f4b6d9cea58f34e92a60a",
      "96709b9341634f37b42c1e7810a254d7",
      "e4c2f74afcda4c76abca1ce8343d9acd",
      "9aedfd7d914a4f48b9dbe436277239c4",
      "43be7c90c88b48c2829f4a617bf11408",
      "d96bbd1eb0af4e3b96bd62eafa95e739",
      "3db94d59c68a438e854c2d0900019b83",
      "2fe8ee686bcf4ba290d655705b72c093",
      "7950dc2e96174eeaaa33b67dabee6ebe",
      "33b22b1ca80341fd9d5d2eddb7c6a81b",
      "027075da4fc44ab19e83cc5648bee614",
      "b9abc11b8a144183a7df7a4448f43f92",
      "751adafcb5874ce0943526c846d2f56f",
      "529be46a26504531b3d2ded8c8a005ff",
      "738f090c5d4142618749b1dd592d278a",
      "72c236ea5eb4439896d3e2359fc47c36",
      "54740b25f3824a949806fffe29d7f41e",
      "b8cc47c6598c476884ed7433fd69c0c3",
      "6841be9e8a614331922cbdb143c6b92b",
      "f495aa0b1bb74c46bc0cdc3307e7527a",
      "1bebb35008ae427193b0bfa18cd44eb5",
      "0c53d9de88d0468f9811707e92cf77d1",
      "81c605dd67a342a5bee99b1f3e102b3f",
      "47220a2de90e459db19ae3d484225953",
      "f11e911644e2468699471ca478d6eab7",
      "0f58714471c745d88e29f490c1bb1480",
      "07783e63488040b08f5fd0462faf5bbd",
      "b1cfed1cd20d4e95920aadf67355d904",
      "d36c3c9acc334adebe302b4f7529fa77",
      "a6bd51a17e6a486b9e25cebabd17c74b",
      "b06e195a2e3e4b7ba8e2c26b40239c1d",
      "d34f29f62a074edfaa2f09aeb0e1ae03",
      "ba8a77b786164de89999bd336dce46da",
      "60a77a07103142e1a5e794df2914c45f",
      "ab4908e7520a4191b711e71072d46d8c",
      "1bb79cfe5b6a47ddb5fd8608642c09f2",
      "506593428f1443c0a5a2217f6447f5b3",
      "554668b37ec54c37a1a79e9f518a4286",
      "0ff9a9873bc84446a8380fb0cdd10189",
      "88cd9f805e2d403ea7f90eaff242e969",
      "e638c643f98540d8838f879d00788eec",
      "c1067f6c5eef41dab8d6ead6358564e0",
      "06bd4e3c199d4a8782c0b88ffdeafe54",
      "a409f4536cd1445eb258cd36b9e130a9",
      "8075246e343f4a9bbf9fd33dc17fe3f7",
      "0a2fabdb71b148319c990a419985a70e",
      "9ef678f9df144a6b8ab53a8bdf1db4c6",
      "1e5cadcd1d40440da12584949bbe556b",
      "8661a2dfe4854ecbb05dd03d0791acbf",
      "613d32fd81344b3a83e9d38992e32189",
      "ba796da793924eb28df836ae80a4e240",
      "be8517f1718e42798977770366d2eea3",
      "de366dcbee64409cb7a24e3d6817444b",
      "ec50e357ae1c44d984770e3e51a72890",
      "4e3893b8be3947aba5fb013d80b7ca09",
      "2417a1447d1544b8a5eac688e07e8d1f",
      "35efe943376043a688e8f18c91631248",
      "cf3dba81ae2e4ee1b6edbc77bcc9bea0",
      "94c9e59384a14b298352f4ceeab436ca",
      "b361b066eb8e4f379ecc89e7db4e3484",
      "be2c769d03004604b10ef1a2a7b70ea9",
      "6fb3e93815df4ecca6d9f9c2be8ef094",
      "6ed3f577f3474c67a52d14b3eac627dd",
      "09816b0c0f8f4992ab0497072d24aefc",
      "e35497c0cf7a4240bfa71996264f4981"
     ]
    },
    "id": "r1w6DcObi35l",
    "outputId": "932ba55e-b0f1-483f-8288-57152a0b2db3"
   },
   "outputs": [
    {
     "data": {
      "application/vnd.jupyter.widget-view+json": {
       "model_id": "17f5f8564e8a4a3f98eca2c2e39ea086",
       "version_major": 2,
       "version_minor": 0
      },
      "text/plain": [
       "tokenizer_config.json:   0%|          | 0.00/86.0 [00:00<?, ?B/s]"
      ]
     },
     "metadata": {},
     "output_type": "display_data"
    },
    {
     "data": {
      "application/vnd.jupyter.widget-view+json": {
       "model_id": "1ee200ffb782479f9038502104279f23",
       "version_major": 2,
       "version_minor": 0
      },
      "text/plain": [
       "spiece.model:   0%|          | 0.00/1.91M [00:00<?, ?B/s]"
      ]
     },
     "metadata": {},
     "output_type": "display_data"
    },
    {
     "data": {
      "application/vnd.jupyter.widget-view+json": {
       "model_id": "2d91799476a3417b87e1c3ca01dce2e5",
       "version_major": 2,
       "version_minor": 0
      },
      "text/plain": [
       "special_tokens_map.json:   0%|          | 0.00/65.0 [00:00<?, ?B/s]"
      ]
     },
     "metadata": {},
     "output_type": "display_data"
    },
    {
     "data": {
      "application/vnd.jupyter.widget-view+json": {
       "model_id": "a3bd2b9124ea4825bc70f2588bf5f1b7",
       "version_major": 2,
       "version_minor": 0
      },
      "text/plain": [
       "config.json: 0.00B [00:00, ?B/s]"
      ]
     },
     "metadata": {},
     "output_type": "display_data"
    },
    {
     "data": {
      "application/vnd.jupyter.widget-view+json": {
       "model_id": "c161161761fd4e9e9b80a84d3ad9cf68",
       "version_major": 2,
       "version_minor": 0
      },
      "text/plain": [
       "pytorch_model.bin:   0%|          | 0.00/2.28G [00:00<?, ?B/s]"
      ]
     },
     "metadata": {},
     "output_type": "display_data"
    },
    {
     "data": {
      "application/vnd.jupyter.widget-view+json": {
       "model_id": "4e46a24cde9a4dcf90bd75f8451940dc",
       "version_major": 2,
       "version_minor": 0
      },
      "text/plain": [
       "model.safetensors:   0%|          | 0.00/2.28G [00:00<?, ?B/s]"
      ]
     },
     "metadata": {},
     "output_type": "display_data"
    },
    {
     "name": "stderr",
     "output_type": "stream",
     "text": [
      "Some weights of PegasusForConditionalGeneration were not initialized from the model checkpoint at tuner007/pegasus_paraphrase and are newly initialized: ['model.decoder.embed_positions.weight', 'model.encoder.embed_positions.weight']\n",
      "You should probably TRAIN this model on a down-stream task to be able to use it for predictions and inference.\n"
     ]
    },
    {
     "data": {
      "application/vnd.jupyter.widget-view+json": {
       "model_id": "f6b47fbac92a4c048d95f4ae38e02514",
       "version_major": 2,
       "version_minor": 0
      },
      "text/plain": [
       "tokenizer_config.json:   0%|          | 0.00/25.0 [00:00<?, ?B/s]"
      ]
     },
     "metadata": {},
     "output_type": "display_data"
    },
    {
     "data": {
      "application/vnd.jupyter.widget-view+json": {
       "model_id": "da7d9f559b4e447eb20c961a64c4e11d",
       "version_major": 2,
       "version_minor": 0
      },
      "text/plain": [
       "spiece.model:   0%|          | 0.00/792k [00:00<?, ?B/s]"
      ]
     },
     "metadata": {},
     "output_type": "display_data"
    },
    {
     "data": {
      "application/vnd.jupyter.widget-view+json": {
       "model_id": "65f13cb59849400180a4d253a4698553",
       "version_major": 2,
       "version_minor": 0
      },
      "text/plain": [
       "special_tokens_map.json: 0.00B [00:00, ?B/s]"
      ]
     },
     "metadata": {},
     "output_type": "display_data"
    },
    {
     "data": {
      "application/vnd.jupyter.widget-view+json": {
       "model_id": "0f5bdb0ea7e845ff81f066218b22dc9e",
       "version_major": 2,
       "version_minor": 0
      },
      "text/plain": [
       "config.json: 0.00B [00:00, ?B/s]"
      ]
     },
     "metadata": {},
     "output_type": "display_data"
    },
    {
     "data": {
      "application/vnd.jupyter.widget-view+json": {
       "model_id": "94db97ee5f604eb0a9b2b668d9816c43",
       "version_major": 2,
       "version_minor": 0
      },
      "text/plain": [
       "model.safetensors:   0%|          | 0.00/892M [00:00<?, ?B/s]"
      ]
     },
     "metadata": {},
     "output_type": "display_data"
    },
    {
     "data": {
      "application/vnd.jupyter.widget-view+json": {
       "model_id": "86aaf4043a2247fc9e17d0fcf2dcc835",
       "version_major": 2,
       "version_minor": 0
      },
      "text/plain": [
       "tokenizer_config.json:   0%|          | 0.00/332 [00:00<?, ?B/s]"
      ]
     },
     "metadata": {},
     "output_type": "display_data"
    },
    {
     "data": {
      "application/vnd.jupyter.widget-view+json": {
       "model_id": "06175368916d4433b0bd033535474d43",
       "version_major": 2,
       "version_minor": 0
      },
      "text/plain": [
       "vocab.json: 0.00B [00:00, ?B/s]"
      ]
     },
     "metadata": {},
     "output_type": "display_data"
    },
    {
     "data": {
      "application/vnd.jupyter.widget-view+json": {
       "model_id": "027075da4fc44ab19e83cc5648bee614",
       "version_major": 2,
       "version_minor": 0
      },
      "text/plain": [
       "merges.txt: 0.00B [00:00, ?B/s]"
      ]
     },
     "metadata": {},
     "output_type": "display_data"
    },
    {
     "data": {
      "application/vnd.jupyter.widget-view+json": {
       "model_id": "0c53d9de88d0468f9811707e92cf77d1",
       "version_major": 2,
       "version_minor": 0
      },
      "text/plain": [
       "special_tokens_map.json:   0%|          | 0.00/239 [00:00<?, ?B/s]"
      ]
     },
     "metadata": {},
     "output_type": "display_data"
    },
    {
     "data": {
      "application/vnd.jupyter.widget-view+json": {
       "model_id": "ba8a77b786164de89999bd336dce46da",
       "version_major": 2,
       "version_minor": 0
      },
      "text/plain": [
       "tokenizer.json: 0.00B [00:00, ?B/s]"
      ]
     },
     "metadata": {},
     "output_type": "display_data"
    },
    {
     "data": {
      "application/vnd.jupyter.widget-view+json": {
       "model_id": "a409f4536cd1445eb258cd36b9e130a9",
       "version_major": 2,
       "version_minor": 0
      },
      "text/plain": [
       "config.json: 0.00B [00:00, ?B/s]"
      ]
     },
     "metadata": {},
     "output_type": "display_data"
    },
    {
     "data": {
      "application/vnd.jupyter.widget-view+json": {
       "model_id": "4e3893b8be3947aba5fb013d80b7ca09",
       "version_major": 2,
       "version_minor": 0
      },
      "text/plain": [
       "model.safetensors:   0%|          | 0.00/1.63G [00:00<?, ?B/s]"
      ]
     },
     "metadata": {},
     "output_type": "display_data"
    },
    {
     "name": "stdout",
     "output_type": "stream",
     "text": [
      "Paraphrasing models loaded: PEGASUS, T5-Paraphrase, BART-Paraphrase.\n"
     ]
    }
   ],
   "source": [
    "pegasus_para_tokenizer = PegasusTokenizer.from_pretrained('tuner007/pegasus_paraphrase')\n",
    "pegasus_para_model = PegasusForConditionalGeneration.from_pretrained('tuner007/pegasus_paraphrase')\n",
    "paraphrase_t5_tokenizer = T5Tokenizer.from_pretrained('Vamsi/T5_Paraphrase_Paws')\n",
    "paraphrase_t5_model = T5ForConditionalGeneration.from_pretrained('Vamsi/T5_Paraphrase_Paws')\n",
    "paraphrase_bart_tokenizer = BartTokenizer.from_pretrained('eugenesiow/bart-paraphrase')\n",
    "paraphrase_bart_model = BartForConditionalGeneration.from_pretrained('eugenesiow/bart-paraphrase')\n",
    "print(\"Paraphrasing models loaded: PEGASUS, T5-Paraphrase, BART-Paraphrase.\")"
   ]
  },
  {
   "cell_type": "markdown",
   "metadata": {
    "id": "sSI553Cui9pv"
   },
   "source": [
    "### Section 0.4: Load Similarity Model\n",
    "Load SentenceTransformer for similarity."
   ]
  },
  {
   "cell_type": "code",
   "execution_count": 4,
   "metadata": {
    "colab": {
     "base_uri": "https://localhost:8080/",
     "height": 386,
     "referenced_widgets": [
      "8477a506bb59405d8c69f7704d5fce57",
      "1b97aa1bdcd347aba11794e4e88e7da2",
      "c92b19ee523c45cbabbbbdb23cba3bb3",
      "23e011f7e97a417baa67fde3f98488a6",
      "5502abdae0b9428f866f7bf4ed93caa9",
      "2681bacd14044f449ec192c01f7e5260",
      "5b464684c6bb460f847449ae68715434",
      "88ffcabcf6cc4f06be18bf76edbdeafd",
      "6ba8b3842d89459ca68820861cdafa11",
      "8f46a9c168074151b36b23f873fec34a",
      "3f2adf1d9d94472d83355fcd16e44984",
      "87985d9a456045e6a3a543704ad5e94d",
      "f4d52203b48642c89f62544a4bdb292f",
      "676c62ef06264a2181695bbe1f7f3d32",
      "f443444c30964a99befc2888d69c21a7",
      "30844dfa4e8a4258a82ec02ca079a349",
      "a03375aa90f341bb9e53ffeb83df5c02",
      "14188486285146b78958060fc4f6c9dd",
      "e5c973c1b4e248cdaeb7feed80d1d96d",
      "db251bdffe4948f58ec2dccc877a6b6b",
      "19d075aafbce44b7bf87a69e6a1e0cfb",
      "255fdd8662494fc8a17118ab31765175",
      "b5e6a8df11df4dfb91e49b77672370ed",
      "b0cd9d03b7f046e99d68fd0cc0031f70",
      "2051706bb47845fcb4a7a6983a032b12",
      "7999caa24a6149e69b583624f213d9b0",
      "87a811cd90a6434c80f1545577d013df",
      "09dd530922c44e5eaa3ecd4cba59267b",
      "b7640217430342c78ef550b82dbe2a99",
      "ca34d7d3ab7d4ae182e34c4412a0849d",
      "34cf58e5b6024ee8b7ed2d8d94d8ce39",
      "1461b065a4e447639b9b319379a59b78",
      "315a82e0676846ae9aecc271f2b89486",
      "364c3590ecfd40d8b422606ac31d8c6e",
      "233a56c842af427995c6c4f18f355b0d",
      "c13d8cb88b824fa3a8b9750c4b523cb9",
      "dcaef4384f734dcdb6f99cde142c781b",
      "8cf3d9a4fc754322b941b5d295a47d48",
      "0d6662a901f34f6fad2e909b51191b6d",
      "f0ed1db89089465cae36a8f93eb40dd8",
      "b5eee010e09145be8dcdc747ec361b3a",
      "64074782b86f4548a0388a9701195ee5",
      "89fa712c4a994f4380eec8be9cc950e6",
      "21957549ad68455784a21c8c71366475",
      "02aa4893eac8463c8ecf3a187caa11ab",
      "3185753114e34295bd0e0651115c75aa",
      "4db6bcfd58bf4a9399f0846175af819e",
      "00e8985d9c0d470fae846898e274bd6f",
      "088d38133b904e2cb3e7665dd8c3b851",
      "f5f5c6bde24646ba955dc85db50b1c43",
      "7e42191db640484cb0e096bf7dabae53",
      "81e39df138f14361a7b3dd83de25eae8",
      "9075c8580f0946538878e99bb71f15ec",
      "7cd45aef551044e7a1fa3b812d8a439a",
      "453f7f2e20e64003aa4c9f43b5941334",
      "996b0147c06f428fbafd917b4714854e",
      "b32baa8f32c74afaa4f42344a10e3c2a",
      "ff77d77595744f9db7ae7a854bdcb65c",
      "e233be9d8cd349c782f04f3b17a26920",
      "331960846a284489a03cc02ee081cacc",
      "265f5130d0f14bb5ac71cfc0431095c4",
      "173c160fc30b459181115d9e8cab982d",
      "6fe15f0f6b2642b7aa164cda7125f10d",
      "c6fca04fc67d4307a3e544699c58770e",
      "c7924ba9de084c4f84cfa1bf6116bdb2",
      "1898667f90bb480283f7474d3df1ff2c",
      "34c492e43f5347768c77eaf2ef26f611",
      "9f7732a75e7149a0aa2c4100d0fb3c10",
      "958e39c6f9ca451e9522a914e10411c2",
      "8927da8a355f4343bc1f3f5c5f25acc6",
      "b10b1c9f831244ffb3e4d2ee35d3d1b3",
      "57cc54f005714432b1133453e09b2b77",
      "9156f2aced1443a892456ae1036b462c",
      "30efce5075cc4f219ec20357e5d0d703",
      "c2139b4ea2c94461a62e6c0115b43b9c",
      "b91e84483b174fe9ab507b331fb934a2",
      "77089757c13c464a84bd83a07f7df229",
      "995686c0b1864906ac2fd3516b611b09",
      "03d2825c5f244c4c8a0af7b45f07fece",
      "33da6a2a4440486e991837f75ac65527",
      "f70833f27ac14592a603df159102eefb",
      "72049d63e0ca49feb6d06058f0cf1d46",
      "061e225308bd4b24ae4fbd3eb1de4b3c",
      "7fd077e4e84e42aa89352d6211180649",
      "a5ad2dacf505456189330a97e366c26b",
      "5667e44ecbb047eb9a815ca6a43cc807",
      "4f74be09ba0241479a8252ea013b1ce3",
      "72efad7cf38a4ee3afe3f4ce356ddedb",
      "207fae4361cb4eeca6d70e376b2b814f",
      "15da507eb6454246ae1a2e78482cd498",
      "eda09e7fec5641099d955f9a863f73d7",
      "ea712d0e34434b458e9efb8b3a0c9123",
      "6e825cccac2242838aed6c9315ba6942",
      "fa6fe2bed3a0406a94e0530a74ed601d",
      "f7e6b47cfcef4a6f93c29be49ee7db20",
      "581270513e3948a09368c1009b2022cc",
      "f953ba354c954b5ab044856058219e92",
      "ba02eade38fa45f49189794ca4c074a0",
      "135d75885e0c48c39edc6879385dfeb5",
      "f97f644caef2440fa70ba56349e810f8",
      "97a4e1fecf28454eb7947a348bfe4a89",
      "3a471196547c4b3794d605302c9df54c",
      "203e60c2b7f445f883d74e6b8216a089",
      "4d0313d4dd8b4311b2e9a2044cff7eff",
      "25a0c6fe9a2847adad96971535b49e52",
      "c490bfa7a72947d49df651089e83f5b5",
      "3c013f694be541919c34aa801b105a34",
      "5167e61686384cef8234b557cbc08211",
      "a39532139f41481bb6680d339e8c6905",
      "31cfc17bba744022801dd96c2b6f3e66",
      "2113eb3fede1462f91fbedbc3e62a1c6",
      "d4f239cca3fb4846b28693f6fcf055aa",
      "1a2cbbcbc1af40cea48b25f6be82e388",
      "2cb74b06e2e44cc4ab085db2fc09de8c",
      "59086f1712aa474aa5e025bf16072f79",
      "ff322a8c9a414335a05b8c4723a52d78",
      "22f8cb3e9b92451786bf38c1abe96d66",
      "b2e5f70f815d4a9887ae71aa4d0e3823",
      "9664268d7b7e437ead502cd3ff8507e5",
      "03051e40af1a4d2994f9c7178eb72977",
      "37ca040f9b7240708c6b49931c09aa8f"
     ]
    },
    "id": "rK5pQrF8i-dT",
    "outputId": "b1c6df2c-a5cc-4b70-d447-1b7ec85c625f"
   },
   "outputs": [
    {
     "data": {
      "application/vnd.jupyter.widget-view+json": {
       "model_id": "8477a506bb59405d8c69f7704d5fce57",
       "version_major": 2,
       "version_minor": 0
      },
      "text/plain": [
       "modules.json:   0%|          | 0.00/349 [00:00<?, ?B/s]"
      ]
     },
     "metadata": {},
     "output_type": "display_data"
    },
    {
     "data": {
      "application/vnd.jupyter.widget-view+json": {
       "model_id": "87985d9a456045e6a3a543704ad5e94d",
       "version_major": 2,
       "version_minor": 0
      },
      "text/plain": [
       "config_sentence_transformers.json:   0%|          | 0.00/116 [00:00<?, ?B/s]"
      ]
     },
     "metadata": {},
     "output_type": "display_data"
    },
    {
     "data": {
      "application/vnd.jupyter.widget-view+json": {
       "model_id": "b5e6a8df11df4dfb91e49b77672370ed",
       "version_major": 2,
       "version_minor": 0
      },
      "text/plain": [
       "README.md: 0.00B [00:00, ?B/s]"
      ]
     },
     "metadata": {},
     "output_type": "display_data"
    },
    {
     "data": {
      "application/vnd.jupyter.widget-view+json": {
       "model_id": "364c3590ecfd40d8b422606ac31d8c6e",
       "version_major": 2,
       "version_minor": 0
      },
      "text/plain": [
       "sentence_bert_config.json:   0%|          | 0.00/53.0 [00:00<?, ?B/s]"
      ]
     },
     "metadata": {},
     "output_type": "display_data"
    },
    {
     "data": {
      "application/vnd.jupyter.widget-view+json": {
       "model_id": "02aa4893eac8463c8ecf3a187caa11ab",
       "version_major": 2,
       "version_minor": 0
      },
      "text/plain": [
       "config.json:   0%|          | 0.00/612 [00:00<?, ?B/s]"
      ]
     },
     "metadata": {},
     "output_type": "display_data"
    },
    {
     "data": {
      "application/vnd.jupyter.widget-view+json": {
       "model_id": "996b0147c06f428fbafd917b4714854e",
       "version_major": 2,
       "version_minor": 0
      },
      "text/plain": [
       "model.safetensors:   0%|          | 0.00/90.9M [00:00<?, ?B/s]"
      ]
     },
     "metadata": {},
     "output_type": "display_data"
    },
    {
     "data": {
      "application/vnd.jupyter.widget-view+json": {
       "model_id": "34c492e43f5347768c77eaf2ef26f611",
       "version_major": 2,
       "version_minor": 0
      },
      "text/plain": [
       "tokenizer_config.json:   0%|          | 0.00/350 [00:00<?, ?B/s]"
      ]
     },
     "metadata": {},
     "output_type": "display_data"
    },
    {
     "data": {
      "application/vnd.jupyter.widget-view+json": {
       "model_id": "995686c0b1864906ac2fd3516b611b09",
       "version_major": 2,
       "version_minor": 0
      },
      "text/plain": [
       "vocab.txt: 0.00B [00:00, ?B/s]"
      ]
     },
     "metadata": {},
     "output_type": "display_data"
    },
    {
     "data": {
      "application/vnd.jupyter.widget-view+json": {
       "model_id": "207fae4361cb4eeca6d70e376b2b814f",
       "version_major": 2,
       "version_minor": 0
      },
      "text/plain": [
       "tokenizer.json: 0.00B [00:00, ?B/s]"
      ]
     },
     "metadata": {},
     "output_type": "display_data"
    },
    {
     "data": {
      "application/vnd.jupyter.widget-view+json": {
       "model_id": "f97f644caef2440fa70ba56349e810f8",
       "version_major": 2,
       "version_minor": 0
      },
      "text/plain": [
       "special_tokens_map.json:   0%|          | 0.00/112 [00:00<?, ?B/s]"
      ]
     },
     "metadata": {},
     "output_type": "display_data"
    },
    {
     "data": {
      "application/vnd.jupyter.widget-view+json": {
       "model_id": "2113eb3fede1462f91fbedbc3e62a1c6",
       "version_major": 2,
       "version_minor": 0
      },
      "text/plain": [
       "config.json:   0%|          | 0.00/190 [00:00<?, ?B/s]"
      ]
     },
     "metadata": {},
     "output_type": "display_data"
    },
    {
     "name": "stdout",
     "output_type": "stream",
     "text": [
      " Similarity model loaded.\n"
     ]
    }
   ],
   "source": [
    "similarity_model = SentenceTransformer('all-MiniLM-L6-v2')\n",
    "print(\" Similarity model loaded.\")"
   ]
  },
  {
   "cell_type": "markdown",
   "metadata": {
    "id": "EMGnDj2OjAxg"
   },
   "source": [
    "## Part 1: Text Input Processing\n",
    "### Section 1.1: Load Single Text File\n",
    "Load and clean a text file from a URL."
   ]
  },
  {
   "cell_type": "code",
   "execution_count": 5,
   "metadata": {
    "id": "LWigWKhFjFAL"
   },
   "outputs": [],
   "source": [
    "def load_text_file(url):\n",
    "    \"\"\"Load and clean text from a URL.\"\"\"\n",
    "    try:\n",
    "        response = requests.get(url, timeout=30)\n",
    "        response.raise_for_status()\n",
    "        text = response.text\n",
    "        # Clean Gutenberg headers/footers\n",
    "        start_idx = max([text.find(marker) for marker in [\"*** START OF\", \"CHAPTER\"]] + [0])\n",
    "        end_idx = text.find(\"*** END OF\")\n",
    "        if start_idx > 0 and end_idx > 0:\n",
    "            text = text[start_idx:end_idx]\n",
    "        if len(text) < 100:\n",
    "            raise ValueError(\"Text is too short.\")\n",
    "        return text.strip(), \"Text file\"\n",
    "    except Exception as e:\n",
    "        print(f\"Error loading text from {url}: {e}\")\n",
    "        fallback = \"\"\"Natural Language Processing enables computers to understand human language.\"\"\"\n",
    "        return fallback, \"Fallback text\""
   ]
  },
  {
   "cell_type": "markdown",
   "metadata": {
    "id": "iJ3hz-DFjJiM"
   },
   "source": [
    "### Section 1.2: Validate Text Input\n",
    "Validate text length and content."
   ]
  },
  {
   "cell_type": "code",
   "execution_count": 6,
   "metadata": {
    "id": "V-Arv89mjM5j"
   },
   "outputs": [],
   "source": [
    "def validate_text(text):\n",
    "    \"\"\"Validate text input.\"\"\"\n",
    "    if not isinstance(text, str) or len(text.strip()) < 50:\n",
    "        raise ValueError(\"Invalid text: must be a string with at least 50 characters.\")\n",
    "    return text"
   ]
  },
  {
   "cell_type": "markdown",
   "metadata": {
    "id": "U9lJUUltjPQg"
   },
   "source": [
    "### Section 1.3: Load Multiple Text Files\n",
    "Load two text files for processing."
   ]
  },
  {
   "cell_type": "code",
   "execution_count": 7,
   "metadata": {
    "id": "ID481QGZjSsC"
   },
   "outputs": [],
   "source": [
    "def load_multiple_text_files(urls):\n",
    "    \"\"\"Load multiple text files with validation.\"\"\"\n",
    "    if len(urls) != 2:\n",
    "        raise ValueError(\"Exactly two URLs must be provided.\")\n",
    "    texts = {}\n",
    "    for i, url in enumerate(urls, 1):\n",
    "        text, source = load_text_file(url)\n",
    "        text = validate_text(text)\n",
    "        texts[f\"Text {i}\"] = {'text': text[:50000], 'source': source}  # Limit size\n",
    "    return texts"
   ]
  },
  {
   "cell_type": "markdown",
   "metadata": {
    "id": "gjtIBn2JjX3M"
   },
   "source": [
    "### Section 1.4: Test Text Loading\n",
    "Load and preview two Gutenberg texts."
   ]
  },
  {
   "cell_type": "code",
   "execution_count": 8,
   "metadata": {
    "colab": {
     "base_uri": "https://localhost:8080/"
    },
    "id": "DFcGylwIjY9o",
    "outputId": "afe96c4d-2ba9-42cc-bd2f-e033a17b0e59"
   },
   "outputs": [
    {
     "name": "stdout",
     "output_type": "stream",
     "text": [
      "Text 1 (Text file): 50,000 characters\n",
      "Preview: CHAPTER I.     Down the Rabbit-Hole\n",
      " CHAPTER II.    The Pool of Tears\n",
      " CHAPTER III.   A Caucus-Race and a Long Tale\n",
      " CHAPTER IV.    The Rabbit Sends i...\n",
      "Text 2 (Text file): 50,000 characters\n",
      "Preview: *** START OF THE PROJECT GUTENBERG EBOOK THE ADVENTURES OF SHERLOCK\r\n",
      "HOLMES ***\r\n",
      "\r\n",
      "\r\n",
      "\r\n",
      "\r\n",
      "The Adventures of Sherlock Holmes\r\n",
      "\r\n",
      "by Arthur Conan Doyle\r\n",
      "\r",
      "...\n"
     ]
    }
   ],
   "source": [
    "file_urls = [\n",
    "    \"https://www.gutenberg.org/files/11/11-0.txt\",   # Alice's Adventures in Wonderland\n",
    "    \"https://www.gutenberg.org/files/1661/1661-0.txt\"  # The Adventures of Sherlock Holmes\n",
    "]\n",
    "\n",
    "loaded_texts = load_multiple_text_files(file_urls)\n",
    "for key, data in loaded_texts.items():\n",
    "    print(f\"{key} ({data['source']}): {len(data['text']):,} characters\")\n",
    "    print(f\"Preview: {data['text'][:150]}...\")"
   ]
  },
  {
   "cell_type": "markdown",
   "metadata": {
    "id": "brJXyI6yjbtp"
   },
   "source": [
    "## Part 2: Core Analysis Components\n",
    "### Section 2.1: T5 Summarization\n",
    "Summarize text using T5."
   ]
  },
  {
   "cell_type": "code",
   "execution_count": 9,
   "metadata": {
    "id": "T6xztHMzjeoC"
   },
   "outputs": [],
   "source": [
    "def generate_t5_summary(text, min_len=40, max_len=150, beams=4):\n",
    "    \"\"\"Abstractive summarization with T5.\"\"\"\n",
    "    input_text = \"summarize: \" + text.strip().replace(\"\\n\", \" \")\n",
    "    inputs = t5_tokenizer.encode(input_text, return_tensors='pt', max_length=1024, truncation=True)\n",
    "    summary_ids = t5_model.generate(\n",
    "        inputs,\n",
    "        max_length=max_len,\n",
    "        min_length=min_len,\n",
    "        num_beams=beams,\n",
    "        no_repeat_ngram_size=3,\n",
    "        length_penalty=2.0,\n",
    "        early_stopping=True\n",
    "    )\n",
    "    return t5_tokenizer.decode(summary_ids[0], skip_special_tokens=True)\n",
    "def clean_text(text):\n",
    "    \"\"\"Remove special characters and normalize whitespace.\"\"\"\n",
    "    text = re.sub(r'[^\\x00-\\x7F]+', ' ', text)  # Remove non-ASCII characters\n",
    "    text = re.sub(r'\\s+', ' ', text)  # Normalize whitespace\n",
    "    return text.strip()"
   ]
  },
  {
   "cell_type": "markdown",
   "metadata": {
    "id": "lvAjCpv_jku1"
   },
   "source": [
    "### Section 2.2: BART Summarization\n",
    "Summarize text using BART."
   ]
  },
  {
   "cell_type": "code",
   "execution_count": 10,
   "metadata": {
    "id": "jXnJC-wNjl1A"
   },
   "outputs": [],
   "source": [
    "def generate_bart_summary(text, min_len=40, max_len=150, beams=4):\n",
    "    \"\"\"Abstractive summarization with BART.\"\"\"\n",
    "    inputs = bart_tokenizer.encode(text, return_tensors='pt', max_length=1024, truncation=True)\n",
    "    summary_ids = bart_model.generate(\n",
    "        inputs,\n",
    "        max_length=max_len,\n",
    "        min_length=min_len,\n",
    "        num_beams=beams,\n",
    "        no_repeat_ngram_size=3,\n",
    "        length_penalty=2.0,\n",
    "        early_stopping=True\n",
    "    )\n",
    "    return bart_tokenizer.decode(summary_ids[0], skip_special_tokens=True)"
   ]
  },
  {
   "cell_type": "markdown",
   "metadata": {
    "id": "lUL-BMTojpDf"
   },
   "source": [
    "### Section 2.3: PEGASUS Summarization\n",
    "Summarize text using PEGASUS."
   ]
  },
  {
   "cell_type": "code",
   "execution_count": 11,
   "metadata": {
    "id": "erKxAroQjul3"
   },
   "outputs": [],
   "source": [
    "def generate_pegasus_summary(text, min_len=40, max_len=150, beams=4):\n",
    "    \"\"\"Abstractive summarization with PEGASUS.\"\"\"\n",
    "    # Clean and truncate input to prevent tokenization issues\n",
    "    text = clean_text(text[:1500])  # Stricter truncation to 1500 chars\n",
    "    try:\n",
    "        inputs = pegasus_sum_tokenizer.encode(\n",
    "            text,\n",
    "            return_tensors='pt',\n",
    "            max_length=512,  # Reduced max_length for safety\n",
    "            truncation=True,\n",
    "            padding='max_length'  # Ensure consistent input size\n",
    "        )\n",
    "        # Validate token IDs\n",
    "        if inputs.max().item() >= pegasus_sum_tokenizer.vocab_size:\n",
    "            raise ValueError(f\"Token ID {inputs.max().item()} exceeds vocab size {pegasus_sum_tokenizer.vocab_size}.\")\n",
    "        summary_ids = pegasus_sum_model.generate(\n",
    "            inputs,\n",
    "            max_length=max_len,\n",
    "            min_length=min_len,\n",
    "            num_beams=beams,\n",
    "            no_repeat_ngram_size=3,\n",
    "            length_penalty=2.0,\n",
    "            early_stopping=True\n",
    "        )\n",
    "        return pegasus_sum_tokenizer.decode(summary_ids[0], skip_special_tokens=True)\n",
    "    except Exception as e:\n",
    "        print(f\"PEGASUS summarization failed: {e}\")\n",
    "        return \"Summary unavailable due to processing error.\""
   ]
  },
  {
   "cell_type": "markdown",
   "metadata": {
    "id": "IywgPGxfjyCT"
   },
   "source": [
    "### Section 2.4: PEGASUS Paraphrasing\n",
    "Generate paraphrases using PEGASUS."
   ]
  },
  {
   "cell_type": "code",
   "execution_count": 12,
   "metadata": {
    "id": "VEXAsUhWj0K7"
   },
   "outputs": [],
   "source": [
    "def generate_pegasus_paraphrase(text, num_return=3, beams=10):\n",
    "    \"\"\"Generate paraphrases with PEGASUS.\"\"\"\n",
    "    inputs = pegasus_para_tokenizer.encode(text, return_tensors='pt', truncation=True, max_length=60)\n",
    "    paraphrase_ids = pegasus_para_model.generate(\n",
    "        inputs,\n",
    "        max_length=60,\n",
    "        num_beams=beams,\n",
    "        num_return_sequences=num_return,\n",
    "        early_stopping=True\n",
    "    )\n",
    "    return pegasus_para_tokenizer.batch_decode(paraphrase_ids, skip_special_tokens=True)"
   ]
  },
  {
   "cell_type": "markdown",
   "metadata": {
    "id": "OaZP2Yudj6TK"
   },
   "source": [
    "### Section 2.5: T5 Paraphrasing\n",
    "Generate paraphrases using T5-Paraphrase."
   ]
  },
  {
   "cell_type": "code",
   "execution_count": 13,
   "metadata": {
    "id": "uqN4KPlxj7Ij"
   },
   "outputs": [],
   "source": [
    "def generate_t5_paraphrase(text, num_return=3, beams=10):\n",
    "    \"\"\"Generate paraphrases with T5-Paraphrase.\"\"\"\n",
    "    input_text = f\"paraphrase: {text} </s>\"\n",
    "    inputs = paraphrase_t5_tokenizer.encode(input_text, return_tensors='pt', max_length=512, truncation=True)\n",
    "    paraphrase_ids = paraphrase_t5_model.generate(\n",
    "        inputs,\n",
    "        max_length=60,\n",
    "        num_beams=beams,\n",
    "        num_return_sequences=num_return,\n",
    "        early_stopping=True\n",
    "    )\n",
    "    return paraphrase_t5_tokenizer.batch_decode(paraphrase_ids, skip_special_tokens=True)"
   ]
  },
  {
   "cell_type": "markdown",
   "metadata": {
    "id": "hyvg3h5qkBnJ"
   },
   "source": [
    "### Section 2.6: BART Paraphrasing\n",
    "Generate paraphrases using BART-Paraphrase."
   ]
  },
  {
   "cell_type": "code",
   "execution_count": 14,
   "metadata": {
    "id": "wuYhp9q2kCcl"
   },
   "outputs": [],
   "source": [
    "def generate_bart_paraphrase(text, num_return=3, beams=10):\n",
    "    \"\"\"Generate paraphrases with BART-Paraphrase.\"\"\"\n",
    "    inputs = paraphrase_bart_tokenizer.encode(text, return_tensors='pt', truncation=True, max_length=60)\n",
    "    paraphrase_ids = paraphrase_bart_model.generate(\n",
    "        inputs,\n",
    "        max_length=60,\n",
    "        num_beams=beams,\n",
    "        num_return_sequences=num_return,\n",
    "        early_stopping=True\n",
    "    )\n",
    "    return paraphrase_bart_tokenizer.batch_decode(paraphrase_ids, skip_special_tokens=True)"
   ]
  },
  {
   "cell_type": "markdown",
   "metadata": {
    "id": "b0O2Qs3DkHD5"
   },
   "source": [
    "### Section 2.7: Similarity Analysis\n",
    "Compute semantic similarity."
   ]
  },
  {
   "cell_type": "code",
   "execution_count": 15,
   "metadata": {
    "id": "DcH5JhqhkHu5"
   },
   "outputs": [],
   "source": [
    "def compute_similarity(text1, text2):\n",
    "    \"\"\"Compute cosine similarity between texts.\"\"\"\n",
    "    embeddings = similarity_model.encode([text1, text2])\n",
    "    return cosine_similarity([embeddings[0]], [embeddings[1]])[0][0]"
   ]
  },
  {
   "cell_type": "markdown",
   "metadata": {
    "id": "jVwBdE9tkLDg"
   },
   "source": [
    "## Part 3: Enhanced Model Comparison\n",
    "### Section 3.1: Summary Length Analysis\n",
    "Compute summary length."
   ]
  },
  {
   "cell_type": "code",
   "execution_count": 16,
   "metadata": {
    "id": "tI6FLsq0kNWH"
   },
   "outputs": [],
   "source": [
    "def analyze_summary_length(summary):\n",
    "    \"\"\"Compute word count of summary.\"\"\"\n",
    "    return len(summary.split())  # Simple split instead of NLTK tokenization"
   ]
  },
  {
   "cell_type": "markdown",
   "metadata": {
    "id": "56u6ccYWkSQ1"
   },
   "source": [
    "### Section 3.2: Similarity to Original\n",
    "Compute similarity to original text."
   ]
  },
  {
   "cell_type": "code",
   "execution_count": 17,
   "metadata": {
    "id": "iWR2WO3YkUfI"
   },
   "outputs": [],
   "source": [
    "def similarity_to_original(summary, original_text):\n",
    "    \"\"\"Compute similarity between summary and original.\"\"\"\n",
    "    return compute_similarity(summary, original_text[:2000])"
   ]
  },
  {
   "cell_type": "markdown",
   "metadata": {
    "id": "ytOszqKGkYPj"
   },
   "source": [
    "### Section 3.3: Enhanced Summarization Comparison\n",
    "Compare T5, BART, and PEGASUS for summarization."
   ]
  },
  {
   "cell_type": "code",
   "execution_count": 18,
   "metadata": {
    "id": "2mErKEJEkZEw"
   },
   "outputs": [],
   "source": [
    "def compare_summarizers_enhanced(text, min_len=40, max_len=150, beams=4):\n",
    "    \"\"\"Enhanced comparison of T5, BART, and PEGASUS for summarization.\"\"\"\n",
    "    t5_sum = generate_t5_summary(text[:2000], min_len, max_len, beams)\n",
    "    bart_sum = generate_bart_summary(text[:2000], min_len, max_len, beams)\n",
    "    pegasus_sum = generate_pegasus_summary(text[:2000], min_len, max_len, beams)\n",
    "\n",
    "    metrics = {\n",
    "        't5': {\n",
    "            'summary': t5_sum,\n",
    "            'length': analyze_summary_length(t5_sum),\n",
    "            'sim_to_original': similarity_to_original(t5_sum, text)\n",
    "        },\n",
    "        'bart': {\n",
    "            'summary': bart_sum,\n",
    "            'length': analyze_summary_length(bart_sum),\n",
    "            'sim_to_original': similarity_to_original(bart_sum, text)\n",
    "        },\n",
    "        'pegasus': {\n",
    "            'summary': pegasus_sum,\n",
    "            'length': analyze_summary_length(pegasus_sum),\n",
    "            'sim_to_original': similarity_to_original(pegasus_sum, text)\n",
    "        },\n",
    "        'sim_t5_bart': compute_similarity(t5_sum, bart_sum),\n",
    "        'sim_t5_pegasus': compute_similarity(t5_sum, pegasus_sum),\n",
    "        'sim_bart_pegasus': compute_similarity(bart_sum, pegasus_sum)\n",
    "    }\n",
    "\n",
    "    print(\"----------- Enhanced Summarization Comparison -----------\")\n",
    "    print(f\"T5 Summary (Length: {metrics['t5']['length']}, Sim to Original: {metrics['t5']['sim_to_original']:.3f}):\")\n",
    "    print(textwrap.fill(t5_sum, width=100))\n",
    "    print(f\"\\nBART Summary (Length: {metrics['bart']['length']}, Sim to Original: {metrics['bart']['sim_to_original']:.3f}):\")\n",
    "    print(textwrap.fill(bart_sum, width=100))\n",
    "    print(f\"\\nPEGASUS Summary (Length: {metrics['pegasus']['length']}, Sim to Original: {metrics['pegasus']['sim_to_original']:.3f}):\")\n",
    "    print(textwrap.fill(pegasus_sum, width=100))\n",
    "    print(f\"\\nSimilarity T5 vs BART: {metrics['sim_t5_bart']:.3f}\")\n",
    "    print(f\"Similarity T5 vs PEGASUS: {metrics['sim_t5_pegasus']:.3f}\")\n",
    "    print(f\"Similarity BART vs PEGASUS: {metrics['sim_bart_pegasus']:.3f}\")\n",
    "\n",
    "    return metrics"
   ]
  },
  {
   "cell_type": "markdown",
   "metadata": {
    "id": "aZOLpEnqkjyj"
   },
   "source": [
    "### Section 3.4: Enhanced Paraphrasing Comparison\n",
    "Compare PEGASUS, T5-Paraphrase, and BART-Paraphrase."
   ]
  },
  {
   "cell_type": "code",
   "execution_count": 19,
   "metadata": {
    "id": "5tCRtDqjkmol"
   },
   "outputs": [],
   "source": [
    "def compare_paraphrasers_enhanced(text, num_return=3, beams=10):\n",
    "    \"\"\"Enhanced comparison of PEGASUS, T5-Paraphrase, and BART-Paraphrase.\"\"\"\n",
    "    peg_paras = generate_pegasus_paraphrase(text, num_return, beams)\n",
    "    t5_paras = generate_t5_paraphrase(text, num_return, beams)\n",
    "    bart_paras = generate_bart_paraphrase(text, num_return, beams)\n",
    "\n",
    "    metrics = {\n",
    "        'pegasus': {\n",
    "            'paraphrases': peg_paras,\n",
    "            'avg_length': sum(len(p.split()) for p in peg_paras) / len(peg_paras),\n",
    "            'avg_sim_to_original': sum(compute_similarity(p, text) for p in peg_paras) / len(peg_paras)\n",
    "        },\n",
    "        't5_paraphrase': {\n",
    "            'paraphrases': t5_paras,\n",
    "            'avg_length': sum(len(p.split()) for p in t5_paras) / len(t5_paras),\n",
    "            'avg_sim_to_original': sum(compute_similarity(p, text) for p in t5_paras) / len(t5_paras)\n",
    "        },\n",
    "        'bart_paraphrase': {\n",
    "            'paraphrases': bart_paras,\n",
    "            'avg_length': sum(len(p.split()) for p in bart_paras) / len(bart_paras),\n",
    "            'avg_sim_to_original': sum(compute_similarity(p, text) for p in bart_paras) / len(bart_paras)\n",
    "        },\n",
    "        'avg_sim_peg_t5': sum(compute_similarity(peg_paras[i], t5_paras[i]) for i in range(num_return)) / num_return,\n",
    "        'avg_sim_peg_bart': sum(compute_similarity(peg_paras[i], bart_paras[i]) for i in range(num_return)) / num_return,\n",
    "        'avg_sim_t5_bart': sum(compute_similarity(t5_paras[i], bart_paras[i]) for i in range(num_return)) / num_return\n",
    "    }\n",
    "\n",
    "    print(\"----------- Enhanced Paraphrasing Comparison -----------\")\n",
    "    print(f\"PEGASUS Paraphrases (Avg Length: {metrics['pegasus']['avg_length']:.1f}, Avg Sim to Original: {metrics['pegasus']['avg_sim_to_original']:.3f}):\")\n",
    "    for i, p in enumerate(peg_paras, 1):\n",
    "        print(f\"  {i}. {p}\")\n",
    "    print(f\"\\nT5-Paraphrase Paraphrases (Avg Length: {metrics['t5_paraphrase']['avg_length']:.1f}, Avg Sim to Original: {metrics['t5_paraphrase']['avg_sim_to_original']:.3f}):\")\n",
    "    for i, p in enumerate(t5_paras, 1):\n",
    "        print(f\"  {i}. {p}\")\n",
    "    print(f\"\\nBART-Paraphrase Paraphrases (Avg Length: {metrics['bart_paraphrase']['avg_length']:.1f}, Avg Sim to Original: {metrics['bart_paraphrase']['avg_sim_to_original']:.3f}):\")\n",
    "    for i, p in enumerate(bart_paras, 1):\n",
    "        print(f\"  {i}. {p}\")\n",
    "    print(f\"\\nAverage Similarity PEGASUS vs T5-Paraphrase: {metrics['avg_sim_peg_t5']:.3f}\")\n",
    "    print(f\"Average Similarity PEGASUS vs BART-Paraphrase: {metrics['avg_sim_peg_bart']:.3f}\")\n",
    "    print(f\"Average Similarity T5-Paraphrase vs BART-Paraphrase: {metrics['avg_sim_t5_bart']:.3f}\")\n",
    "\n",
    "    return metrics"
   ]
  },
  {
   "cell_type": "markdown",
   "metadata": {
    "id": "TALNNGd4kvyP"
   },
   "source": [
    "## Part 4: Integrated TextMorph Pipeline\n",
    "### Section 4.1: Pipeline Initialization\n",
    "Initialize the pipeline class."
   ]
  },
  {
   "cell_type": "code",
   "execution_count": 20,
   "metadata": {
    "id": "0NOx3wfykyVG"
   },
   "outputs": [],
   "source": [
    "class TextMorphPipeline:\n",
    "    \"\"\"Streamlined TextMorph pipeline for text files, no preprocessing or NLP.\"\"\"\n",
    "\n",
    "    def __init__(self):\n",
    "        self.reference_texts = []\n",
    "\n",
    "    def add_reference(self, text):\n",
    "        \"\"\"Add reference text for similarity.\"\"\"\n",
    "        self.reference_texts.append(text)"
   ]
  },
  {
   "cell_type": "markdown",
   "metadata": {
    "id": "Fv1uzKPKk1Ty"
   },
   "source": [
    "### Section 4.2: Pipeline Summarization Step\n",
    "Summarize in pipeline."
   ]
  },
  {
   "cell_type": "code",
   "execution_count": 21,
   "metadata": {
    "id": "fZbY02Qdk8RR"
   },
   "outputs": [],
   "source": [
    "def pipeline_summarize(self, input_text, summarizer='t5'):\n",
    "    \"\"\"Summarization step in pipeline.\"\"\"\n",
    "    if summarizer == 't5':\n",
    "        summary = generate_t5_summary(input_text)\n",
    "    elif summarizer == 'bart':\n",
    "        summary = generate_bart_summary(input_text)\n",
    "    elif summarizer == 'pegasus':\n",
    "        summary = generate_pegasus_summary(input_text)\n",
    "    else:\n",
    "        raise ValueError(\"Invalid summarizer. Choose 't5', 'bart', or 'pegasus'.\")\n",
    "    return summary, summarizer"
   ]
  },
  {
   "cell_type": "markdown",
   "metadata": {
    "id": "_cRwE7jQk_TD"
   },
   "source": [
    "### Section 4.3: Pipeline Paraphrasing Step\n",
    "Paraphrase in pipeline with comparison."
   ]
  },
  {
   "cell_type": "code",
   "execution_count": 22,
   "metadata": {
    "id": "qAf8trqElB0L"
   },
   "outputs": [],
   "source": [
    "\n",
    "def pipeline_paraphrase(self, input_text, paraphrase_sentences=2):\n",
    "    \"\"\"Paraphrasing step with comparison.\"\"\"\n",
    "    # Simple sentence splitting without NLTK\n",
    "    sentences = re.split(r'[.!?]+', input_text)[:paraphrase_sentences]\n",
    "    sentences = [s.strip() for s in sentences if s.strip()]\n",
    "    paraphrases = {}\n",
    "    for i, sent in enumerate(sentences):\n",
    "        key = f'Sentence {i+1}'\n",
    "        metrics = compare_paraphrasers_enhanced(sent)\n",
    "        paraphrases[key] = {'original': sent[:100] + \"...\", 'metrics': metrics}\n",
    "    return paraphrases"
   ]
  },
  {
   "cell_type": "markdown",
   "metadata": {
    "id": "V8-y7PHplEQC"
   },
   "source": [
    "### Section 4.4: Pipeline Similarity Step\n",
    "Compute similarity in pipeline."
   ]
  },
  {
   "cell_type": "code",
   "execution_count": 23,
   "metadata": {
    "id": "IENpCAPvlGy1"
   },
   "outputs": [],
   "source": [
    "def pipeline_similarity(self, input_text, top_k_similar=2):\n",
    "    \"\"\"Similarity step in pipeline.\"\"\"\n",
    "    if self.reference_texts:\n",
    "        similarities = [(i+1, compute_similarity(input_text[:2000], ref)) for i, ref in enumerate(self.reference_texts)]\n",
    "        similarities.sort(key=lambda x: x[1], reverse=True)\n",
    "        return similarities[:top_k_similar]\n",
    "    return []"
   ]
  },
  {
   "cell_type": "markdown",
   "metadata": {
    "id": "vAL3-1IklJmd"
   },
   "source": [
    "### Section 4.5: Full Pipeline Process\n",
    "Run the full pipeline."
   ]
  },
  {
   "cell_type": "code",
   "execution_count": 24,
   "metadata": {
    "id": "YhtFAFRBlSza"
   },
   "outputs": [],
   "source": [
    "def process(self, input_text, summarizer='t5', paraphrase_sentences=2, top_k_similar=2):\n",
    "    \"\"\"Run the full pipeline.\"\"\"\n",
    "    results = {}\n",
    "\n",
    "    summary, used_summarizer = pipeline_summarize(self, input_text, summarizer)\n",
    "    results['summary'] = summary\n",
    "    results['summarizer_used'] = used_summarizer\n",
    "\n",
    "    results['paraphrases'] = pipeline_paraphrase(self, input_text, paraphrase_sentences)\n",
    "\n",
    "    results['similarities'] = pipeline_similarity(self, input_text, top_k_similar)\n",
    "\n",
    "    return results\n",
    "\n",
    "# Bind methods to class\n",
    "TextMorphPipeline.pipeline_summarize = pipeline_summarize\n",
    "TextMorphPipeline.pipeline_paraphrase = pipeline_paraphrase\n",
    "TextMorphPipeline.pipeline_similarity = pipeline_similarity\n",
    "TextMorphPipeline.process = process\n",
    "\n",
    "# Initialize\n",
    "pipeline = TextMorphPipeline()"
   ]
  },
  {
   "cell_type": "markdown",
   "metadata": {
    "id": "ZRBPgtRLlV8J"
   },
   "source": [
    "## Part 5: Testing with Text Files\n",
    "### Section 5.1: Add Reference Texts\n",
    "Add references for similarity."
   ]
  },
  {
   "cell_type": "code",
   "execution_count": 25,
   "metadata": {
    "colab": {
     "base_uri": "https://localhost:8080/"
    },
    "id": "zvvsZtKVlXCK",
    "outputId": "94d2fb88-bbe1-4243-b7d4-ab4ff5d0823a"
   },
   "outputs": [
    {
     "name": "stdout",
     "output_type": "stream",
     "text": [
      " Reference texts added.\n"
     ]
    }
   ],
   "source": [
    "pipeline.add_reference(\"Natural Language Processing powers modern AI applications.\")\n",
    "pipeline.add_reference(\"Machine learning enhances text analysis capabilities.\")\n",
    "print(\" Reference texts added.\")"
   ]
  },
  {
   "cell_type": "markdown",
   "metadata": {
    "id": "cIEFjjk8lY_r"
   },
   "source": [
    "### Section 5.2: Process First Text (T5)\n",
    "Run pipeline with T5 on first text."
   ]
  },
  {
   "cell_type": "code",
   "execution_count": 26,
   "metadata": {
    "colab": {
     "base_uri": "https://localhost:8080/"
    },
    "id": "ZEejdf_zlcFF",
    "outputId": "d4b8e4d8-c78c-4849-f80b-8caefaee469f"
   },
   "outputs": [
    {
     "name": "stderr",
     "output_type": "stream",
     "text": [
      "/usr/local/lib/python3.12/dist-packages/transformers/models/t5/tokenization_t5.py:287: UserWarning: This sequence already has </s>. In future versions this behavior may lead to duplicated eos tokens being added.\n",
      "  warnings.warn(\n"
     ]
    },
    {
     "name": "stdout",
     "output_type": "stream",
     "text": [
      "----------- Enhanced Paraphrasing Comparison -----------\n",
      "PEGASUS Paraphrases (Avg Length: 2.3, Avg Sim to Original: 0.916):\n",
      "  1. Chapter I.\n",
      "  2. Chapter I\n",
      "  3. Chapter I begins.\n",
      "\n",
      "T5-Paraphrase Paraphrases (Avg Length: 2.0, Avg Sim to Original: 0.551):\n",
      "  1. CHAPTER I\n",
      "  2. CHAPITRE I\n",
      "  3. CHAPTTER I\n",
      "\n",
      "BART-Paraphrase Paraphrases (Avg Length: 2.3, Avg Sim to Original: 0.913):\n",
      "  1. CHAPTER I\n",
      "  2. CHAPTER 1\n",
      "  3. CHAPTER _ I\n",
      "\n",
      "Average Similarity PEGASUS vs T5-Paraphrase: 0.507\n",
      "Average Similarity PEGASUS vs BART-Paraphrase: 0.836\n",
      "Average Similarity T5-Paraphrase vs BART-Paraphrase: 0.499\n"
     ]
    },
    {
     "name": "stderr",
     "output_type": "stream",
     "text": [
      "/usr/local/lib/python3.12/dist-packages/transformers/models/t5/tokenization_t5.py:287: UserWarning: This sequence already has </s>. In future versions this behavior may lead to duplicated eos tokens being added.\n",
      "  warnings.warn(\n"
     ]
    },
    {
     "name": "stdout",
     "output_type": "stream",
     "text": [
      "----------- Enhanced Paraphrasing Comparison -----------\n",
      "PEGASUS Paraphrases (Avg Length: 7.0, Avg Sim to Original: 0.883):\n",
      "  1. Chapter 2 of Down the Rabbit-Hole.\n",
      "  2. Chapter 2 is called Down the Rabbit-Hole.\n",
      "  3. The second chapter is called Down the Rabbit-Hole.\n",
      "\n",
      "T5-Paraphrase Paraphrases (Avg Length: 4.7, Avg Sim to Original: 0.990):\n",
      "  1. Down the Rabbit-Hole CHAPTER II\n",
      "  2. Down Rabbit-Hole CHAPTER II\n",
      "  3. Down the rabbit-hole CHAPTER II\n",
      "\n",
      "BART-Paraphrase Paraphrases (Avg Length: 5.7, Avg Sim to Original: 0.986):\n",
      "  1. Down the rabbit hole CHAPTER II\n",
      "  2. Down the rabbit hole chapter II\n",
      "  3. Down the rabbit-hole CHAPTER II\n",
      "\n",
      "Average Similarity PEGASUS vs T5-Paraphrase: 0.873\n",
      "Average Similarity PEGASUS vs BART-Paraphrase: 0.879\n",
      "Average Similarity T5-Paraphrase vs BART-Paraphrase: 0.978\n",
      "----------- T5 on First Text (Frankenstein) -----------\n",
      "Summary: the rabbit-hole went straight on like a tunnel for some way, and then dipped suddenly down . \"I\n",
      "wonder how many miles I’ve fallen by this time,\" said Alice . the rabbit was a sailor, but she had\n",
      "no idea what latitude or longitude she had got to .\n"
     ]
    }
   ],
   "source": [
    "first_text = loaded_texts['Text 1']['text']\n",
    "results_t5_first = pipeline.process(first_text, summarizer='t5')\n",
    "print(\"----------- T5 on First Text (Frankenstein) -----------\")\n",
    "print(f\"Summary: {textwrap.fill(results_t5_first['summary'], width=100)}\")"
   ]
  },
  {
   "cell_type": "markdown",
   "metadata": {
    "id": "GwXLK4uwlf4Z"
   },
   "source": [
    "### Section 5.3: Process Second Text (PEGASUS)\n",
    "Run pipeline with PEGASUS on second text."
   ]
  },
  {
   "cell_type": "code",
   "execution_count": 27,
   "metadata": {
    "colab": {
     "base_uri": "https://localhost:8080/"
    },
    "id": "zvG4By8Slg7Q",
    "outputId": "d91a218a-19dc-4a51-9136-51a451b3da2a"
   },
   "outputs": [
    {
     "name": "stderr",
     "output_type": "stream",
     "text": [
      "/usr/local/lib/python3.12/dist-packages/transformers/models/t5/tokenization_t5.py:287: UserWarning: This sequence already has </s>. In future versions this behavior may lead to duplicated eos tokens being added.\n",
      "  warnings.warn(\n"
     ]
    },
    {
     "name": "stdout",
     "output_type": "stream",
     "text": [
      "----------- Enhanced Paraphrasing Comparison -----------\n",
      "PEGASUS Paraphrases (Avg Length: 13.0, Avg Sim to Original: 0.741):\n",
      "  1. The ADVENTURES OF SHERLOCK HOLMES is a book about the adventures of the fictional detective.\n",
      "  2. The ADVENTURES OF SHERLOCK HOLMES is the first book in the series.\n",
      "  3. The ADVENTURES OF SHERLOCK HOLMES is the first book in the project.\n",
      "\n",
      "T5-Paraphrase Paraphrases (Avg Length: 22.3, Avg Sim to Original: 0.993):\n",
      "  1. *** START OF THE PROJECT GUTENBERG EBOOK THE ADVENTURES OF SHERLOCK HOLMES *** The adventures of Sherlock Holmes by Arthur Conan Doyle Contents\n",
      "  2. *** START OF PROJECT GUTENBERG EBOOK THE ADVENTURES OF SHERLOCK HOLMES *** The Adventures of Sherlock Holmes by Arthur Conan Doyle Contents\n",
      "  3. *** START OF PROJECT GUTENBERG EBOOK THE ADVENTURES OF SHERLOCK HOLMES *** The adventures of Sherlock Holmes by Arthur Conan Doyle Contents\n",
      "\n",
      "BART-Paraphrase Paraphrases (Avg Length: 18.0, Avg Sim to Original: 0.796):\n",
      "  1. *** START OF THE PROJECT GUTENBERG EBOOK THE ADVENTURES OF SHERLOCKISUALHOLMES ***\tTEXTURETEXTURETEXTURE\t\tThe Adventures of Sherlock Holmes�౼౱ౄ్౅�\n",
      "  2. *** START OF THE PROJECT GUTENBERG EBOOK THE ADVENTURES OF SHERLOCKISUALHOLMES ***\tTEXTURETEXTURETEXTURE\t\tThe Adventures of Sherlock Holmes�౼౱ౄ్౟�\n",
      "  3. *** START OF THE PROJECT GUTENBERG EBOOK THE ADVENTURES OF SHERLOCKISUALHOLMES ***\tTEXTURETEXTURETEXTURE\t\tThe Adventures of Sherlock Holmes�౼౱ౄ౅౟�\n",
      "\n",
      "Average Similarity PEGASUS vs T5-Paraphrase: 0.751\n",
      "Average Similarity PEGASUS vs BART-Paraphrase: 0.595\n",
      "Average Similarity T5-Paraphrase vs BART-Paraphrase: 0.781\n"
     ]
    },
    {
     "name": "stderr",
     "output_type": "stream",
     "text": [
      "/usr/local/lib/python3.12/dist-packages/transformers/models/t5/tokenization_t5.py:287: UserWarning: This sequence already has </s>. In future versions this behavior may lead to duplicated eos tokens being added.\n",
      "  warnings.warn(\n"
     ]
    },
    {
     "name": "stdout",
     "output_type": "stream",
     "text": [
      "----------- Enhanced Paraphrasing Comparison -----------\n",
      "PEGASUS Paraphrases (Avg Length: 6.7, Avg Sim to Original: 0.955):\n",
      "  1. There was a scandal in Bohemia II.\n",
      "  2. There was a scandal in Bohemia.\n",
      "  3. There was a Scandal in Bohemia II.\n",
      "\n",
      "T5-Paraphrase Paraphrases (Avg Length: 4.7, Avg Sim to Original: 0.994):\n",
      "  1. A scandal in Bohemia II\n",
      "  2. A Scandal in Bohemia II\n",
      "  3. Scandal in Bohemia II\n",
      "\n",
      "BART-Paraphrase Paraphrases (Avg Length: 5.0, Avg Sim to Original: 0.979):\n",
      "  1. A scandal in Bohemia   II\n",
      "  2. A scandal in Bohemia?\n",
      "  3. A Scandal in Bohemia, Part II\n",
      "\n",
      "Average Similarity PEGASUS vs T5-Paraphrase: 0.951\n",
      "Average Similarity PEGASUS vs BART-Paraphrase: 0.958\n",
      "Average Similarity T5-Paraphrase vs BART-Paraphrase: 0.973\n",
      "----------- PEGASUS on Second Text (Pride and Prejudice) -----------\n",
      "Summary: The Adventures of Sherlock Holmes by Arthur Conan Doyle is published by Random House, a division of\n",
      "Random House Inc., in the United States and Canada, and is available to buy online at www.Random\n",
      "House.com.\n"
     ]
    }
   ],
   "source": [
    "second_text = loaded_texts['Text 2']['text']\n",
    "results_pegasus_second = pipeline.process(second_text, summarizer='pegasus')\n",
    "print(\"----------- PEGASUS on Second Text (Pride and Prejudice) -----------\")\n",
    "print(f\"Summary: {textwrap.fill(results_pegasus_second['summary'], width=100)}\")"
   ]
  },
  {
   "cell_type": "markdown",
   "metadata": {
    "id": "pv1-YYqjljmu"
   },
   "source": [
    "### Section 5.4: Enhanced Comparison on Both Texts\n",
    "Compare T5, BART, and PEGASUS on both texts."
   ]
  },
  {
   "cell_type": "code",
   "execution_count": 28,
   "metadata": {
    "colab": {
     "base_uri": "https://localhost:8080/"
    },
    "id": "N-SzvgGJlmwl",
    "outputId": "a36a4946-61c0-4357-e2c3-7b0e772bbfe5"
   },
   "outputs": [
    {
     "name": "stdout",
     "output_type": "stream",
     "text": [
      "----------- Enhanced Summarization Comparison on First Text -----------\n",
      "----------- Enhanced Summarization Comparison -----------\n",
      "T5 Summary (Length: 39, Sim to Original: 0.579):\n",
      "the rabbit-hole went straight on like a tunnel for so long . the rabbit snatched a watch out of its\n",
      "waistcoat-pocket and hurried on . it was a pity that the rabbit didn't know what it was doing .\n",
      "\n",
      "BART Summary (Length: 76, Sim to Original: 0.700):\n",
      "CHAPTER I.    … Down the Rabbit-Hole� CHAPTER II. Â  The Pool of Tears� CHAMPION CHAPTER III. I  A\n",
      "Caucus-Race and a Long Tale of the Rabbit’s Story▬ CHAPTER IV. ,  The Rabbit Sends in a Little\n",
      "Billing-Basket, CHAPTER V.  �   Advice from a Caterpillar on the Road to the White Rabbit's\n",
      "House,CHAPTER VI,   Pig and Pepper Channels CHAPTER VII.  … A Mad Tea-Party, ChannelsCHAPTER VIII.\n",
      "The Queen and Her Croquet-Ground ChannelsChannelsCHAT CHAPTER IX.  !  The Mock\n",
      "\n",
      "PEGASUS Summary (Length: 34, Sim to Original: 0.385):\n",
      "Alice's Adventures in Wonderland is published by Little, Brown and Company, a division of The Walt\n",
      "Disney Company, on 7 March 2017 in the United States, and on 15 March 2016 in the UK.\n",
      "\n",
      "Similarity T5 vs BART: 0.538\n",
      "Similarity T5 vs PEGASUS: 0.164\n",
      "Similarity BART vs PEGASUS: 0.269\n",
      "----------- Enhanced Summarization Comparison on Second Text -----------\n",
      "----------- Enhanced Summarization Comparison -----------\n",
      "T5 Summary (Length: 52, Sim to Original: 0.718):\n",
      "the adventures of Sherlock Holmes by Arthur Conan Doyle . robert gutenberg: to Sherlock Holmes she\n",
      "is always _the_ woman. he never spoke of the softer passions, save with a gibe and a sneer . but\n",
      "there was only one woman to him, and that woman was the late Irene Adler .\n",
      "\n",
      "BART Summary (Length: 77, Sim to Original: 0.707):\n",
      "*** START OF THE PROJECT GUTENBERG EBOOK THE ADVENTURES OF SHERLOCKFINESTFINESTHOLMES ***\n",
      "extingescriptionescriptionescription   I.    The Adventures of Sherlock Holmes and the late Irene\n",
      "Adler, of dubious and questionable memory. *** exting extingescriptionI. A SCANDAL IN BOHEMIA ***\n",
      "extingacebook   II. Â  A Scandal in Bohemia exting exting exting▬   III.  .  The Red-Headed League\n",
      "Palestin Palestin exting exting   IV.  , The Boscombe Valley Mystery Leban Leban Leban   V. ,  The\n",
      "Five Orange Pips Leban Palestin Palestin Palestin   VI. .\n",
      "\n",
      "PEGASUS Summary (Length: 35, Sim to Original: 0.545):\n",
      "The Adventures of Sherlock Holmes by Arthur Conan Doyle is published by Random House, a division of\n",
      "Random House Inc., in the United States and Canada, and is available to buy online at www.Random\n",
      "House.com.\n",
      "\n",
      "Similarity T5 vs BART: 0.461\n",
      "Similarity T5 vs PEGASUS: 0.510\n",
      "Similarity BART vs PEGASUS: 0.488\n"
     ]
    }
   ],
   "source": [
    "print(\"----------- Enhanced Summarization Comparison on First Text -----------\")\n",
    "comparison_first = compare_summarizers_enhanced(first_text)\n",
    "print(\"----------- Enhanced Summarization Comparison on Second Text -----------\")\n",
    "comparison_second = compare_summarizers_enhanced(second_text)"
   ]
  },
  {
   "cell_type": "markdown",
   "metadata": {
    "id": "76X5XxrdlpU2"
   },
   "source": [
    "## Part 6: Visualization & Insights\n",
    "### Section 6.1: Enhanced Summarization Metrics Plot\n",
    "Visualize T5 vs BART vs PEGASUS metrics."
   ]
  },
  {
   "cell_type": "code",
   "execution_count": 29,
   "metadata": {
    "colab": {
     "base_uri": "https://localhost:8080/",
     "height": 1000
    },
    "id": "2KqCniz5lxLg",
    "outputId": "f31bc0a8-ce3c-4c7f-cea0-2bdb16d440c5"
   },
   "outputs": [
    {
     "data": {
      "image/png": "[encoded data removed]",
      "text/plain": [
       "<Figure size 1000x500 with 2 Axes>"
      ]
     },
     "metadata": {},
     "output_type": "display_data"
    },
    {
     "data": {
      "image/png": "[encoded data removed]",
      "text/plain": [
       "<Figure size 1000x500 with 2 Axes>"
      ]
     },
     "metadata": {},
     "output_type": "display_data"
    }
   ],
   "source": [
    "def plot_enhanced_summarization_comparison(metrics, title=\"Summarization Comparison\"):\n",
    "    \"\"\"Plot enhanced metrics for summarization models.\"\"\"\n",
    "    fig, (ax1, ax2) = plt.subplots(1, 2, figsize=(10, 5))\n",
    "\n",
    "    # Length\n",
    "    ax1.bar(['T5', 'BART', 'PEGASUS'],\n",
    "            [metrics['t5']['length'], metrics['bart']['length'], metrics['pegasus']['length']],\n",
    "            color='gold')\n",
    "    ax1.set_title('Summary Length')\n",
    "\n",
    "    # Similarity to Original\n",
    "    ax2.bar(['T5', 'BART', 'PEGASUS'],\n",
    "            [metrics['t5']['sim_to_original'],\n",
    "             metrics['bart']['sim_to_original'],\n",
    "             metrics['pegasus']['sim_to_original']],\n",
    "            color='lightcoral')\n",
    "    ax2.set_title('Similarity to Original')\n",
    "\n",
    "    plt.suptitle(title, fontsize=14)\n",
    "    plt.tight_layout(rect=[0, 0, 1, 0.95])\n",
    "    plt.show()\n",
    "\n",
    "plot_enhanced_summarization_comparison(comparison_first, title=\"Summarization Comparison (Frankenstein)\")\n",
    "plot_enhanced_summarization_comparison(comparison_second, title=\"Summarization Comparison (Pride and Prejudice)\")"
   ]
  },
  {
   "cell_type": "markdown",
   "metadata": {
    "id": "eT4p46Tclyle"
   },
   "source": [
    "### Section 6.2: Enhanced Paraphrasing Metrics Plot\n",
    "Visualize PEGASUS vs T5-Paraphrase vs BART-Paraphrase metrics."
   ]
  },
  {
   "cell_type": "code",
   "execution_count": 30,
   "metadata": {
    "colab": {
     "base_uri": "https://localhost:8080/",
     "height": 876
    },
    "id": "uWY51Utyl1WP",
    "outputId": "7442837a-b206-49d7-ecb4-4edb52e29fea"
   },
   "outputs": [
    {
     "name": "stderr",
     "output_type": "stream",
     "text": [
      "/usr/local/lib/python3.12/dist-packages/transformers/models/t5/tokenization_t5.py:287: UserWarning: This sequence already has </s>. In future versions this behavior may lead to duplicated eos tokens being added.\n",
      "  warnings.warn(\n"
     ]
    },
    {
     "name": "stdout",
     "output_type": "stream",
     "text": [
      "----------- Enhanced Paraphrasing Comparison -----------\n",
      "PEGASUS Paraphrases (Avg Length: 2.3, Avg Sim to Original: 0.916):\n",
      "  1. Chapter I.\n",
      "  2. Chapter I\n",
      "  3. Chapter I begins.\n",
      "\n",
      "T5-Paraphrase Paraphrases (Avg Length: 2.0, Avg Sim to Original: 0.551):\n",
      "  1. CHAPTER I\n",
      "  2. CHAPITRE I\n",
      "  3. CHAPTTER I\n",
      "\n",
      "BART-Paraphrase Paraphrases (Avg Length: 2.3, Avg Sim to Original: 0.913):\n",
      "  1. CHAPTER I\n",
      "  2. CHAPTER 1\n",
      "  3. CHAPTER _ I\n",
      "\n",
      "Average Similarity PEGASUS vs T5-Paraphrase: 0.507\n",
      "Average Similarity PEGASUS vs BART-Paraphrase: 0.836\n",
      "Average Similarity T5-Paraphrase vs BART-Paraphrase: 0.499\n"
     ]
    },
    {
     "data": {
      "image/png": "[encoded data removed]",
      "text/plain": [
       "<Figure size 1000x500 with 2 Axes>"
      ]
     },
     "metadata": {},
     "output_type": "display_data"
    }
   ],
   "source": [
    "def plot_enhanced_paraphrasing_comparison(metrics, title=\"Paraphrasing Comparison\"):\n",
    "    \"\"\"Plot enhanced metrics for paraphrasing models.\"\"\"\n",
    "    fig, (ax1, ax2) = plt.subplots(1, 2, figsize=(10, 5))\n",
    "\n",
    "    # Average Length\n",
    "    ax1.bar(['PEGASUS', 'T5-Paraphrase', 'BART-Paraphrase'],\n",
    "            [metrics['pegasus']['avg_length'],\n",
    "             metrics['t5_paraphrase']['avg_length'],\n",
    "             metrics['bart_paraphrase']['avg_length']],\n",
    "            color='gold')\n",
    "    ax1.set_title('Average Paraphrase Length')\n",
    "\n",
    "    # Average Similarity to Original\n",
    "    ax2.bar(['PEGASUS', 'T5-Paraphrase', 'BART-Paraphrase'],\n",
    "            [metrics['pegasus']['avg_sim_to_original'],\n",
    "             metrics['t5_paraphrase']['avg_sim_to_original'],\n",
    "             metrics['bart_paraphrase']['avg_sim_to_original']],\n",
    "            color='lightcoral')\n",
    "    ax2.set_title('Average Similarity to Original')\n",
    "\n",
    "    plt.suptitle(title, fontsize=14)\n",
    "    plt.tight_layout(rect=[0, 0, 1, 0.95])\n",
    "    plt.show()\n",
    "\n",
    "# Plot paraphrasing comparison for first sentence of first text\n",
    "first_sentence = re.split(r'[.!?]+', first_text)[0].strip()\n",
    "plot_enhanced_paraphrasing_comparison(compare_paraphrasers_enhanced(first_sentence),\n",
    "                                     title=\"Paraphrasing Comparison (Frankenstein Sentence)\")"
   ]
  },
  {
   "cell_type": "markdown",
   "metadata": {
    "id": "Z4urzFrQpiHi"
   },
   "source": [
    "## Section 7.1:Bigram Analysis\n",
    "Add bigram analysis using simple string splitting."
   ]
  },
  {
   "cell_type": "code",
   "execution_count": 31,
   "metadata": {
    "colab": {
     "base_uri": "https://localhost:8080/"
    },
    "id": "-T4OFs2Mpqwa",
    "outputId": "73722789-79dd-4daa-c99a-fb8acf689dae"
   },
   "outputs": [
    {
     "name": "stdout",
     "output_type": "stream",
     "text": [
      "\n",
      "Bigram Analysis\n",
      "\n",
      "Text 1:\n",
      "Top Bigrams: [('it, and', 4), ('out of', 3), ('CHAPTER I.', 2), ('I. Down', 2), ('Down the', 2)]\n",
      "\n",
      "Text 2:\n",
      "Top Bigrams: [('of the', 7), ('The Adventure', 6), ('Adventure of', 6), ('in a', 3), ('Sherlock Holmes', 2)]\n"
     ]
    }
   ],
   "source": [
    "def analyze_bigrams(text):\n",
    "    \"\"\"Compute top bigrams using string splitting.\"\"\"\n",
    "    text = clean_text(text[:2000])  # Clean and limit for performance\n",
    "    words = text.split()\n",
    "    bigrams = [(words[i], words[i+1]) for i in range(len(words)-1)]\n",
    "    bigram_freq = Counter(bigrams).most_common(5)\n",
    "    return [(f\"{w1} {w2}\", count) for (w1, w2), count in bigram_freq]\n",
    "\n",
    "print(\"\\nBigram Analysis\")\n",
    "for key, data in loaded_texts.items():\n",
    "    print(f\"\\n{key}:\")\n",
    "    bigrams = analyze_bigrams(data['text'])\n",
    "    print(f\"Top Bigrams: {bigrams}\")"
   ]
  },
  {
   "cell_type": "markdown",
   "metadata": {
    "id": "5QXXOjoQp0xR"
   },
   "source": [
    "### Section 7.2: Bigram Visualization\n",
    "Visualize bigram frequencies."
   ]
  },
  {
   "cell_type": "code",
   "execution_count": 32,
   "metadata": {
    "colab": {
     "base_uri": "https://localhost:8080/",
     "height": 797
    },
    "id": "NGEa2XdHp4MY",
    "outputId": "f1fb97ca-8042-4c30-c789-be515bd5ee38"
   },
   "outputs": [
    {
     "data": {
      "image/png": "[encoded data removed]",
      "text/plain": [
       "<Figure size 800x400 with 1 Axes>"
      ]
     },
     "metadata": {},
     "output_type": "display_data"
    },
    {
     "data": {
      "image/png": "[encoded data removed]",
      "text/plain": [
       "<Figure size 800x400 with 1 Axes>"
      ]
     },
     "metadata": {},
     "output_type": "display_data"
    }
   ],
   "source": [
    "def plot_bigrams(bigrams, title=\"Top Bigrams\"):\n",
    "    \"\"\"Plot top bigrams.\"\"\"\n",
    "    if bigrams:\n",
    "        labels, counts = zip(*bigrams)\n",
    "        plt.figure(figsize=(8, 4))\n",
    "        plt.bar(labels, counts, color='teal')\n",
    "        plt.title(title, fontsize=12)\n",
    "        plt.xticks(rotation=45)\n",
    "        plt.tight_layout()\n",
    "        plt.show()\n",
    "\n",
    "for key, data in loaded_texts.items():\n",
    "    bigrams = analyze_bigrams(data['text'])\n",
    "    plot_bigrams(bigrams, title=f\"Top Bigrams ({key})\")"
   ]
  },
  {
   "cell_type": "code",
   "execution_count": 32,
   "metadata": {
    "id": "v9Ot_WfFyTcl"
   },
   "outputs": [],
   "source": []
  }
 ],
 "metadata": {
  "colab": {
   "provenance": []
  },
  "kernelspec": {
   "display_name": "Python 3",
   "name": "python3"
  },
  "language_info": {
   "name": "python"
  }
 },
 "nbformat": 4,
 "nbformat_minor": 0
}
